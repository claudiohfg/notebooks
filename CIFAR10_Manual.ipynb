{
  "nbformat": 4,
  "nbformat_minor": 0,
  "metadata": {
    "colab": {
      "name": "CIFAR10 Manual.ipynb",
      "provenance": [],
      "collapsed_sections": [],
      "authorship_tag": "ABX9TyOxk6sS4FKx7nTPv4v5j+pW",
      "include_colab_link": true
    },
    "kernelspec": {
      "name": "python3",
      "display_name": "Python 3"
    },
    "accelerator": "GPU"
  },
  "cells": [
    {
      "cell_type": "markdown",
      "metadata": {
        "id": "view-in-github",
        "colab_type": "text"
      },
      "source": [
        "<a href=\"https://colab.research.google.com/github/claudiohfg/notebooks/blob/main/CIFAR10_Manual.ipynb\" target=\"_parent\"><img src=\"https://colab.research.google.com/assets/colab-badge.svg\" alt=\"Open In Colab\"/></a>"
      ]
    },
    {
      "cell_type": "markdown",
      "metadata": {
        "id": "AB0UuHeuuYtk"
      },
      "source": [
        "# Load CIFAR-10 classes"
      ]
    },
    {
      "cell_type": "code",
      "metadata": {
        "id": "Hl_75A_ulmAg",
        "colab": {
          "base_uri": "https://localhost:8080/",
          "height": 35
        },
        "outputId": "30387f45-64f2-46f7-b004-765737b208de"
      },
      "source": [
        "import tensorflow as tf\n",
        "tf.__version__"
      ],
      "execution_count": null,
      "outputs": [
        {
          "output_type": "execute_result",
          "data": {
            "application/vnd.google.colaboratory.intrinsic+json": {
              "type": "string"
            },
            "text/plain": [
              "'2.3.0'"
            ]
          },
          "metadata": {
            "tags": []
          },
          "execution_count": 2
        }
      ]
    },
    {
      "cell_type": "code",
      "metadata": {
        "id": "2sK3crZFlqh4",
        "colab": {
          "base_uri": "https://localhost:8080/",
          "height": 35
        },
        "outputId": "e598c161-b512-4c72-b83e-47b70d1aae56"
      },
      "source": [
        "!python --version"
      ],
      "execution_count": null,
      "outputs": [
        {
          "output_type": "stream",
          "text": [
            "Python 3.6.9\n"
          ],
          "name": "stdout"
        }
      ]
    },
    {
      "cell_type": "code",
      "metadata": {
        "id": "t-D_peuT1atH"
      },
      "source": [
        "import pandas as pd\n",
        "df = pd.read_html(\"https://www.cs.toronto.edu/~kriz/cifar.html\")\n",
        "cifar10_classes = df[0][0].values.tolist()\n",
        "cifar10_classes = dict(enumerate(cifar10_classes))"
      ],
      "execution_count": null,
      "outputs": []
    },
    {
      "cell_type": "markdown",
      "metadata": {
        "id": "k9vygGwuud1L"
      },
      "source": [
        "# Load CIFAR-10 datasets"
      ]
    },
    {
      "cell_type": "code",
      "metadata": {
        "id": "UQb71-frBrRg"
      },
      "source": [
        "import tensorflow as tf\n",
        "(X_train, Y_train), (x_test, y_test) = tf.keras.datasets.cifar10.load_data()"
      ],
      "execution_count": null,
      "outputs": []
    },
    {
      "cell_type": "code",
      "metadata": {
        "id": "z9V-DJYnCrxs",
        "colab": {
          "base_uri": "https://localhost:8080/",
          "height": 34
        },
        "outputId": "2371c23b-e882-4875-eed9-2708531ae9df"
      },
      "source": [
        "X_train.shape, Y_train.shape, x_test.shape, y_test.shape"
      ],
      "execution_count": null,
      "outputs": [
        {
          "output_type": "execute_result",
          "data": {
            "text/plain": [
              "((50000, 32, 32, 3), (50000, 1), (10000, 32, 32, 3), (10000, 1))"
            ]
          },
          "metadata": {
            "tags": []
          },
          "execution_count": 27
        }
      ]
    },
    {
      "cell_type": "markdown",
      "metadata": {
        "id": "_nOpQIWeugk9"
      },
      "source": [
        "# Plot some CIFAR-10 images"
      ]
    },
    {
      "cell_type": "code",
      "metadata": {
        "id": "0e2wHV2GJxIz",
        "colab": {
          "base_uri": "https://localhost:8080/",
          "height": 304
        },
        "outputId": "d1477ebe-fb81-4f1a-f931-0b603e27d357"
      },
      "source": [
        "import matplotlib.pyplot as plt\n",
        "import numpy as np\n",
        "\n",
        "imagens = [np.random.randint(X_train.shape[0]) for x in range(4)]\n",
        "fig, axs = plt.subplots(1, 4, figsize=(15, 4), constrained_layout=True)\n",
        "for ax, img in zip(axs, imagens):\n",
        "    ax.imshow(X_train[img])\n",
        "    ax.set_title(f\"{cifar10_classes[Y_train[img][0]]}\")\n",
        "plt.show()"
      ],
      "execution_count": null,
      "outputs": [
        {
          "output_type": "display_data",
          "data": {
            "image/png": "[encoded data removed]",
            "text/plain": [
              "<Figure size 1080x288 with 4 Axes>"
            ]
          },
          "metadata": {
            "tags": [],
            "needs_background": "light"
          }
        }
      ]
    },
    {
      "cell_type": "markdown",
      "metadata": {
        "id": "d7RO8H_Fuk8O"
      },
      "source": [
        "# One hot encode labels & standard scale data\n",
        "\n"
      ]
    },
    {
      "cell_type": "code",
      "metadata": {
        "id": "nz_kAn2uCwM1"
      },
      "source": [
        "Y_train = tf.keras.utils.to_categorical(Y_train, 10)\n",
        "y_test = tf.keras.utils.to_categorical(y_test, 10)\n",
        "\n",
        "X_train = X_train.astype('float32') / 255.0\n",
        "x_test = x_test.astype('float32') / 255.0"
      ],
      "execution_count": null,
      "outputs": []
    },
    {
      "cell_type": "markdown",
      "metadata": {
        "id": "a54AuIu9u5jZ"
      },
      "source": [
        "# Z-score calculation"
      ]
    },
    {
      "cell_type": "code",
      "metadata": {
        "id": "MNAKZSs_FtnZ"
      },
      "source": [
        "import numpy as np\n",
        "\n",
        "mean = np.mean(X_train, axis=(0,1,2,3))\n",
        "std = np.std(X_train, axis=(0,1,2,3))\n",
        "\n",
        "X_train = (X_train - mean)/(std + 1e-7)\n",
        "x_test = (x_test - mean)/(std + 1e-7)"
      ],
      "execution_count": null,
      "outputs": []
    },
    {
      "cell_type": "markdown",
      "metadata": {
        "id": "9I3RLAHJu8Tp"
      },
      "source": [
        "# Train test split data"
      ]
    },
    {
      "cell_type": "code",
      "metadata": {
        "id": "m0L4GCMliiQg"
      },
      "source": [
        "from sklearn.model_selection import train_test_split\n",
        "x_train, x_val, y_train, y_val = train_test_split(\n",
        "    X_train, Y_train, test_size=0.3, random_state=42\n",
        "    )"
      ],
      "execution_count": null,
      "outputs": []
    },
    {
      "cell_type": "markdown",
      "metadata": {
        "id": "goaM2AX_u_iP"
      },
      "source": [
        "# ImageDataGenerator"
      ]
    },
    {
      "cell_type": "code",
      "metadata": {
        "id": "kaKhRuSeP2ZO"
      },
      "source": [
        "train_datagen = tf.keras.preprocessing.image.ImageDataGenerator()\n",
        "BATCH_SIZE = 64\n",
        "train_generator = train_datagen.flow(x_train, y_train, batch_size=BATCH_SIZE)"
      ],
      "execution_count": null,
      "outputs": []
    },
    {
      "cell_type": "markdown",
      "metadata": {
        "id": "FaG4Hi_4wF-P"
      },
      "source": [
        "# Model 1"
      ]
    },
    {
      "cell_type": "code",
      "metadata": {
        "id": "EMMWZL9TI5xQ",
        "colab": {
          "base_uri": "https://localhost:8080/",
          "height": 323
        },
        "outputId": "0e7006f5-6568-40ef-9218-80d426bc1a1e"
      },
      "source": [
        "import tensorflow.keras.layers as L\n",
        "import tensorflow.keras.models as M\n",
        "import tensorflow.keras.optimizers as O\n",
        "\n",
        "model = M.Sequential([\n",
        "    L.Conv2D(filters=8, kernel_size=3, padding=\"same\", activation=\"relu\", \n",
        "             input_shape=x_train.shape[1:]),\n",
        "    L.Conv2D(filters=16, kernel_size=3, padding=\"same\", activation=\"relu\"),\n",
        "    L.Conv2D(filters=32, kernel_size=3, padding=\"same\", activation=\"relu\"),\n",
        "    L.Flatten(),\n",
        "    L.Dense(units=10, activation='softmax')\n",
        "])\n",
        "\n",
        "opt = O.RMSprop(lr=0.001, decay=1e-6)\n",
        "model.compile(\n",
        "    optimizer=opt, loss='categorical_crossentropy', metrics=['accuracy'])\n",
        "\n",
        "model.summary()"
      ],
      "execution_count": null,
      "outputs": [
        {
          "output_type": "stream",
          "text": [
            "Model: \"sequential_4\"\n",
            "_________________________________________________________________\n",
            "Layer (type)                 Output Shape              Param #   \n",
            "=================================================================\n",
            "conv2d_21 (Conv2D)           (None, 32, 32, 8)         224       \n",
            "_________________________________________________________________\n",
            "conv2d_22 (Conv2D)           (None, 32, 32, 16)        1168      \n",
            "_________________________________________________________________\n",
            "conv2d_23 (Conv2D)           (None, 32, 32, 32)        4640      \n",
            "_________________________________________________________________\n",
            "flatten_4 (Flatten)          (None, 32768)             0         \n",
            "_________________________________________________________________\n",
            "dense_8 (Dense)              (None, 10)                327690    \n",
            "=================================================================\n",
            "Total params: 333,722\n",
            "Trainable params: 333,722\n",
            "Non-trainable params: 0\n",
            "_________________________________________________________________\n"
          ],
          "name": "stdout"
        }
      ]
    },
    {
      "cell_type": "code",
      "metadata": {
        "id": "BfTUC9T9vhh5"
      },
      "source": [
        "model.compile(\n",
        "    'sgd', loss='mse', \n",
        "    metrics=[tf.keras.metrics.MeanSquaredError()]\n",
        ")"
      ],
      "execution_count": null,
      "outputs": []
    },
    {
      "cell_type": "code",
      "metadata": {
        "id": "W8Jc-wSDPtKv",
        "colab": {
          "base_uri": "https://localhost:8080/",
          "height": 714
        },
        "outputId": "c3d70b77-7c74-4124-f09a-e9a63f28a6a6"
      },
      "source": [
        "EPOCHS = 20\n",
        "model.fit(\n",
        "    train_generator, steps_per_epoch=x_train.shape[0]//BATCH_SIZE, \n",
        "    epochs=EPOCHS, validation_data=(x_val, y_val), verbose=1\n",
        ")\n"
      ],
      "execution_count": null,
      "outputs": [
        {
          "output_type": "stream",
          "text": [
            "Epoch 1/20\n",
            "546/546 [==============================] - 4s 7ms/step - loss: 1.4735 - accuracy: 0.4827 - val_loss: 1.2010 - val_accuracy: 0.5832\n",
            "Epoch 2/20\n",
            "546/546 [==============================] - 4s 7ms/step - loss: 1.0648 - accuracy: 0.6328 - val_loss: 1.1837 - val_accuracy: 0.5875\n",
            "Epoch 3/20\n",
            "546/546 [==============================] - 4s 7ms/step - loss: 0.8500 - accuracy: 0.7111 - val_loss: 1.0994 - val_accuracy: 0.6231\n",
            "Epoch 4/20\n",
            "546/546 [==============================] - 4s 7ms/step - loss: 0.6817 - accuracy: 0.7711 - val_loss: 1.1142 - val_accuracy: 0.6316\n",
            "Epoch 5/20\n",
            "546/546 [==============================] - 4s 7ms/step - loss: 0.5260 - accuracy: 0.8261 - val_loss: 1.2168 - val_accuracy: 0.6247\n",
            "Epoch 6/20\n",
            "546/546 [==============================] - 4s 7ms/step - loss: 0.3901 - accuracy: 0.8731 - val_loss: 1.3574 - val_accuracy: 0.6166\n",
            "Epoch 7/20\n",
            "546/546 [==============================] - 4s 7ms/step - loss: 0.2725 - accuracy: 0.9120 - val_loss: 1.6097 - val_accuracy: 0.6129\n",
            "Epoch 8/20\n",
            "546/546 [==============================] - 4s 7ms/step - loss: 0.1843 - accuracy: 0.9410 - val_loss: 1.8308 - val_accuracy: 0.6023\n",
            "Epoch 9/20\n",
            "546/546 [==============================] - 4s 7ms/step - loss: 0.1228 - accuracy: 0.9606 - val_loss: 2.1309 - val_accuracy: 0.6014\n",
            "Epoch 10/20\n",
            "546/546 [==============================] - 4s 7ms/step - loss: 0.0837 - accuracy: 0.9745 - val_loss: 2.5383 - val_accuracy: 0.5980\n",
            "Epoch 11/20\n",
            "546/546 [==============================] - 4s 7ms/step - loss: 0.0587 - accuracy: 0.9817 - val_loss: 2.8350 - val_accuracy: 0.5945\n",
            "Epoch 12/20\n",
            "546/546 [==============================] - 4s 7ms/step - loss: 0.0468 - accuracy: 0.9848 - val_loss: 3.0111 - val_accuracy: 0.5955\n",
            "Epoch 13/20\n",
            "546/546 [==============================] - 4s 7ms/step - loss: 0.0353 - accuracy: 0.9886 - val_loss: 3.4128 - val_accuracy: 0.5981\n",
            "Epoch 14/20\n",
            "546/546 [==============================] - 4s 7ms/step - loss: 0.0295 - accuracy: 0.9904 - val_loss: 3.5263 - val_accuracy: 0.5892\n",
            "Epoch 15/20\n",
            "546/546 [==============================] - 4s 7ms/step - loss: 0.0272 - accuracy: 0.9913 - val_loss: 4.0168 - val_accuracy: 0.5769\n",
            "Epoch 16/20\n",
            "546/546 [==============================] - 4s 7ms/step - loss: 0.0254 - accuracy: 0.9911 - val_loss: 3.9898 - val_accuracy: 0.5885\n",
            "Epoch 17/20\n",
            "546/546 [==============================] - 4s 7ms/step - loss: 0.0227 - accuracy: 0.9928 - val_loss: 4.1815 - val_accuracy: 0.5841\n",
            "Epoch 18/20\n",
            "546/546 [==============================] - 4s 7ms/step - loss: 0.0204 - accuracy: 0.9936 - val_loss: 4.7691 - val_accuracy: 0.5771\n",
            "Epoch 19/20\n",
            "546/546 [==============================] - 4s 7ms/step - loss: 0.0170 - accuracy: 0.9947 - val_loss: 4.7065 - val_accuracy: 0.5885\n",
            "Epoch 20/20\n",
            "546/546 [==============================] - 4s 7ms/step - loss: 0.0176 - accuracy: 0.9942 - val_loss: 4.7958 - val_accuracy: 0.5886\n"
          ],
          "name": "stdout"
        },
        {
          "output_type": "execute_result",
          "data": {
            "text/plain": [
              "<tensorflow.python.keras.callbacks.History at 0x7fc592641be0>"
            ]
          },
          "metadata": {
            "tags": []
          },
          "execution_count": 10
        }
      ]
    },
    {
      "cell_type": "code",
      "metadata": {
        "id": "dor5Fgr8mb96",
        "colab": {
          "base_uri": "https://localhost:8080/",
          "height": 714
        },
        "outputId": "cf4d3626-0a41-4cb1-ae2f-9767abf1391e"
      },
      "source": [
        "model.fit(\n",
        "    x_val, y_val, batch_size=BATCH_SIZE, \n",
        "    steps_per_epoch=x_val.shape[0]//BATCH_SIZE, epochs=EPOCHS, verbose=1\n",
        ")"
      ],
      "execution_count": null,
      "outputs": [
        {
          "output_type": "stream",
          "text": [
            "Epoch 1/20\n",
            "234/234 [==============================] - 1s 4ms/step - loss: 1.9076 - accuracy: 0.5254\n",
            "Epoch 2/20\n",
            "234/234 [==============================] - 1s 4ms/step - loss: 1.0177 - accuracy: 0.6596\n",
            "Epoch 3/20\n",
            "234/234 [==============================] - 1s 4ms/step - loss: 0.6894 - accuracy: 0.7704\n",
            "Epoch 4/20\n",
            "234/234 [==============================] - 1s 4ms/step - loss: 0.4377 - accuracy: 0.8616\n",
            "Epoch 5/20\n",
            "234/234 [==============================] - 1s 4ms/step - loss: 0.2589 - accuracy: 0.9239\n",
            "Epoch 6/20\n",
            "234/234 [==============================] - 1s 4ms/step - loss: 0.1336 - accuracy: 0.9662\n",
            "Epoch 7/20\n",
            "234/234 [==============================] - 1s 4ms/step - loss: 0.0611 - accuracy: 0.9861\n",
            "Epoch 8/20\n",
            "234/234 [==============================] - 1s 4ms/step - loss: 0.0284 - accuracy: 0.9942\n",
            "Epoch 9/20\n",
            "234/234 [==============================] - 1s 4ms/step - loss: 0.0122 - accuracy: 0.9977\n",
            "Epoch 10/20\n",
            "234/234 [==============================] - 1s 4ms/step - loss: 0.0070 - accuracy: 0.9983\n",
            "Epoch 11/20\n",
            "234/234 [==============================] - 1s 4ms/step - loss: 0.0046 - accuracy: 0.9989\n",
            "Epoch 12/20\n",
            "234/234 [==============================] - 1s 4ms/step - loss: 0.0020 - accuracy: 0.9994\n",
            "Epoch 13/20\n",
            "234/234 [==============================] - 1s 4ms/step - loss: 0.0017 - accuracy: 0.9996\n",
            "Epoch 14/20\n",
            "234/234 [==============================] - 1s 4ms/step - loss: 0.0028 - accuracy: 0.9992\n",
            "Epoch 15/20\n",
            "234/234 [==============================] - 1s 4ms/step - loss: 9.1435e-04 - accuracy: 0.9998\n",
            "Epoch 16/20\n",
            "234/234 [==============================] - 1s 4ms/step - loss: 7.1350e-04 - accuracy: 0.9998\n",
            "Epoch 17/20\n",
            "234/234 [==============================] - 1s 4ms/step - loss: 8.6089e-04 - accuracy: 0.9998\n",
            "Epoch 18/20\n",
            "234/234 [==============================] - 1s 4ms/step - loss: 9.8982e-04 - accuracy: 0.9998\n",
            "Epoch 19/20\n",
            "234/234 [==============================] - 1s 4ms/step - loss: 0.0014 - accuracy: 0.9997\n",
            "Epoch 20/20\n",
            "234/234 [==============================] - 1s 4ms/step - loss: 8.8642e-04 - accuracy: 0.9997\n"
          ],
          "name": "stdout"
        },
        {
          "output_type": "execute_result",
          "data": {
            "text/plain": [
              "<tensorflow.python.keras.callbacks.History at 0x7fc4d26299b0>"
            ]
          },
          "metadata": {
            "tags": []
          },
          "execution_count": 11
        }
      ]
    },
    {
      "cell_type": "code",
      "metadata": {
        "id": "0suYS-G3lzol",
        "colab": {
          "base_uri": "https://localhost:8080/",
          "height": 34
        },
        "outputId": "8c20a6ca-2f8a-4045-faed-c250388831b5"
      },
      "source": [
        "_, acc = model.evaluate(x_test, y_test, verbose=0)\n",
        "print('> %.3f' % (acc * 100.0))"
      ],
      "execution_count": null,
      "outputs": [
        {
          "output_type": "stream",
          "text": [
            "> 58.630\n"
          ],
          "name": "stdout"
        }
      ]
    },
    {
      "cell_type": "markdown",
      "metadata": {
        "id": "D8iRFIBNxZXJ"
      },
      "source": [
        "# Model 2: more convolutions"
      ]
    },
    {
      "cell_type": "code",
      "metadata": {
        "id": "niNQOBdGP9Vo",
        "colab": {
          "base_uri": "https://localhost:8080/",
          "height": 425
        },
        "outputId": "ae0dd37f-4c3d-4fad-de29-29031adedb19"
      },
      "source": [
        "model = M.Sequential([\n",
        "    L.Conv2D(filters=8, kernel_size=3, padding=\"same\", activation=\"relu\", \n",
        "             input_shape=x_train.shape[1:]),\n",
        "    L.Conv2D(filters=8, kernel_size=3, padding=\"same\", activation=\"relu\"),\n",
        "    L.Conv2D(filters=16, kernel_size=3, padding=\"same\", activation=\"relu\"),\n",
        "    L.Conv2D(filters=16, kernel_size=3, padding=\"same\", activation=\"relu\"),\n",
        "    L.Conv2D(filters=32, kernel_size=3, padding=\"same\", activation=\"relu\"),\n",
        "    L.Conv2D(filters=32, kernel_size=3, padding=\"same\", activation=\"relu\"),\n",
        "    L.Flatten(),\n",
        "    L.Dense(units=10, activation='softmax')\n",
        "])\n",
        "\n",
        "opt = O.RMSprop(lr=0.001, decay=1e-6)\n",
        "model.compile(\n",
        "    optimizer=opt, loss='categorical_crossentropy', metrics=['accuracy'])\n",
        "\n",
        "model.summary()"
      ],
      "execution_count": null,
      "outputs": [
        {
          "output_type": "stream",
          "text": [
            "Model: \"sequential_5\"\n",
            "_________________________________________________________________\n",
            "Layer (type)                 Output Shape              Param #   \n",
            "=================================================================\n",
            "conv2d_24 (Conv2D)           (None, 32, 32, 8)         224       \n",
            "_________________________________________________________________\n",
            "conv2d_25 (Conv2D)           (None, 32, 32, 8)         584       \n",
            "_________________________________________________________________\n",
            "conv2d_26 (Conv2D)           (None, 32, 32, 16)        1168      \n",
            "_________________________________________________________________\n",
            "conv2d_27 (Conv2D)           (None, 32, 32, 16)        2320      \n",
            "_________________________________________________________________\n",
            "conv2d_28 (Conv2D)           (None, 32, 32, 32)        4640      \n",
            "_________________________________________________________________\n",
            "conv2d_29 (Conv2D)           (None, 32, 32, 32)        9248      \n",
            "_________________________________________________________________\n",
            "flatten_5 (Flatten)          (None, 32768)             0         \n",
            "_________________________________________________________________\n",
            "dense_9 (Dense)              (None, 10)                327690    \n",
            "=================================================================\n",
            "Total params: 345,874\n",
            "Trainable params: 345,874\n",
            "Non-trainable params: 0\n",
            "_________________________________________________________________\n"
          ],
          "name": "stdout"
        }
      ]
    },
    {
      "cell_type": "code",
      "metadata": {
        "id": "Mn5cZ2oIkMgQ",
        "colab": {
          "base_uri": "https://localhost:8080/",
          "height": 714
        },
        "outputId": "cfafd5a5-71fa-4aeb-cedf-be123102e257"
      },
      "source": [
        "model.fit(\n",
        "    train_generator, steps_per_epoch=x_train.shape[0]//BATCH_SIZE, \n",
        "    epochs=EPOCHS, validation_data=(x_val, y_val), verbose=1\n",
        ")"
      ],
      "execution_count": null,
      "outputs": [
        {
          "output_type": "stream",
          "text": [
            "Epoch 1/20\n",
            "546/546 [==============================] - 5s 10ms/step - loss: 1.6067 - accuracy: 0.4318 - val_loss: 1.2979 - val_accuracy: 0.5351\n",
            "Epoch 2/20\n",
            "546/546 [==============================] - 5s 9ms/step - loss: 1.1920 - accuracy: 0.5806 - val_loss: 1.2715 - val_accuracy: 0.5630\n",
            "Epoch 3/20\n",
            "546/546 [==============================] - 5s 9ms/step - loss: 1.0025 - accuracy: 0.6508 - val_loss: 1.2321 - val_accuracy: 0.5758\n",
            "Epoch 4/20\n",
            "546/546 [==============================] - 5s 9ms/step - loss: 0.8538 - accuracy: 0.7041 - val_loss: 1.0823 - val_accuracy: 0.6240\n",
            "Epoch 5/20\n",
            "546/546 [==============================] - 5s 9ms/step - loss: 0.7286 - accuracy: 0.7518 - val_loss: 1.1098 - val_accuracy: 0.6313\n",
            "Epoch 6/20\n",
            "546/546 [==============================] - 5s 9ms/step - loss: 0.5917 - accuracy: 0.7992 - val_loss: 1.1373 - val_accuracy: 0.6347\n",
            "Epoch 7/20\n",
            "546/546 [==============================] - 5s 9ms/step - loss: 0.4715 - accuracy: 0.8419 - val_loss: 1.3485 - val_accuracy: 0.6138\n",
            "Epoch 8/20\n",
            "546/546 [==============================] - 5s 10ms/step - loss: 0.3605 - accuracy: 0.8783 - val_loss: 1.4454 - val_accuracy: 0.6279\n",
            "Epoch 9/20\n",
            "546/546 [==============================] - 5s 9ms/step - loss: 0.2658 - accuracy: 0.9112 - val_loss: 1.7696 - val_accuracy: 0.6119\n",
            "Epoch 10/20\n",
            "546/546 [==============================] - 5s 9ms/step - loss: 0.1891 - accuracy: 0.9369 - val_loss: 1.9029 - val_accuracy: 0.6049\n",
            "Epoch 11/20\n",
            "546/546 [==============================] - 5s 9ms/step - loss: 0.1391 - accuracy: 0.9538 - val_loss: 2.2351 - val_accuracy: 0.6068\n",
            "Epoch 12/20\n",
            "546/546 [==============================] - 5s 9ms/step - loss: 0.1042 - accuracy: 0.9647 - val_loss: 2.7985 - val_accuracy: 0.5982\n",
            "Epoch 13/20\n",
            "546/546 [==============================] - 5s 9ms/step - loss: 0.0835 - accuracy: 0.9721 - val_loss: 2.9022 - val_accuracy: 0.6070\n",
            "Epoch 14/20\n",
            "546/546 [==============================] - 5s 9ms/step - loss: 0.0723 - accuracy: 0.9761 - val_loss: 3.5112 - val_accuracy: 0.5962\n",
            "Epoch 15/20\n",
            "546/546 [==============================] - 5s 9ms/step - loss: 0.0650 - accuracy: 0.9791 - val_loss: 3.5400 - val_accuracy: 0.5937\n",
            "Epoch 16/20\n",
            "546/546 [==============================] - 5s 9ms/step - loss: 0.0582 - accuracy: 0.9805 - val_loss: 3.7823 - val_accuracy: 0.5971\n",
            "Epoch 17/20\n",
            "546/546 [==============================] - 5s 9ms/step - loss: 0.0561 - accuracy: 0.9803 - val_loss: 4.0883 - val_accuracy: 0.6045\n",
            "Epoch 18/20\n",
            "546/546 [==============================] - 5s 9ms/step - loss: 0.0568 - accuracy: 0.9819 - val_loss: 4.3271 - val_accuracy: 0.5985\n",
            "Epoch 19/20\n",
            "546/546 [==============================] - 5s 9ms/step - loss: 0.0520 - accuracy: 0.9832 - val_loss: 4.2772 - val_accuracy: 0.5998\n",
            "Epoch 20/20\n",
            "546/546 [==============================] - 5s 9ms/step - loss: 0.0523 - accuracy: 0.9826 - val_loss: 4.6905 - val_accuracy: 0.5991\n"
          ],
          "name": "stdout"
        },
        {
          "output_type": "execute_result",
          "data": {
            "text/plain": [
              "<tensorflow.python.keras.callbacks.History at 0x7fc4d2500588>"
            ]
          },
          "metadata": {
            "tags": []
          },
          "execution_count": 14
        }
      ]
    },
    {
      "cell_type": "code",
      "metadata": {
        "id": "Pac9JrEomuov",
        "colab": {
          "base_uri": "https://localhost:8080/",
          "height": 714
        },
        "outputId": "1e81efc0-73b7-45b7-cf63-59c2093b241b"
      },
      "source": [
        "model.fit(\n",
        "    x_val, y_val, batch_size=BATCH_SIZE,\n",
        "    steps_per_epoch=x_val.shape[0]//BATCH_SIZE, epochs=EPOCHS, verbose=1\n",
        ")"
      ],
      "execution_count": null,
      "outputs": [
        {
          "output_type": "stream",
          "text": [
            "Epoch 1/20\n",
            "234/234 [==============================] - 2s 6ms/step - loss: 1.4058 - accuracy: 0.5702\n",
            "Epoch 2/20\n",
            "234/234 [==============================] - 2s 6ms/step - loss: 0.8931 - accuracy: 0.6918\n",
            "Epoch 3/20\n",
            "234/234 [==============================] - 2s 6ms/step - loss: 0.6371 - accuracy: 0.7825\n",
            "Epoch 4/20\n",
            "234/234 [==============================] - 2s 6ms/step - loss: 0.4353 - accuracy: 0.8600\n",
            "Epoch 5/20\n",
            "234/234 [==============================] - 2s 7ms/step - loss: 0.2630 - accuracy: 0.9189\n",
            "Epoch 6/20\n",
            "234/234 [==============================] - 2s 6ms/step - loss: 0.1411 - accuracy: 0.9586\n",
            "Epoch 7/20\n",
            "234/234 [==============================] - 2s 6ms/step - loss: 0.0719 - accuracy: 0.9796\n",
            "Epoch 8/20\n",
            "234/234 [==============================] - 2s 6ms/step - loss: 0.0407 - accuracy: 0.9888\n",
            "Epoch 9/20\n",
            "234/234 [==============================] - 2s 6ms/step - loss: 0.0246 - accuracy: 0.9921\n",
            "Epoch 10/20\n",
            "234/234 [==============================] - 2s 7ms/step - loss: 0.0177 - accuracy: 0.9946\n",
            "Epoch 11/20\n",
            "234/234 [==============================] - 2s 6ms/step - loss: 0.0185 - accuracy: 0.9934\n",
            "Epoch 12/20\n",
            "234/234 [==============================] - 2s 7ms/step - loss: 0.0150 - accuracy: 0.9952\n",
            "Epoch 13/20\n",
            "234/234 [==============================] - 2s 6ms/step - loss: 0.0173 - accuracy: 0.9946\n",
            "Epoch 14/20\n",
            "234/234 [==============================] - 2s 6ms/step - loss: 0.0108 - accuracy: 0.9968\n",
            "Epoch 15/20\n",
            "234/234 [==============================] - 2s 6ms/step - loss: 0.0129 - accuracy: 0.9960\n",
            "Epoch 16/20\n",
            "234/234 [==============================] - 2s 6ms/step - loss: 0.0116 - accuracy: 0.9962\n",
            "Epoch 17/20\n",
            "234/234 [==============================] - 1s 6ms/step - loss: 0.0141 - accuracy: 0.9958\n",
            "Epoch 18/20\n",
            "234/234 [==============================] - 2s 6ms/step - loss: 0.0164 - accuracy: 0.9944\n",
            "Epoch 19/20\n",
            "234/234 [==============================] - 1s 6ms/step - loss: 0.0132 - accuracy: 0.9963\n",
            "Epoch 20/20\n",
            "234/234 [==============================] - 2s 6ms/step - loss: 0.0154 - accuracy: 0.9957\n"
          ],
          "name": "stdout"
        },
        {
          "output_type": "execute_result",
          "data": {
            "text/plain": [
              "<tensorflow.python.keras.callbacks.History at 0x7fc4d22899e8>"
            ]
          },
          "metadata": {
            "tags": []
          },
          "execution_count": 15
        }
      ]
    },
    {
      "cell_type": "code",
      "metadata": {
        "id": "BqpOlCeVl1H0",
        "colab": {
          "base_uri": "https://localhost:8080/",
          "height": 34
        },
        "outputId": "c2b1cf67-1504-4e8f-e48f-d49824a5017a"
      },
      "source": [
        "_, acc = model.evaluate(x_test, y_test, verbose=0)\n",
        "print('> %.3f' % (acc * 100.0))"
      ],
      "execution_count": null,
      "outputs": [
        {
          "output_type": "stream",
          "text": [
            "> 59.890\n"
          ],
          "name": "stdout"
        }
      ]
    },
    {
      "cell_type": "markdown",
      "metadata": {
        "id": "JmGaaHWGxbHI"
      },
      "source": [
        "# Model 3: max pooling"
      ]
    },
    {
      "cell_type": "code",
      "metadata": {
        "id": "iM3UMErBkNAd",
        "colab": {
          "base_uri": "https://localhost:8080/",
          "height": 527
        },
        "outputId": "9796fe81-2cd6-4e98-87a4-87ad4026747f"
      },
      "source": [
        "model = M.Sequential([\n",
        "    L.Conv2D(filters=8, kernel_size=3, padding=\"same\", activation=\"relu\", \n",
        "             input_shape=x_train.shape[1:]),\n",
        "    L.Conv2D(filters=8, kernel_size=3, padding=\"same\", activation=\"relu\"),\n",
        "    L.MaxPool2D(pool_size=2, strides=2, padding='valid'), \n",
        "\n",
        "    L.Conv2D(filters=16, kernel_size=3, padding=\"same\", activation=\"relu\"),\n",
        "    L.Conv2D(filters=16, kernel_size=3, padding=\"same\", activation=\"relu\"),\n",
        "    L.MaxPool2D(pool_size=2, strides=2, padding='valid'), \n",
        "\n",
        "    L.Conv2D(filters=32, kernel_size=3, padding=\"same\", activation=\"relu\"),\n",
        "    L.Conv2D(filters=32, kernel_size=3, padding=\"same\", activation=\"relu\"),\n",
        "    L.MaxPool2D(pool_size=2, strides=2, padding='valid'), \n",
        "    \n",
        "    L.Flatten(),\n",
        "    L.Dense(units=10, activation='softmax')\n",
        "])\n",
        "\n",
        "opt = O.RMSprop(lr=0.001, decay=1e-6)\n",
        "model.compile(\n",
        "    optimizer=opt, loss='categorical_crossentropy', metrics=['accuracy'])\n",
        "\n",
        "model.summary()"
      ],
      "execution_count": null,
      "outputs": [
        {
          "output_type": "stream",
          "text": [
            "Model: \"sequential_6\"\n",
            "_________________________________________________________________\n",
            "Layer (type)                 Output Shape              Param #   \n",
            "=================================================================\n",
            "conv2d_30 (Conv2D)           (None, 32, 32, 8)         224       \n",
            "_________________________________________________________________\n",
            "conv2d_31 (Conv2D)           (None, 32, 32, 8)         584       \n",
            "_________________________________________________________________\n",
            "max_pooling2d_9 (MaxPooling2 (None, 16, 16, 8)         0         \n",
            "_________________________________________________________________\n",
            "conv2d_32 (Conv2D)           (None, 16, 16, 16)        1168      \n",
            "_________________________________________________________________\n",
            "conv2d_33 (Conv2D)           (None, 16, 16, 16)        2320      \n",
            "_________________________________________________________________\n",
            "max_pooling2d_10 (MaxPooling (None, 8, 8, 16)          0         \n",
            "_________________________________________________________________\n",
            "conv2d_34 (Conv2D)           (None, 8, 8, 32)          4640      \n",
            "_________________________________________________________________\n",
            "conv2d_35 (Conv2D)           (None, 8, 8, 32)          9248      \n",
            "_________________________________________________________________\n",
            "max_pooling2d_11 (MaxPooling (None, 4, 4, 32)          0         \n",
            "_________________________________________________________________\n",
            "flatten_6 (Flatten)          (None, 512)               0         \n",
            "_________________________________________________________________\n",
            "dense_10 (Dense)             (None, 10)                5130      \n",
            "=================================================================\n",
            "Total params: 23,314\n",
            "Trainable params: 23,314\n",
            "Non-trainable params: 0\n",
            "_________________________________________________________________\n"
          ],
          "name": "stdout"
        }
      ]
    },
    {
      "cell_type": "code",
      "metadata": {
        "id": "U5HjVHQdle9n",
        "colab": {
          "base_uri": "https://localhost:8080/",
          "height": 714
        },
        "outputId": "0a178c64-9dff-4f01-af1c-670fe503b3fd"
      },
      "source": [
        "model.fit(\n",
        "    train_generator, steps_per_epoch=x_train.shape[0]//BATCH_SIZE, \n",
        "    epochs=EPOCHS, validation_data=(x_val, y_val), verbose=1\n",
        ")"
      ],
      "execution_count": null,
      "outputs": [
        {
          "output_type": "stream",
          "text": [
            "Epoch 1/20\n",
            "546/546 [==============================] - 4s 8ms/step - loss: 1.7361 - accuracy: 0.3671 - val_loss: 1.4826 - val_accuracy: 0.4656\n",
            "Epoch 2/20\n",
            "546/546 [==============================] - 4s 7ms/step - loss: 1.4213 - accuracy: 0.4896 - val_loss: 1.3302 - val_accuracy: 0.5181\n",
            "Epoch 3/20\n",
            "546/546 [==============================] - 4s 7ms/step - loss: 1.2757 - accuracy: 0.5443 - val_loss: 1.2264 - val_accuracy: 0.5646\n",
            "Epoch 4/20\n",
            "546/546 [==============================] - 4s 7ms/step - loss: 1.1666 - accuracy: 0.5823 - val_loss: 1.1433 - val_accuracy: 0.5922\n",
            "Epoch 5/20\n",
            "546/546 [==============================] - 4s 7ms/step - loss: 1.0820 - accuracy: 0.6174 - val_loss: 1.0674 - val_accuracy: 0.6244\n",
            "Epoch 6/20\n",
            "546/546 [==============================] - 4s 7ms/step - loss: 1.0194 - accuracy: 0.6417 - val_loss: 1.1135 - val_accuracy: 0.6128\n",
            "Epoch 7/20\n",
            "546/546 [==============================] - 4s 7ms/step - loss: 0.9605 - accuracy: 0.6621 - val_loss: 0.9960 - val_accuracy: 0.6530\n",
            "Epoch 8/20\n",
            "546/546 [==============================] - 4s 7ms/step - loss: 0.9190 - accuracy: 0.6776 - val_loss: 0.9743 - val_accuracy: 0.6645\n",
            "Epoch 9/20\n",
            "546/546 [==============================] - 4s 7ms/step - loss: 0.8828 - accuracy: 0.6915 - val_loss: 0.9930 - val_accuracy: 0.6527\n",
            "Epoch 10/20\n",
            "546/546 [==============================] - 4s 7ms/step - loss: 0.8402 - accuracy: 0.7046 - val_loss: 0.9628 - val_accuracy: 0.6667\n",
            "Epoch 11/20\n",
            "546/546 [==============================] - 4s 7ms/step - loss: 0.8173 - accuracy: 0.7137 - val_loss: 0.9953 - val_accuracy: 0.6572\n",
            "Epoch 12/20\n",
            "546/546 [==============================] - 4s 7ms/step - loss: 0.7792 - accuracy: 0.7262 - val_loss: 0.9947 - val_accuracy: 0.6593\n",
            "Epoch 13/20\n",
            "546/546 [==============================] - 4s 7ms/step - loss: 0.7607 - accuracy: 0.7344 - val_loss: 0.9430 - val_accuracy: 0.6757\n",
            "Epoch 14/20\n",
            "546/546 [==============================] - 4s 7ms/step - loss: 0.7364 - accuracy: 0.7425 - val_loss: 0.9767 - val_accuracy: 0.6716\n",
            "Epoch 15/20\n",
            "546/546 [==============================] - 4s 7ms/step - loss: 0.7127 - accuracy: 0.7484 - val_loss: 0.9563 - val_accuracy: 0.6783\n",
            "Epoch 16/20\n",
            "546/546 [==============================] - 4s 7ms/step - loss: 0.6917 - accuracy: 0.7580 - val_loss: 0.9344 - val_accuracy: 0.6821\n",
            "Epoch 17/20\n",
            "546/546 [==============================] - 4s 7ms/step - loss: 0.6761 - accuracy: 0.7657 - val_loss: 0.9536 - val_accuracy: 0.6823\n",
            "Epoch 18/20\n",
            "546/546 [==============================] - 4s 8ms/step - loss: 0.6602 - accuracy: 0.7674 - val_loss: 0.9658 - val_accuracy: 0.6815\n",
            "Epoch 19/20\n",
            "546/546 [==============================] - 4s 8ms/step - loss: 0.6376 - accuracy: 0.7782 - val_loss: 0.9291 - val_accuracy: 0.6891\n",
            "Epoch 20/20\n",
            "546/546 [==============================] - 4s 8ms/step - loss: 0.6250 - accuracy: 0.7818 - val_loss: 0.9356 - val_accuracy: 0.6939\n"
          ],
          "name": "stdout"
        },
        {
          "output_type": "execute_result",
          "data": {
            "text/plain": [
              "<tensorflow.python.keras.callbacks.History at 0x7fc4d2334940>"
            ]
          },
          "metadata": {
            "tags": []
          },
          "execution_count": 18
        }
      ]
    },
    {
      "cell_type": "code",
      "metadata": {
        "id": "DkBx5vAwmwVn",
        "colab": {
          "base_uri": "https://localhost:8080/",
          "height": 714
        },
        "outputId": "5b26055e-64b6-44db-9c28-ff9568859199"
      },
      "source": [
        "model.fit(\n",
        "    x_val, y_val, batch_size=BATCH_SIZE,\n",
        "    steps_per_epoch=x_val.shape[0]//BATCH_SIZE, epochs=EPOCHS, verbose=1\n",
        ")"
      ],
      "execution_count": null,
      "outputs": [
        {
          "output_type": "stream",
          "text": [
            "Epoch 1/20\n",
            "234/234 [==============================] - 1s 5ms/step - loss: 0.9293 - accuracy: 0.6810\n",
            "Epoch 2/20\n",
            "234/234 [==============================] - 1s 4ms/step - loss: 0.8267 - accuracy: 0.7125\n",
            "Epoch 3/20\n",
            "234/234 [==============================] - 1s 4ms/step - loss: 0.7726 - accuracy: 0.7296\n",
            "Epoch 4/20\n",
            "234/234 [==============================] - 1s 4ms/step - loss: 0.7183 - accuracy: 0.7485\n",
            "Epoch 5/20\n",
            "234/234 [==============================] - 1s 4ms/step - loss: 0.6789 - accuracy: 0.7624\n",
            "Epoch 6/20\n",
            "234/234 [==============================] - 1s 5ms/step - loss: 0.6341 - accuracy: 0.7809\n",
            "Epoch 7/20\n",
            "234/234 [==============================] - 1s 4ms/step - loss: 0.5989 - accuracy: 0.7922\n",
            "Epoch 8/20\n",
            "234/234 [==============================] - 1s 5ms/step - loss: 0.5642 - accuracy: 0.8045\n",
            "Epoch 9/20\n",
            "234/234 [==============================] - 1s 5ms/step - loss: 0.5321 - accuracy: 0.8145\n",
            "Epoch 10/20\n",
            "234/234 [==============================] - 1s 4ms/step - loss: 0.4995 - accuracy: 0.8261\n",
            "Epoch 11/20\n",
            "234/234 [==============================] - 1s 4ms/step - loss: 0.4775 - accuracy: 0.8348\n",
            "Epoch 12/20\n",
            "234/234 [==============================] - 1s 4ms/step - loss: 0.4468 - accuracy: 0.8449\n",
            "Epoch 13/20\n",
            "234/234 [==============================] - 1s 5ms/step - loss: 0.4180 - accuracy: 0.8557\n",
            "Epoch 14/20\n",
            "234/234 [==============================] - 1s 4ms/step - loss: 0.4018 - accuracy: 0.8626\n",
            "Epoch 15/20\n",
            "234/234 [==============================] - 1s 4ms/step - loss: 0.3704 - accuracy: 0.8739\n",
            "Epoch 16/20\n",
            "234/234 [==============================] - 1s 4ms/step - loss: 0.3524 - accuracy: 0.8788\n",
            "Epoch 17/20\n",
            "234/234 [==============================] - 1s 4ms/step - loss: 0.3285 - accuracy: 0.8848\n",
            "Epoch 18/20\n",
            "234/234 [==============================] - 1s 5ms/step - loss: 0.3115 - accuracy: 0.8931\n",
            "Epoch 19/20\n",
            "234/234 [==============================] - 1s 4ms/step - loss: 0.2933 - accuracy: 0.9004\n",
            "Epoch 20/20\n",
            "234/234 [==============================] - 1s 4ms/step - loss: 0.2801 - accuracy: 0.9018\n"
          ],
          "name": "stdout"
        },
        {
          "output_type": "execute_result",
          "data": {
            "text/plain": [
              "<tensorflow.python.keras.callbacks.History at 0x7fc4b877b6a0>"
            ]
          },
          "metadata": {
            "tags": []
          },
          "execution_count": 19
        }
      ]
    },
    {
      "cell_type": "code",
      "metadata": {
        "id": "OVkKwN9olfiB",
        "colab": {
          "base_uri": "https://localhost:8080/",
          "height": 34
        },
        "outputId": "23323794-188e-4a24-aef1-9227a42d3bc5"
      },
      "source": [
        "_, acc = model.evaluate(x_test, y_test, verbose=0)\n",
        "print('> %.3f' % (acc * 100.0))"
      ],
      "execution_count": null,
      "outputs": [
        {
          "output_type": "stream",
          "text": [
            "> 66.440\n"
          ],
          "name": "stdout"
        }
      ]
    },
    {
      "cell_type": "markdown",
      "metadata": {
        "id": "9gWckhhuxcsk"
      },
      "source": [
        "# Model 4: batch normalization"
      ]
    },
    {
      "cell_type": "code",
      "metadata": {
        "id": "CpnycrvVnUiJ",
        "colab": {
          "base_uri": "https://localhost:8080/",
          "height": 731
        },
        "outputId": "de69d9b8-5604-4802-d4ca-9b9f9e73856e"
      },
      "source": [
        "model = M.Sequential([\n",
        "    L.Conv2D(filters=8, kernel_size=3, padding=\"same\", activation=\"relu\", \n",
        "             input_shape=x_train.shape[1:]),\n",
        "    L.BatchNormalization(),\n",
        "    L.Conv2D(filters=8, kernel_size=3, padding=\"same\", activation=\"relu\"),\n",
        "    L.BatchNormalization(),\n",
        "    L.MaxPool2D(pool_size=2, strides=2, padding='valid'), \n",
        "\n",
        "    L.Conv2D(filters=16, kernel_size=3, padding=\"same\", activation=\"relu\"),\n",
        "    L.BatchNormalization(),\n",
        "    L.Conv2D(filters=16, kernel_size=3, padding=\"same\", activation=\"relu\"),\n",
        "    L.BatchNormalization(),\n",
        "    L.MaxPool2D(pool_size=2, strides=2, padding='valid'), \n",
        "\n",
        "    L.Conv2D(filters=32, kernel_size=3, padding=\"same\", activation=\"relu\"),\n",
        "    L.BatchNormalization(),\n",
        "    L.Conv2D(filters=32, kernel_size=3, padding=\"same\", activation=\"relu\"),\n",
        "    L.BatchNormalization(),\n",
        "    L.MaxPool2D(pool_size=2, strides=2, padding='valid'), \n",
        "    \n",
        "    L.Flatten(),\n",
        "    L.Dense(units=10, activation='softmax')\n",
        "])\n",
        "\n",
        "opt = O.RMSprop(lr=0.001, decay=1e-6)\n",
        "model.compile(\n",
        "    optimizer=opt, loss='categorical_crossentropy', metrics=['accuracy'])\n",
        "\n",
        "model.summary()"
      ],
      "execution_count": null,
      "outputs": [
        {
          "output_type": "stream",
          "text": [
            "Model: \"sequential_7\"\n",
            "_________________________________________________________________\n",
            "Layer (type)                 Output Shape              Param #   \n",
            "=================================================================\n",
            "conv2d_36 (Conv2D)           (None, 32, 32, 8)         224       \n",
            "_________________________________________________________________\n",
            "batch_normalization_22 (Batc (None, 32, 32, 8)         32        \n",
            "_________________________________________________________________\n",
            "conv2d_37 (Conv2D)           (None, 32, 32, 8)         584       \n",
            "_________________________________________________________________\n",
            "batch_normalization_23 (Batc (None, 32, 32, 8)         32        \n",
            "_________________________________________________________________\n",
            "max_pooling2d_12 (MaxPooling (None, 16, 16, 8)         0         \n",
            "_________________________________________________________________\n",
            "conv2d_38 (Conv2D)           (None, 16, 16, 16)        1168      \n",
            "_________________________________________________________________\n",
            "batch_normalization_24 (Batc (None, 16, 16, 16)        64        \n",
            "_________________________________________________________________\n",
            "conv2d_39 (Conv2D)           (None, 16, 16, 16)        2320      \n",
            "_________________________________________________________________\n",
            "batch_normalization_25 (Batc (None, 16, 16, 16)        64        \n",
            "_________________________________________________________________\n",
            "max_pooling2d_13 (MaxPooling (None, 8, 8, 16)          0         \n",
            "_________________________________________________________________\n",
            "conv2d_40 (Conv2D)           (None, 8, 8, 32)          4640      \n",
            "_________________________________________________________________\n",
            "batch_normalization_26 (Batc (None, 8, 8, 32)          128       \n",
            "_________________________________________________________________\n",
            "conv2d_41 (Conv2D)           (None, 8, 8, 32)          9248      \n",
            "_________________________________________________________________\n",
            "batch_normalization_27 (Batc (None, 8, 8, 32)          128       \n",
            "_________________________________________________________________\n",
            "max_pooling2d_14 (MaxPooling (None, 4, 4, 32)          0         \n",
            "_________________________________________________________________\n",
            "flatten_7 (Flatten)          (None, 512)               0         \n",
            "_________________________________________________________________\n",
            "dense_11 (Dense)             (None, 10)                5130      \n",
            "=================================================================\n",
            "Total params: 23,762\n",
            "Trainable params: 23,538\n",
            "Non-trainable params: 224\n",
            "_________________________________________________________________\n"
          ],
          "name": "stdout"
        }
      ]
    },
    {
      "cell_type": "code",
      "metadata": {
        "id": "-IjQXXBGoScW",
        "colab": {
          "base_uri": "https://localhost:8080/",
          "height": 714
        },
        "outputId": "1e092fad-f47d-4f65-a49c-1bfaba6cb5f1"
      },
      "source": [
        "model.fit(\n",
        "    train_generator, steps_per_epoch=x_train.shape[0]//BATCH_SIZE, \n",
        "    epochs=EPOCHS, validation_data=(x_val, y_val), verbose=1\n",
        ")"
      ],
      "execution_count": null,
      "outputs": [
        {
          "output_type": "stream",
          "text": [
            "Epoch 1/20\n",
            "546/546 [==============================] - 5s 9ms/step - loss: 1.6201 - accuracy: 0.4341 - val_loss: 1.3383 - val_accuracy: 0.5259\n",
            "Epoch 2/20\n",
            "546/546 [==============================] - 5s 8ms/step - loss: 1.1916 - accuracy: 0.5763 - val_loss: 1.1304 - val_accuracy: 0.5947\n",
            "Epoch 3/20\n",
            "546/546 [==============================] - 5s 8ms/step - loss: 1.0375 - accuracy: 0.6317 - val_loss: 1.0447 - val_accuracy: 0.6316\n",
            "Epoch 4/20\n",
            "546/546 [==============================] - 5s 8ms/step - loss: 0.9312 - accuracy: 0.6708 - val_loss: 1.0135 - val_accuracy: 0.6493\n",
            "Epoch 5/20\n",
            "546/546 [==============================] - 5s 8ms/step - loss: 0.8507 - accuracy: 0.7021 - val_loss: 0.9387 - val_accuracy: 0.6784\n",
            "Epoch 6/20\n",
            "546/546 [==============================] - 5s 8ms/step - loss: 0.7942 - accuracy: 0.7229 - val_loss: 0.9197 - val_accuracy: 0.6839\n",
            "Epoch 7/20\n",
            "546/546 [==============================] - 5s 8ms/step - loss: 0.7428 - accuracy: 0.7398 - val_loss: 0.9085 - val_accuracy: 0.6897\n",
            "Epoch 8/20\n",
            "546/546 [==============================] - 5s 9ms/step - loss: 0.7090 - accuracy: 0.7511 - val_loss: 0.8980 - val_accuracy: 0.6940\n",
            "Epoch 9/20\n",
            "546/546 [==============================] - 5s 9ms/step - loss: 0.6730 - accuracy: 0.7643 - val_loss: 0.9092 - val_accuracy: 0.6914\n",
            "Epoch 10/20\n",
            "546/546 [==============================] - 5s 8ms/step - loss: 0.6439 - accuracy: 0.7757 - val_loss: 0.9225 - val_accuracy: 0.6980\n",
            "Epoch 11/20\n",
            "546/546 [==============================] - 5s 8ms/step - loss: 0.6188 - accuracy: 0.7842 - val_loss: 0.9109 - val_accuracy: 0.7002\n",
            "Epoch 12/20\n",
            "546/546 [==============================] - 5s 8ms/step - loss: 0.5938 - accuracy: 0.7921 - val_loss: 0.9455 - val_accuracy: 0.6921\n",
            "Epoch 13/20\n",
            "546/546 [==============================] - 5s 9ms/step - loss: 0.5644 - accuracy: 0.8024 - val_loss: 0.9339 - val_accuracy: 0.7019\n",
            "Epoch 14/20\n",
            "546/546 [==============================] - 5s 8ms/step - loss: 0.5482 - accuracy: 0.8078 - val_loss: 0.9117 - val_accuracy: 0.7060\n",
            "Epoch 15/20\n",
            "546/546 [==============================] - 5s 9ms/step - loss: 0.5311 - accuracy: 0.8135 - val_loss: 0.9530 - val_accuracy: 0.7042\n",
            "Epoch 16/20\n",
            "546/546 [==============================] - 5s 9ms/step - loss: 0.5077 - accuracy: 0.8204 - val_loss: 1.0322 - val_accuracy: 0.6899\n",
            "Epoch 17/20\n",
            "546/546 [==============================] - 5s 9ms/step - loss: 0.4961 - accuracy: 0.8246 - val_loss: 0.9806 - val_accuracy: 0.6972\n",
            "Epoch 18/20\n",
            "546/546 [==============================] - 5s 8ms/step - loss: 0.4767 - accuracy: 0.8298 - val_loss: 1.0197 - val_accuracy: 0.6958\n",
            "Epoch 19/20\n",
            "546/546 [==============================] - 5s 8ms/step - loss: 0.4629 - accuracy: 0.8355 - val_loss: 1.0098 - val_accuracy: 0.6991\n",
            "Epoch 20/20\n",
            "546/546 [==============================] - 5s 8ms/step - loss: 0.4447 - accuracy: 0.8420 - val_loss: 1.0498 - val_accuracy: 0.6999\n"
          ],
          "name": "stdout"
        },
        {
          "output_type": "execute_result",
          "data": {
            "text/plain": [
              "<tensorflow.python.keras.callbacks.History at 0x7fc4b8792518>"
            ]
          },
          "metadata": {
            "tags": []
          },
          "execution_count": 22
        }
      ]
    },
    {
      "cell_type": "code",
      "metadata": {
        "id": "-1ZCkW2koTFj",
        "colab": {
          "base_uri": "https://localhost:8080/",
          "height": 714
        },
        "outputId": "5c8f796c-5c5b-4b29-db18-5f9e7e3252df"
      },
      "source": [
        "model.fit(\n",
        "    x_val, y_val, batch_size=BATCH_SIZE,\n",
        "    steps_per_epoch=x_val.shape[0]//BATCH_SIZE, epochs=EPOCHS, verbose=1\n",
        ")"
      ],
      "execution_count": null,
      "outputs": [
        {
          "output_type": "stream",
          "text": [
            "Epoch 1/20\n",
            "234/234 [==============================] - 1s 6ms/step - loss: 0.9751 - accuracy: 0.6972\n",
            "Epoch 2/20\n",
            "234/234 [==============================] - 1s 6ms/step - loss: 0.7625 - accuracy: 0.7396\n",
            "Epoch 3/20\n",
            "234/234 [==============================] - 1s 6ms/step - loss: 0.6705 - accuracy: 0.7687\n",
            "Epoch 4/20\n",
            "234/234 [==============================] - 1s 6ms/step - loss: 0.6043 - accuracy: 0.7894\n",
            "Epoch 5/20\n",
            "234/234 [==============================] - 1s 6ms/step - loss: 0.5510 - accuracy: 0.8077\n",
            "Epoch 6/20\n",
            "234/234 [==============================] - 1s 6ms/step - loss: 0.5071 - accuracy: 0.8212\n",
            "Epoch 7/20\n",
            "234/234 [==============================] - 1s 6ms/step - loss: 0.4616 - accuracy: 0.8405\n",
            "Epoch 8/20\n",
            "234/234 [==============================] - 1s 6ms/step - loss: 0.4261 - accuracy: 0.8512\n",
            "Epoch 9/20\n",
            "234/234 [==============================] - 1s 6ms/step - loss: 0.3904 - accuracy: 0.8651\n",
            "Epoch 10/20\n",
            "234/234 [==============================] - 1s 6ms/step - loss: 0.3636 - accuracy: 0.8735\n",
            "Epoch 11/20\n",
            "234/234 [==============================] - 1s 6ms/step - loss: 0.3313 - accuracy: 0.8875\n",
            "Epoch 12/20\n",
            "234/234 [==============================] - 1s 6ms/step - loss: 0.3044 - accuracy: 0.8964\n",
            "Epoch 13/20\n",
            "234/234 [==============================] - 1s 6ms/step - loss: 0.2816 - accuracy: 0.9056\n",
            "Epoch 14/20\n",
            "234/234 [==============================] - 1s 6ms/step - loss: 0.2569 - accuracy: 0.9095\n",
            "Epoch 15/20\n",
            "234/234 [==============================] - 1s 6ms/step - loss: 0.2362 - accuracy: 0.9214\n",
            "Epoch 16/20\n",
            "234/234 [==============================] - 1s 6ms/step - loss: 0.2183 - accuracy: 0.9255\n",
            "Epoch 17/20\n",
            "234/234 [==============================] - 1s 6ms/step - loss: 0.1987 - accuracy: 0.9315\n",
            "Epoch 18/20\n",
            "234/234 [==============================] - 1s 6ms/step - loss: 0.1831 - accuracy: 0.9384\n",
            "Epoch 19/20\n",
            "234/234 [==============================] - 1s 6ms/step - loss: 0.1760 - accuracy: 0.9401\n",
            "Epoch 20/20\n",
            "234/234 [==============================] - 1s 6ms/step - loss: 0.1613 - accuracy: 0.9453\n"
          ],
          "name": "stdout"
        },
        {
          "output_type": "execute_result",
          "data": {
            "text/plain": [
              "<tensorflow.python.keras.callbacks.History at 0x7fc4b8163ba8>"
            ]
          },
          "metadata": {
            "tags": []
          },
          "execution_count": 23
        }
      ]
    },
    {
      "cell_type": "code",
      "metadata": {
        "id": "fgz7HFdPoVYi",
        "colab": {
          "base_uri": "https://localhost:8080/",
          "height": 34
        },
        "outputId": "e3d01ba5-ec02-404a-aa39-74efc8357dc8"
      },
      "source": [
        "_, acc = model.evaluate(x_test, y_test, verbose=0)\n",
        "print('> %.3f' % (acc * 100.0))"
      ],
      "execution_count": null,
      "outputs": [
        {
          "output_type": "stream",
          "text": [
            "> 68.060\n"
          ],
          "name": "stdout"
        }
      ]
    },
    {
      "cell_type": "markdown",
      "metadata": {
        "id": "n6TXm2G3xhSU"
      },
      "source": [
        "# Model 5: regularization & dropout"
      ]
    },
    {
      "cell_type": "code",
      "metadata": {
        "id": "KgVIgP_GoXiT",
        "colab": {
          "base_uri": "https://localhost:8080/",
          "height": 833
        },
        "outputId": "fe08cd4f-7814-4fd8-e3b2-1a7b0075d856"
      },
      "source": [
        "import tensorflow.keras.regularizers as R\n",
        "\n",
        "WEIGHT_DECAY = 1e-4\n",
        "L2 = R.l2(WEIGHT_DECAY)\n",
        "\n",
        "model = M.Sequential([\n",
        "    L.Conv2D(filters=8, kernel_size=3, padding=\"same\", activation=\"relu\", \n",
        "             kernel_regularizer=L2, input_shape=x_train.shape[1:]),\n",
        "    L.BatchNormalization(),\n",
        "    L.Conv2D(filters=8, kernel_size=3, padding=\"same\", activation=\"relu\", \n",
        "             kernel_regularizer=L2),\n",
        "    L.BatchNormalization(),\n",
        "    L.MaxPool2D(pool_size=2, strides=2, padding='valid'), \n",
        "    L.Dropout(0.2),\n",
        "\n",
        "    L.Conv2D(filters=16, kernel_size=3, padding=\"same\", activation=\"relu\", \n",
        "             kernel_regularizer=L2),\n",
        "    L.BatchNormalization(),\n",
        "    L.Conv2D(filters=16, kernel_size=3, padding=\"same\", activation=\"relu\", \n",
        "             kernel_regularizer=L2),\n",
        "    L.BatchNormalization(),\n",
        "    L.MaxPool2D(pool_size=2, strides=2, padding='valid'), \n",
        "    L.Dropout(0.3),\n",
        "\n",
        "    L.Conv2D(filters=32, kernel_size=3, padding=\"same\", activation=\"relu\", \n",
        "             kernel_regularizer=L2),\n",
        "    L.BatchNormalization(),\n",
        "    L.Conv2D(filters=32, kernel_size=3, padding=\"same\", activation=\"relu\", \n",
        "             kernel_regularizer=L2),\n",
        "    L.BatchNormalization(),\n",
        "    L.MaxPool2D(pool_size=2, strides=2, padding='valid'), \n",
        "    L.Dropout(0.4),\n",
        "    \n",
        "    L.Flatten(),\n",
        "    L.Dense(units=10, activation='softmax')\n",
        "])\n",
        "\n",
        "opt = O.RMSprop(lr=0.001, decay=1e-6)\n",
        "model.compile(\n",
        "    optimizer=opt, loss='categorical_crossentropy', metrics=['accuracy'])\n",
        "\n",
        "model.summary()"
      ],
      "execution_count": null,
      "outputs": [
        {
          "output_type": "stream",
          "text": [
            "Model: \"sequential_8\"\n",
            "_________________________________________________________________\n",
            "Layer (type)                 Output Shape              Param #   \n",
            "=================================================================\n",
            "conv2d_42 (Conv2D)           (None, 32, 32, 8)         224       \n",
            "_________________________________________________________________\n",
            "batch_normalization_28 (Batc (None, 32, 32, 8)         32        \n",
            "_________________________________________________________________\n",
            "conv2d_43 (Conv2D)           (None, 32, 32, 8)         584       \n",
            "_________________________________________________________________\n",
            "batch_normalization_29 (Batc (None, 32, 32, 8)         32        \n",
            "_________________________________________________________________\n",
            "max_pooling2d_15 (MaxPooling (None, 16, 16, 8)         0         \n",
            "_________________________________________________________________\n",
            "dropout_13 (Dropout)         (None, 16, 16, 8)         0         \n",
            "_________________________________________________________________\n",
            "conv2d_44 (Conv2D)           (None, 16, 16, 16)        1168      \n",
            "_________________________________________________________________\n",
            "batch_normalization_30 (Batc (None, 16, 16, 16)        64        \n",
            "_________________________________________________________________\n",
            "conv2d_45 (Conv2D)           (None, 16, 16, 16)        2320      \n",
            "_________________________________________________________________\n",
            "batch_normalization_31 (Batc (None, 16, 16, 16)        64        \n",
            "_________________________________________________________________\n",
            "max_pooling2d_16 (MaxPooling (None, 8, 8, 16)          0         \n",
            "_________________________________________________________________\n",
            "dropout_14 (Dropout)         (None, 8, 8, 16)          0         \n",
            "_________________________________________________________________\n",
            "conv2d_46 (Conv2D)           (None, 8, 8, 32)          4640      \n",
            "_________________________________________________________________\n",
            "batch_normalization_32 (Batc (None, 8, 8, 32)          128       \n",
            "_________________________________________________________________\n",
            "conv2d_47 (Conv2D)           (None, 8, 8, 32)          9248      \n",
            "_________________________________________________________________\n",
            "batch_normalization_33 (Batc (None, 8, 8, 32)          128       \n",
            "_________________________________________________________________\n",
            "max_pooling2d_17 (MaxPooling (None, 4, 4, 32)          0         \n",
            "_________________________________________________________________\n",
            "dropout_15 (Dropout)         (None, 4, 4, 32)          0         \n",
            "_________________________________________________________________\n",
            "flatten_8 (Flatten)          (None, 512)               0         \n",
            "_________________________________________________________________\n",
            "dense_12 (Dense)             (None, 10)                5130      \n",
            "=================================================================\n",
            "Total params: 23,762\n",
            "Trainable params: 23,538\n",
            "Non-trainable params: 224\n",
            "_________________________________________________________________\n"
          ],
          "name": "stdout"
        }
      ]
    },
    {
      "cell_type": "code",
      "metadata": {
        "id": "BQpJ3g8IozSR",
        "colab": {
          "base_uri": "https://localhost:8080/",
          "height": 714
        },
        "outputId": "a2894b40-d606-435c-93bb-5fb609448068"
      },
      "source": [
        "model.fit(\n",
        "    train_generator, steps_per_epoch=x_train.shape[0]//BATCH_SIZE, \n",
        "    epochs=EPOCHS, validation_data=(x_val, y_val), verbose=1\n",
        ")"
      ],
      "execution_count": null,
      "outputs": [
        {
          "output_type": "stream",
          "text": [
            "Epoch 1/20\n",
            "546/546 [==============================] - 5s 9ms/step - loss: 2.0812 - accuracy: 0.3348 - val_loss: 1.3782 - val_accuracy: 0.4987\n",
            "Epoch 2/20\n",
            "546/546 [==============================] - 5s 9ms/step - loss: 1.4335 - accuracy: 0.4860 - val_loss: 1.2645 - val_accuracy: 0.5476\n",
            "Epoch 3/20\n",
            "546/546 [==============================] - 5s 9ms/step - loss: 1.2775 - accuracy: 0.5470 - val_loss: 1.0968 - val_accuracy: 0.6142\n",
            "Epoch 4/20\n",
            "546/546 [==============================] - 5s 9ms/step - loss: 1.1869 - accuracy: 0.5821 - val_loss: 1.0080 - val_accuracy: 0.6468\n",
            "Epoch 5/20\n",
            "546/546 [==============================] - 5s 9ms/step - loss: 1.1274 - accuracy: 0.6046 - val_loss: 0.9790 - val_accuracy: 0.6580\n",
            "Epoch 6/20\n",
            "546/546 [==============================] - 5s 9ms/step - loss: 1.0783 - accuracy: 0.6212 - val_loss: 1.0258 - val_accuracy: 0.6386\n",
            "Epoch 7/20\n",
            "546/546 [==============================] - 5s 9ms/step - loss: 1.0479 - accuracy: 0.6344 - val_loss: 0.9508 - val_accuracy: 0.6676\n",
            "Epoch 8/20\n",
            "546/546 [==============================] - 5s 9ms/step - loss: 1.0201 - accuracy: 0.6429 - val_loss: 0.9325 - val_accuracy: 0.6757\n",
            "Epoch 9/20\n",
            "546/546 [==============================] - 5s 9ms/step - loss: 1.0058 - accuracy: 0.6508 - val_loss: 0.8921 - val_accuracy: 0.6867\n",
            "Epoch 10/20\n",
            "546/546 [==============================] - 5s 9ms/step - loss: 0.9781 - accuracy: 0.6605 - val_loss: 0.8887 - val_accuracy: 0.6923\n",
            "Epoch 11/20\n",
            "546/546 [==============================] - 5s 9ms/step - loss: 0.9672 - accuracy: 0.6670 - val_loss: 0.8923 - val_accuracy: 0.6859\n",
            "Epoch 12/20\n",
            "546/546 [==============================] - 5s 9ms/step - loss: 0.9458 - accuracy: 0.6726 - val_loss: 0.8653 - val_accuracy: 0.6989\n",
            "Epoch 13/20\n",
            "546/546 [==============================] - 5s 9ms/step - loss: 0.9380 - accuracy: 0.6739 - val_loss: 0.8379 - val_accuracy: 0.7089\n",
            "Epoch 14/20\n",
            "546/546 [==============================] - 5s 9ms/step - loss: 0.9234 - accuracy: 0.6839 - val_loss: 0.8668 - val_accuracy: 0.7005\n",
            "Epoch 15/20\n",
            "546/546 [==============================] - 5s 9ms/step - loss: 0.9157 - accuracy: 0.6863 - val_loss: 0.8273 - val_accuracy: 0.7131\n",
            "Epoch 16/20\n",
            "546/546 [==============================] - 5s 9ms/step - loss: 0.9046 - accuracy: 0.6859 - val_loss: 0.8241 - val_accuracy: 0.7133\n",
            "Epoch 17/20\n",
            "546/546 [==============================] - 5s 9ms/step - loss: 0.8985 - accuracy: 0.6906 - val_loss: 0.8208 - val_accuracy: 0.7155\n",
            "Epoch 18/20\n",
            "546/546 [==============================] - 5s 9ms/step - loss: 0.8874 - accuracy: 0.6952 - val_loss: 0.7932 - val_accuracy: 0.7249\n",
            "Epoch 19/20\n",
            "546/546 [==============================] - 5s 9ms/step - loss: 0.8816 - accuracy: 0.6955 - val_loss: 0.7863 - val_accuracy: 0.7269\n",
            "Epoch 20/20\n",
            "546/546 [==============================] - 5s 9ms/step - loss: 0.8686 - accuracy: 0.7007 - val_loss: 0.7840 - val_accuracy: 0.7321\n"
          ],
          "name": "stdout"
        },
        {
          "output_type": "execute_result",
          "data": {
            "text/plain": [
              "<tensorflow.python.keras.callbacks.History at 0x7fc4a477ccc0>"
            ]
          },
          "metadata": {
            "tags": []
          },
          "execution_count": 26
        }
      ]
    },
    {
      "cell_type": "code",
      "metadata": {
        "id": "bRR40gsBpFVP",
        "colab": {
          "base_uri": "https://localhost:8080/",
          "height": 714
        },
        "outputId": "481597d4-1851-4d36-ff04-5d642ad82e40"
      },
      "source": [
        "model.fit(\n",
        "    x_val, y_val, \n",
        "    batch_size=BATCH_SIZE,\n",
        "    steps_per_epoch=x_val.shape[0]//BATCH_SIZE, \n",
        "    epochs=EPOCHS,  \n",
        "    verbose=1\n",
        ")"
      ],
      "execution_count": null,
      "outputs": [
        {
          "output_type": "stream",
          "text": [
            "Epoch 1/20\n",
            "234/234 [==============================] - 1s 6ms/step - loss: 0.9225 - accuracy: 0.6843\n",
            "Epoch 2/20\n",
            "234/234 [==============================] - 1s 6ms/step - loss: 0.9009 - accuracy: 0.6891\n",
            "Epoch 3/20\n",
            "234/234 [==============================] - 1s 6ms/step - loss: 0.8779 - accuracy: 0.6988\n",
            "Epoch 4/20\n",
            "234/234 [==============================] - 1s 6ms/step - loss: 0.8662 - accuracy: 0.7006\n",
            "Epoch 5/20\n",
            "234/234 [==============================] - 1s 6ms/step - loss: 0.8586 - accuracy: 0.7051\n",
            "Epoch 6/20\n",
            "234/234 [==============================] - 1s 6ms/step - loss: 0.8527 - accuracy: 0.7069\n",
            "Epoch 7/20\n",
            "234/234 [==============================] - 1s 6ms/step - loss: 0.8399 - accuracy: 0.7067\n",
            "Epoch 8/20\n",
            "234/234 [==============================] - 1s 6ms/step - loss: 0.8237 - accuracy: 0.7153\n",
            "Epoch 9/20\n",
            "234/234 [==============================] - 1s 6ms/step - loss: 0.8255 - accuracy: 0.7186\n",
            "Epoch 10/20\n",
            "234/234 [==============================] - 1s 6ms/step - loss: 0.8251 - accuracy: 0.7146\n",
            "Epoch 11/20\n",
            "234/234 [==============================] - 1s 6ms/step - loss: 0.8070 - accuracy: 0.7170\n",
            "Epoch 12/20\n",
            "234/234 [==============================] - 1s 6ms/step - loss: 0.8084 - accuracy: 0.7238\n",
            "Epoch 13/20\n",
            "234/234 [==============================] - 1s 6ms/step - loss: 0.8028 - accuracy: 0.7250\n",
            "Epoch 14/20\n",
            "234/234 [==============================] - 1s 6ms/step - loss: 0.8053 - accuracy: 0.7212\n",
            "Epoch 15/20\n",
            "234/234 [==============================] - 1s 6ms/step - loss: 0.7824 - accuracy: 0.7306\n",
            "Epoch 16/20\n",
            "234/234 [==============================] - 1s 6ms/step - loss: 0.7822 - accuracy: 0.7306\n",
            "Epoch 17/20\n",
            "234/234 [==============================] - 1s 6ms/step - loss: 0.7850 - accuracy: 0.7300\n",
            "Epoch 18/20\n",
            "234/234 [==============================] - 1s 6ms/step - loss: 0.7852 - accuracy: 0.7317\n",
            "Epoch 19/20\n",
            "234/234 [==============================] - 1s 6ms/step - loss: 0.7680 - accuracy: 0.7401\n",
            "Epoch 20/20\n",
            "234/234 [==============================] - 1s 6ms/step - loss: 0.7772 - accuracy: 0.7379\n"
          ],
          "name": "stdout"
        },
        {
          "output_type": "execute_result",
          "data": {
            "text/plain": [
              "<tensorflow.python.keras.callbacks.History at 0x7fc4a2272b70>"
            ]
          },
          "metadata": {
            "tags": []
          },
          "execution_count": 27
        }
      ]
    },
    {
      "cell_type": "code",
      "metadata": {
        "id": "prQeDZqYpHEh",
        "colab": {
          "base_uri": "https://localhost:8080/",
          "height": 34
        },
        "outputId": "453e3dbe-de4e-429e-fd38-f71ccd4cd5e3"
      },
      "source": [
        "_, acc = model.evaluate(x_test, y_test, verbose=0)\n",
        "print('> %.3f' % (acc * 100.0))"
      ],
      "execution_count": null,
      "outputs": [
        {
          "output_type": "stream",
          "text": [
            "> 73.610\n"
          ],
          "name": "stdout"
        }
      ]
    },
    {
      "cell_type": "markdown",
      "metadata": {
        "id": "tevrXS-cx12h"
      },
      "source": [
        "# Model 6: data augmentation"
      ]
    },
    {
      "cell_type": "code",
      "metadata": {
        "id": "g8OJJyh5pH1P"
      },
      "source": [
        "import tensorflow.keras.preprocessing.image as I\n",
        "\n",
        "train_datagen = I.ImageDataGenerator(\n",
        "    width_shift_range=0.1, height_shift_range=0.1,\n",
        "    horizontal_flip=True, rotation_range=15\n",
        ")\n",
        "\n",
        "train_generator = train_datagen.flow(x_train, y_train, batch_size=BATCH_SIZE)"
      ],
      "execution_count": null,
      "outputs": []
    },
    {
      "cell_type": "code",
      "metadata": {
        "id": "nUJpDue0p59z",
        "colab": {
          "base_uri": "https://localhost:8080/",
          "height": 833
        },
        "outputId": "60697af2-bea1-454f-bd6f-6beebf21ce94"
      },
      "source": [
        "model = M.Sequential([\n",
        "    L.Conv2D(filters=8, kernel_size=3, padding=\"same\", activation=\"relu\", \n",
        "             kernel_regularizer=L2, input_shape=x_train.shape[1:]),\n",
        "    L.BatchNormalization(),\n",
        "    L.Conv2D(filters=8, kernel_size=3, padding=\"same\", activation=\"relu\", \n",
        "             kernel_regularizer=L2),\n",
        "    L.BatchNormalization(),\n",
        "    L.MaxPool2D(pool_size=2, strides=2, padding='valid'), \n",
        "    L.Dropout(0.2),\n",
        "\n",
        "    L.Conv2D(filters=16, kernel_size=3, padding=\"same\", activation=\"relu\", \n",
        "             kernel_regularizer=L2),\n",
        "    L.BatchNormalization(),\n",
        "    L.Conv2D(filters=16, kernel_size=3, padding=\"same\", activation=\"relu\", \n",
        "             kernel_regularizer=L2),\n",
        "    L.BatchNormalization(),\n",
        "    L.MaxPool2D(pool_size=2, strides=2, padding='valid'), \n",
        "    L.Dropout(0.3),\n",
        "\n",
        "    L.Conv2D(filters=32, kernel_size=3, padding=\"same\", activation=\"relu\", \n",
        "             kernel_regularizer=L2),\n",
        "    L.BatchNormalization(),\n",
        "    L.Conv2D(filters=32, kernel_size=3, padding=\"same\", activation=\"relu\", \n",
        "             kernel_regularizer=L2),\n",
        "    L.BatchNormalization(),\n",
        "    L.MaxPool2D(pool_size=2, strides=2, padding='valid'), \n",
        "    L.Dropout(0.4),\n",
        "    \n",
        "    L.Flatten(),\n",
        "    L.Dense(units=10, activation='softmax')\n",
        "])\n",
        "\n",
        "opt = O.RMSprop(lr=0.001, decay=1e-6)\n",
        "model.compile(\n",
        "    optimizer=opt, loss='categorical_crossentropy', metrics=['accuracy'])\n",
        "\n",
        "model.summary()"
      ],
      "execution_count": null,
      "outputs": [
        {
          "output_type": "stream",
          "text": [
            "Model: \"sequential_9\"\n",
            "_________________________________________________________________\n",
            "Layer (type)                 Output Shape              Param #   \n",
            "=================================================================\n",
            "conv2d_48 (Conv2D)           (None, 32, 32, 8)         224       \n",
            "_________________________________________________________________\n",
            "batch_normalization_34 (Batc (None, 32, 32, 8)         32        \n",
            "_________________________________________________________________\n",
            "conv2d_49 (Conv2D)           (None, 32, 32, 8)         584       \n",
            "_________________________________________________________________\n",
            "batch_normalization_35 (Batc (None, 32, 32, 8)         32        \n",
            "_________________________________________________________________\n",
            "max_pooling2d_18 (MaxPooling (None, 16, 16, 8)         0         \n",
            "_________________________________________________________________\n",
            "dropout_16 (Dropout)         (None, 16, 16, 8)         0         \n",
            "_________________________________________________________________\n",
            "conv2d_50 (Conv2D)           (None, 16, 16, 16)        1168      \n",
            "_________________________________________________________________\n",
            "batch_normalization_36 (Batc (None, 16, 16, 16)        64        \n",
            "_________________________________________________________________\n",
            "conv2d_51 (Conv2D)           (None, 16, 16, 16)        2320      \n",
            "_________________________________________________________________\n",
            "batch_normalization_37 (Batc (None, 16, 16, 16)        64        \n",
            "_________________________________________________________________\n",
            "max_pooling2d_19 (MaxPooling (None, 8, 8, 16)          0         \n",
            "_________________________________________________________________\n",
            "dropout_17 (Dropout)         (None, 8, 8, 16)          0         \n",
            "_________________________________________________________________\n",
            "conv2d_52 (Conv2D)           (None, 8, 8, 32)          4640      \n",
            "_________________________________________________________________\n",
            "batch_normalization_38 (Batc (None, 8, 8, 32)          128       \n",
            "_________________________________________________________________\n",
            "conv2d_53 (Conv2D)           (None, 8, 8, 32)          9248      \n",
            "_________________________________________________________________\n",
            "batch_normalization_39 (Batc (None, 8, 8, 32)          128       \n",
            "_________________________________________________________________\n",
            "max_pooling2d_20 (MaxPooling (None, 4, 4, 32)          0         \n",
            "_________________________________________________________________\n",
            "dropout_18 (Dropout)         (None, 4, 4, 32)          0         \n",
            "_________________________________________________________________\n",
            "flatten_9 (Flatten)          (None, 512)               0         \n",
            "_________________________________________________________________\n",
            "dense_13 (Dense)             (None, 10)                5130      \n",
            "=================================================================\n",
            "Total params: 23,762\n",
            "Trainable params: 23,538\n",
            "Non-trainable params: 224\n",
            "_________________________________________________________________\n"
          ],
          "name": "stdout"
        }
      ]
    },
    {
      "cell_type": "code",
      "metadata": {
        "id": "5suwU4HirnMn",
        "colab": {
          "base_uri": "https://localhost:8080/",
          "height": 714
        },
        "outputId": "cd5c2974-6f70-401b-c686-8adb9c09edd7"
      },
      "source": [
        "model.fit(\n",
        "    train_generator, \n",
        "    steps_per_epoch=x_train.shape[0]//BATCH_SIZE, \n",
        "    epochs=EPOCHS,  \n",
        "    validation_data=(x_val, y_val), \n",
        "    verbose=1\n",
        ")"
      ],
      "execution_count": null,
      "outputs": [
        {
          "output_type": "stream",
          "text": [
            "Epoch 1/20\n",
            "546/546 [==============================] - 17s 31ms/step - loss: 2.1521 - accuracy: 0.3102 - val_loss: 1.4999 - val_accuracy: 0.4549\n",
            "Epoch 2/20\n",
            "546/546 [==============================] - 18s 32ms/step - loss: 1.5614 - accuracy: 0.4364 - val_loss: 1.3682 - val_accuracy: 0.5011\n",
            "Epoch 3/20\n",
            "546/546 [==============================] - 17s 31ms/step - loss: 1.4061 - accuracy: 0.4969 - val_loss: 1.3313 - val_accuracy: 0.5179\n",
            "Epoch 4/20\n",
            "546/546 [==============================] - 17s 31ms/step - loss: 1.3163 - accuracy: 0.5343 - val_loss: 1.1929 - val_accuracy: 0.5725\n",
            "Epoch 5/20\n",
            "546/546 [==============================] - 17s 31ms/step - loss: 1.2531 - accuracy: 0.5578 - val_loss: 1.1622 - val_accuracy: 0.5916\n",
            "Epoch 6/20\n",
            "546/546 [==============================] - 17s 31ms/step - loss: 1.2053 - accuracy: 0.5747 - val_loss: 1.1256 - val_accuracy: 0.6047\n",
            "Epoch 7/20\n",
            "546/546 [==============================] - 17s 31ms/step - loss: 1.1729 - accuracy: 0.5890 - val_loss: 1.1454 - val_accuracy: 0.6030\n",
            "Epoch 8/20\n",
            "546/546 [==============================] - 17s 31ms/step - loss: 1.1431 - accuracy: 0.6012 - val_loss: 1.0575 - val_accuracy: 0.6309\n",
            "Epoch 9/20\n",
            "546/546 [==============================] - 17s 31ms/step - loss: 1.1192 - accuracy: 0.6080 - val_loss: 1.0268 - val_accuracy: 0.6442\n",
            "Epoch 10/20\n",
            "546/546 [==============================] - 17s 31ms/step - loss: 1.0950 - accuracy: 0.6153 - val_loss: 0.9796 - val_accuracy: 0.6624\n",
            "Epoch 11/20\n",
            "546/546 [==============================] - 17s 31ms/step - loss: 1.0802 - accuracy: 0.6219 - val_loss: 1.0278 - val_accuracy: 0.6456\n",
            "Epoch 12/20\n",
            "546/546 [==============================] - 17s 31ms/step - loss: 1.0632 - accuracy: 0.6316 - val_loss: 0.9473 - val_accuracy: 0.6689\n",
            "Epoch 13/20\n",
            "546/546 [==============================] - 17s 31ms/step - loss: 1.0496 - accuracy: 0.6332 - val_loss: 0.9867 - val_accuracy: 0.6614\n",
            "Epoch 14/20\n",
            "546/546 [==============================] - 17s 31ms/step - loss: 1.0407 - accuracy: 0.6408 - val_loss: 0.9629 - val_accuracy: 0.6703\n",
            "Epoch 15/20\n",
            "546/546 [==============================] - 17s 31ms/step - loss: 1.0278 - accuracy: 0.6431 - val_loss: 0.9445 - val_accuracy: 0.6726\n",
            "Epoch 16/20\n",
            "546/546 [==============================] - 17s 31ms/step - loss: 1.0256 - accuracy: 0.6447 - val_loss: 0.9287 - val_accuracy: 0.6827\n",
            "Epoch 17/20\n",
            "546/546 [==============================] - 17s 31ms/step - loss: 1.0085 - accuracy: 0.6508 - val_loss: 0.9510 - val_accuracy: 0.6797\n",
            "Epoch 18/20\n",
            "546/546 [==============================] - 17s 31ms/step - loss: 1.0040 - accuracy: 0.6515 - val_loss: 0.8787 - val_accuracy: 0.6965\n",
            "Epoch 19/20\n",
            "546/546 [==============================] - 17s 31ms/step - loss: 0.9983 - accuracy: 0.6541 - val_loss: 0.9495 - val_accuracy: 0.6731\n",
            "Epoch 20/20\n",
            "546/546 [==============================] - 18s 32ms/step - loss: 0.9861 - accuracy: 0.6616 - val_loss: 0.9007 - val_accuracy: 0.6953\n"
          ],
          "name": "stdout"
        },
        {
          "output_type": "execute_result",
          "data": {
            "text/plain": [
              "<tensorflow.python.keras.callbacks.History at 0x7fc4a2a63be0>"
            ]
          },
          "metadata": {
            "tags": []
          },
          "execution_count": 31
        }
      ]
    },
    {
      "cell_type": "code",
      "metadata": {
        "id": "hHDt2gIJsPEM"
      },
      "source": [
        "train_generator = train_datagen.flow(x_val, y_val, batch_size=BATCH_SIZE)"
      ],
      "execution_count": null,
      "outputs": []
    },
    {
      "cell_type": "code",
      "metadata": {
        "id": "j2npTuUyrobI",
        "colab": {
          "base_uri": "https://localhost:8080/",
          "height": 714
        },
        "outputId": "e3351120-2b3c-457d-9dee-6b7bc42811de"
      },
      "source": [
        "model.fit(\n",
        "    train_generator, \n",
        "    steps_per_epoch=x_val.shape[0]//BATCH_SIZE, \n",
        "    epochs=EPOCHS,  \n",
        "    verbose=1\n",
        ")"
      ],
      "execution_count": null,
      "outputs": [
        {
          "output_type": "stream",
          "text": [
            "Epoch 1/20\n",
            "234/234 [==============================] - 7s 29ms/step - loss: 0.9874 - accuracy: 0.6613\n",
            "Epoch 2/20\n",
            "234/234 [==============================] - 7s 29ms/step - loss: 0.9885 - accuracy: 0.6603\n",
            "Epoch 3/20\n",
            "234/234 [==============================] - 7s 29ms/step - loss: 0.9838 - accuracy: 0.6631\n",
            "Epoch 4/20\n",
            "234/234 [==============================] - 7s 29ms/step - loss: 0.9714 - accuracy: 0.6643\n",
            "Epoch 5/20\n",
            "234/234 [==============================] - 7s 29ms/step - loss: 0.9740 - accuracy: 0.6633\n",
            "Epoch 6/20\n",
            "234/234 [==============================] - 7s 29ms/step - loss: 0.9647 - accuracy: 0.6704\n",
            "Epoch 7/20\n",
            "234/234 [==============================] - 7s 29ms/step - loss: 0.9720 - accuracy: 0.6675\n",
            "Epoch 8/20\n",
            "234/234 [==============================] - 7s 29ms/step - loss: 0.9587 - accuracy: 0.6722\n",
            "Epoch 9/20\n",
            "234/234 [==============================] - 7s 30ms/step - loss: 0.9665 - accuracy: 0.6654\n",
            "Epoch 10/20\n",
            "234/234 [==============================] - 7s 29ms/step - loss: 0.9521 - accuracy: 0.6726\n",
            "Epoch 11/20\n",
            "234/234 [==============================] - 7s 29ms/step - loss: 0.9550 - accuracy: 0.6722\n",
            "Epoch 12/20\n",
            "234/234 [==============================] - 7s 29ms/step - loss: 0.9503 - accuracy: 0.6725\n",
            "Epoch 13/20\n",
            "234/234 [==============================] - 7s 30ms/step - loss: 0.9569 - accuracy: 0.6743\n",
            "Epoch 14/20\n",
            "234/234 [==============================] - 7s 29ms/step - loss: 0.9530 - accuracy: 0.6713\n",
            "Epoch 15/20\n",
            "234/234 [==============================] - 7s 28ms/step - loss: 0.9482 - accuracy: 0.6698\n",
            "Epoch 16/20\n",
            "234/234 [==============================] - 7s 29ms/step - loss: 0.9386 - accuracy: 0.6793\n",
            "Epoch 17/20\n",
            "234/234 [==============================] - 7s 29ms/step - loss: 0.9430 - accuracy: 0.6780\n",
            "Epoch 18/20\n",
            "234/234 [==============================] - 7s 29ms/step - loss: 0.9424 - accuracy: 0.6790\n",
            "Epoch 19/20\n",
            "234/234 [==============================] - 7s 29ms/step - loss: 0.9386 - accuracy: 0.6762\n",
            "Epoch 20/20\n",
            "234/234 [==============================] - 7s 28ms/step - loss: 0.9420 - accuracy: 0.6761\n"
          ],
          "name": "stdout"
        },
        {
          "output_type": "execute_result",
          "data": {
            "text/plain": [
              "<tensorflow.python.keras.callbacks.History at 0x7fc4a2a63940>"
            ]
          },
          "metadata": {
            "tags": []
          },
          "execution_count": 33
        }
      ]
    },
    {
      "cell_type": "code",
      "metadata": {
        "id": "Q0xdwE4fqEB0",
        "colab": {
          "base_uri": "https://localhost:8080/",
          "height": 34
        },
        "outputId": "82de6e84-eaa9-4e8f-fdc3-115a2c1030db"
      },
      "source": [
        "_, acc = model.evaluate(x_test, y_test, verbose=0)\n",
        "print('> %.3f' % (acc * 100.0))"
      ],
      "execution_count": null,
      "outputs": [
        {
          "output_type": "stream",
          "text": [
            "> 70.780\n"
          ],
          "name": "stdout"
        }
      ]
    },
    {
      "cell_type": "markdown",
      "metadata": {
        "id": "M2C5HwuAx7YV"
      },
      "source": [
        "# Model 7: callback functions"
      ]
    },
    {
      "cell_type": "code",
      "metadata": {
        "id": "10dF4TCJOMua"
      },
      "source": [
        "import tensorflow.keras.callbacks as C\n",
        "\n",
        "reduce_learning_rate = C.ReduceLROnPlateau(\n",
        "    monitor='loss', factor=0.5, patience=5, verbose=1, \n",
        "    mode='auto', min_delta=1e-5, cooldown=0, min_lr=0\n",
        ")\n",
        "\n",
        "early_stopping = C.EarlyStopping(\n",
        "    monitor='loss', min_delta=0, patience=12, verbose=1, mode='auto',\n",
        "    baseline=None, restore_best_weights=True\n",
        ")"
      ],
      "execution_count": null,
      "outputs": []
    },
    {
      "cell_type": "code",
      "metadata": {
        "id": "FaxZvf7cv7V8",
        "colab": {
          "base_uri": "https://localhost:8080/",
          "height": 833
        },
        "outputId": "1413a2bb-2905-4518-e335-ca9eb296842a"
      },
      "source": [
        "model = M.Sequential([\n",
        "    L.Conv2D(filters=8, kernel_size=3, padding=\"same\", activation=\"relu\", \n",
        "             kernel_regularizer=L2, input_shape=x_train.shape[1:]),\n",
        "    L.BatchNormalization(),\n",
        "    L.Conv2D(filters=8, kernel_size=3, padding=\"same\", activation=\"relu\", \n",
        "             kernel_regularizer=L2),\n",
        "    L.BatchNormalization(),\n",
        "    L.MaxPool2D(pool_size=2, strides=2, padding='valid'), \n",
        "    L.Dropout(0.2),\n",
        "\n",
        "    L.Conv2D(filters=16, kernel_size=3, padding=\"same\", activation=\"relu\", \n",
        "             kernel_regularizer=L2),\n",
        "    L.BatchNormalization(),\n",
        "    L.Conv2D(filters=16, kernel_size=3, padding=\"same\", activation=\"relu\", \n",
        "             kernel_regularizer=L2),\n",
        "    L.BatchNormalization(),\n",
        "    L.MaxPool2D(pool_size=2, strides=2, padding='valid'), \n",
        "    L.Dropout(0.3),\n",
        "\n",
        "    L.Conv2D(filters=32, kernel_size=3, padding=\"same\", activation=\"relu\", \n",
        "             kernel_regularizer=L2),\n",
        "    L.BatchNormalization(),\n",
        "    L.Conv2D(filters=32, kernel_size=3, padding=\"same\", activation=\"relu\", \n",
        "             kernel_regularizer=L2),\n",
        "    L.BatchNormalization(),\n",
        "    L.MaxPool2D(pool_size=2, strides=2, padding='valid'), \n",
        "    L.Dropout(0.4),\n",
        "    \n",
        "    L.Flatten(),\n",
        "    L.Dense(units=10, activation='softmax')\n",
        "])\n",
        "\n",
        "opt = O.RMSprop(lr=0.001, decay=1e-6)\n",
        "model.compile(\n",
        "    optimizer=opt, loss='categorical_crossentropy', metrics=['accuracy'])\n",
        "\n",
        "model.summary()"
      ],
      "execution_count": null,
      "outputs": [
        {
          "output_type": "stream",
          "text": [
            "Model: \"sequential_10\"\n",
            "_________________________________________________________________\n",
            "Layer (type)                 Output Shape              Param #   \n",
            "=================================================================\n",
            "conv2d_54 (Conv2D)           (None, 32, 32, 8)         224       \n",
            "_________________________________________________________________\n",
            "batch_normalization_40 (Batc (None, 32, 32, 8)         32        \n",
            "_________________________________________________________________\n",
            "conv2d_55 (Conv2D)           (None, 32, 32, 8)         584       \n",
            "_________________________________________________________________\n",
            "batch_normalization_41 (Batc (None, 32, 32, 8)         32        \n",
            "_________________________________________________________________\n",
            "max_pooling2d_21 (MaxPooling (None, 16, 16, 8)         0         \n",
            "_________________________________________________________________\n",
            "dropout_19 (Dropout)         (None, 16, 16, 8)         0         \n",
            "_________________________________________________________________\n",
            "conv2d_56 (Conv2D)           (None, 16, 16, 16)        1168      \n",
            "_________________________________________________________________\n",
            "batch_normalization_42 (Batc (None, 16, 16, 16)        64        \n",
            "_________________________________________________________________\n",
            "conv2d_57 (Conv2D)           (None, 16, 16, 16)        2320      \n",
            "_________________________________________________________________\n",
            "batch_normalization_43 (Batc (None, 16, 16, 16)        64        \n",
            "_________________________________________________________________\n",
            "max_pooling2d_22 (MaxPooling (None, 8, 8, 16)          0         \n",
            "_________________________________________________________________\n",
            "dropout_20 (Dropout)         (None, 8, 8, 16)          0         \n",
            "_________________________________________________________________\n",
            "conv2d_58 (Conv2D)           (None, 8, 8, 32)          4640      \n",
            "_________________________________________________________________\n",
            "batch_normalization_44 (Batc (None, 8, 8, 32)          128       \n",
            "_________________________________________________________________\n",
            "conv2d_59 (Conv2D)           (None, 8, 8, 32)          9248      \n",
            "_________________________________________________________________\n",
            "batch_normalization_45 (Batc (None, 8, 8, 32)          128       \n",
            "_________________________________________________________________\n",
            "max_pooling2d_23 (MaxPooling (None, 4, 4, 32)          0         \n",
            "_________________________________________________________________\n",
            "dropout_21 (Dropout)         (None, 4, 4, 32)          0         \n",
            "_________________________________________________________________\n",
            "flatten_10 (Flatten)         (None, 512)               0         \n",
            "_________________________________________________________________\n",
            "dense_14 (Dense)             (None, 10)                5130      \n",
            "=================================================================\n",
            "Total params: 23,762\n",
            "Trainable params: 23,538\n",
            "Non-trainable params: 224\n",
            "_________________________________________________________________\n"
          ],
          "name": "stdout"
        }
      ]
    },
    {
      "cell_type": "code",
      "metadata": {
        "id": "cYLJ3Dx9ImFv"
      },
      "source": [
        "train_datagen = tf.keras.preprocessing.image.ImageDataGenerator(\n",
        "    width_shift_range=0.1,\n",
        "    height_shift_range=0.1,\n",
        "    horizontal_flip=True,\n",
        "    rotation_range=15\n",
        ")\n",
        "\n",
        "train_generator = train_datagen.flow(X_train, Y_train, batch_size=BATCH_SIZE)"
      ],
      "execution_count": null,
      "outputs": []
    },
    {
      "cell_type": "code",
      "metadata": {
        "id": "uwmE02bvALUR",
        "colab": {
          "base_uri": "https://localhost:8080/",
          "height": 1000
        },
        "outputId": "c2174801-b5c8-4fe2-99a9-f70f8319e7fc"
      },
      "source": [
        "EPOCHS = 1000\n",
        "\n",
        "model.fit(\n",
        "    train_generator, \n",
        "    steps_per_epoch=X_train.shape[0]//BATCH_SIZE, \n",
        "    epochs=EPOCHS,  \n",
        "    callbacks=[reduce_learning_rate, early_stopping],\n",
        "    verbose=1\n",
        ")"
      ],
      "execution_count": null,
      "outputs": [
        {
          "output_type": "stream",
          "text": [
            "Epoch 1/1000\n",
            "781/781 [==============================] - 33s 42ms/step - loss: 2.0029 - accuracy: 0.3394 - lr: 0.0010\n",
            "Epoch 2/1000\n",
            "781/781 [==============================] - 33s 42ms/step - loss: 1.4690 - accuracy: 0.4732 - lr: 0.0010\n",
            "Epoch 3/1000\n",
            "781/781 [==============================] - 32s 41ms/step - loss: 1.3247 - accuracy: 0.5266 - lr: 0.0010\n",
            "Epoch 4/1000\n",
            "781/781 [==============================] - 32s 40ms/step - loss: 1.2520 - accuracy: 0.5548 - lr: 0.0010\n",
            "Epoch 5/1000\n",
            "781/781 [==============================] - 32s 41ms/step - loss: 1.1979 - accuracy: 0.5793 - lr: 0.0010\n",
            "Epoch 6/1000\n",
            "781/781 [==============================] - 32s 41ms/step - loss: 1.1618 - accuracy: 0.5897 - lr: 0.0010\n",
            "Epoch 7/1000\n",
            "781/781 [==============================] - 32s 40ms/step - loss: 1.1321 - accuracy: 0.6043 - lr: 0.0010\n",
            "Epoch 8/1000\n",
            "781/781 [==============================] - 32s 40ms/step - loss: 1.1113 - accuracy: 0.6117 - lr: 0.0010\n",
            "Epoch 9/1000\n",
            "781/781 [==============================] - 31s 40ms/step - loss: 1.0832 - accuracy: 0.6235 - lr: 0.0010\n",
            "Epoch 10/1000\n",
            "781/781 [==============================] - 31s 40ms/step - loss: 1.0685 - accuracy: 0.6239 - lr: 0.0010\n",
            "Epoch 11/1000\n",
            "781/781 [==============================] - 31s 39ms/step - loss: 1.0530 - accuracy: 0.6343 - lr: 0.0010\n",
            "Epoch 12/1000\n",
            "781/781 [==============================] - 30s 39ms/step - loss: 1.0334 - accuracy: 0.6422 - lr: 0.0010\n",
            "Epoch 13/1000\n",
            "781/781 [==============================] - 31s 40ms/step - loss: 1.0308 - accuracy: 0.6419 - lr: 0.0010\n",
            "Epoch 14/1000\n",
            "781/781 [==============================] - 31s 40ms/step - loss: 1.0135 - accuracy: 0.6502 - lr: 0.0010\n",
            "Epoch 15/1000\n",
            "781/781 [==============================] - 31s 40ms/step - loss: 1.0103 - accuracy: 0.6492 - lr: 0.0010\n",
            "Epoch 16/1000\n",
            "781/781 [==============================] - 31s 39ms/step - loss: 0.9978 - accuracy: 0.6568 - lr: 0.0010\n",
            "Epoch 17/1000\n",
            "781/781 [==============================] - 31s 39ms/step - loss: 0.9935 - accuracy: 0.6583 - lr: 0.0010\n",
            "Epoch 18/1000\n",
            "781/781 [==============================] - 31s 39ms/step - loss: 0.9868 - accuracy: 0.6609 - lr: 0.0010\n",
            "Epoch 19/1000\n",
            "781/781 [==============================] - 31s 39ms/step - loss: 0.9792 - accuracy: 0.6626 - lr: 0.0010\n",
            "Epoch 20/1000\n",
            "781/781 [==============================] - 31s 40ms/step - loss: 0.9742 - accuracy: 0.6650 - lr: 0.0010\n",
            "Epoch 21/1000\n",
            "781/781 [==============================] - 31s 39ms/step - loss: 0.9706 - accuracy: 0.6674 - lr: 0.0010\n",
            "Epoch 22/1000\n",
            "781/781 [==============================] - 30s 39ms/step - loss: 0.9645 - accuracy: 0.6684 - lr: 0.0010\n",
            "Epoch 23/1000\n",
            "781/781 [==============================] - 31s 39ms/step - loss: 0.9640 - accuracy: 0.6694 - lr: 0.0010\n",
            "Epoch 24/1000\n",
            "781/781 [==============================] - 31s 39ms/step - loss: 0.9574 - accuracy: 0.6717 - lr: 0.0010\n",
            "Epoch 25/1000\n",
            "781/781 [==============================] - 30s 39ms/step - loss: 0.9500 - accuracy: 0.6770 - lr: 0.0010\n",
            "Epoch 26/1000\n",
            "781/781 [==============================] - 30s 39ms/step - loss: 0.9556 - accuracy: 0.6716 - lr: 0.0010\n",
            "Epoch 27/1000\n",
            "781/781 [==============================] - 30s 39ms/step - loss: 0.9451 - accuracy: 0.6763 - lr: 0.0010\n",
            "Epoch 28/1000\n",
            "781/781 [==============================] - 30s 39ms/step - loss: 0.9461 - accuracy: 0.6768 - lr: 0.0010\n",
            "Epoch 29/1000\n",
            "781/781 [==============================] - 30s 39ms/step - loss: 0.9393 - accuracy: 0.6788 - lr: 0.0010\n",
            "Epoch 30/1000\n",
            "781/781 [==============================] - 30s 39ms/step - loss: 0.9384 - accuracy: 0.6784 - lr: 0.0010\n",
            "Epoch 31/1000\n",
            "781/781 [==============================] - 31s 39ms/step - loss: 0.9331 - accuracy: 0.6808 - lr: 0.0010\n",
            "Epoch 32/1000\n",
            "781/781 [==============================] - 30s 38ms/step - loss: 0.9342 - accuracy: 0.6797 - lr: 0.0010\n",
            "Epoch 33/1000\n",
            "781/781 [==============================] - 30s 39ms/step - loss: 0.9345 - accuracy: 0.6791 - lr: 0.0010\n",
            "Epoch 34/1000\n",
            "781/781 [==============================] - 30s 39ms/step - loss: 0.9233 - accuracy: 0.6868 - lr: 0.0010\n",
            "Epoch 35/1000\n",
            "781/781 [==============================] - 31s 39ms/step - loss: 0.9274 - accuracy: 0.6839 - lr: 0.0010\n",
            "Epoch 36/1000\n",
            "781/781 [==============================] - 31s 39ms/step - loss: 0.9242 - accuracy: 0.6849 - lr: 0.0010\n",
            "Epoch 37/1000\n",
            "781/781 [==============================] - 30s 39ms/step - loss: 0.9262 - accuracy: 0.6837 - lr: 0.0010\n",
            "Epoch 38/1000\n",
            "781/781 [==============================] - 30s 39ms/step - loss: 0.9238 - accuracy: 0.6847 - lr: 0.0010\n",
            "Epoch 39/1000\n",
            "780/781 [============================>.] - ETA: 0s - loss: 0.9248 - accuracy: 0.6867\n",
            "Epoch 00039: ReduceLROnPlateau reducing learning rate to 0.0005000000237487257.\n",
            "781/781 [==============================] - 30s 39ms/step - loss: 0.9246 - accuracy: 0.6867 - lr: 0.0010\n",
            "Epoch 40/1000\n",
            "781/781 [==============================] - 30s 39ms/step - loss: 0.8962 - accuracy: 0.6965 - lr: 5.0000e-04\n",
            "Epoch 41/1000\n",
            "781/781 [==============================] - 31s 39ms/step - loss: 0.8957 - accuracy: 0.6948 - lr: 5.0000e-04\n",
            "Epoch 42/1000\n",
            "781/781 [==============================] - 30s 38ms/step - loss: 0.8935 - accuracy: 0.6972 - lr: 5.0000e-04\n",
            "Epoch 43/1000\n",
            "781/781 [==============================] - 30s 39ms/step - loss: 0.8851 - accuracy: 0.6998 - lr: 5.0000e-04\n",
            "Epoch 44/1000\n",
            "781/781 [==============================] - 30s 39ms/step - loss: 0.8903 - accuracy: 0.6981 - lr: 5.0000e-04\n",
            "Epoch 45/1000\n",
            "781/781 [==============================] - 30s 38ms/step - loss: 0.8893 - accuracy: 0.6986 - lr: 5.0000e-04\n",
            "Epoch 46/1000\n",
            "781/781 [==============================] - 30s 39ms/step - loss: 0.8829 - accuracy: 0.7015 - lr: 5.0000e-04\n",
            "Epoch 47/1000\n",
            "781/781 [==============================] - 31s 39ms/step - loss: 0.8877 - accuracy: 0.6969 - lr: 5.0000e-04\n",
            "Epoch 48/1000\n",
            "781/781 [==============================] - 31s 40ms/step - loss: 0.8810 - accuracy: 0.7028 - lr: 5.0000e-04\n",
            "Epoch 49/1000\n",
            "781/781 [==============================] - 32s 41ms/step - loss: 0.8795 - accuracy: 0.7003 - lr: 5.0000e-04\n",
            "Epoch 50/1000\n",
            "781/781 [==============================] - 31s 40ms/step - loss: 0.8780 - accuracy: 0.7020 - lr: 5.0000e-04\n",
            "Epoch 51/1000\n",
            "781/781 [==============================] - 32s 41ms/step - loss: 0.8775 - accuracy: 0.7031 - lr: 5.0000e-04\n",
            "Epoch 52/1000\n",
            "781/781 [==============================] - 31s 40ms/step - loss: 0.8762 - accuracy: 0.7023 - lr: 5.0000e-04\n",
            "Epoch 53/1000\n",
            "781/781 [==============================] - 32s 40ms/step - loss: 0.8832 - accuracy: 0.7001 - lr: 5.0000e-04\n",
            "Epoch 54/1000\n",
            "781/781 [==============================] - 31s 40ms/step - loss: 0.8751 - accuracy: 0.7057 - lr: 5.0000e-04\n",
            "Epoch 55/1000\n",
            "781/781 [==============================] - 32s 41ms/step - loss: 0.8778 - accuracy: 0.7010 - lr: 5.0000e-04\n",
            "Epoch 56/1000\n",
            "781/781 [==============================] - 32s 41ms/step - loss: 0.8794 - accuracy: 0.7027 - lr: 5.0000e-04\n",
            "Epoch 57/1000\n",
            "781/781 [==============================] - 32s 41ms/step - loss: 0.8736 - accuracy: 0.7039 - lr: 5.0000e-04\n",
            "Epoch 58/1000\n",
            "781/781 [==============================] - 32s 42ms/step - loss: 0.8767 - accuracy: 0.7030 - lr: 5.0000e-04\n",
            "Epoch 59/1000\n",
            "781/781 [==============================] - 32s 42ms/step - loss: 0.8683 - accuracy: 0.7070 - lr: 5.0000e-04\n",
            "Epoch 60/1000\n",
            "781/781 [==============================] - 32s 41ms/step - loss: 0.8671 - accuracy: 0.7070 - lr: 5.0000e-04\n",
            "Epoch 61/1000\n",
            "781/781 [==============================] - 32s 41ms/step - loss: 0.8698 - accuracy: 0.7060 - lr: 5.0000e-04\n",
            "Epoch 62/1000\n",
            "781/781 [==============================] - 32s 41ms/step - loss: 0.8712 - accuracy: 0.7036 - lr: 5.0000e-04\n",
            "Epoch 63/1000\n",
            "781/781 [==============================] - 32s 41ms/step - loss: 0.8685 - accuracy: 0.7042 - lr: 5.0000e-04\n",
            "Epoch 64/1000\n",
            "781/781 [==============================] - 32s 41ms/step - loss: 0.8712 - accuracy: 0.7038 - lr: 5.0000e-04\n",
            "Epoch 65/1000\n",
            "781/781 [==============================] - ETA: 0s - loss: 0.8729 - accuracy: 0.7043\n",
            "Epoch 00065: ReduceLROnPlateau reducing learning rate to 0.0002500000118743628.\n",
            "781/781 [==============================] - 32s 41ms/step - loss: 0.8729 - accuracy: 0.7043 - lr: 5.0000e-04\n",
            "Epoch 66/1000\n",
            "781/781 [==============================] - 32s 42ms/step - loss: 0.8576 - accuracy: 0.7091 - lr: 2.5000e-04\n",
            "Epoch 67/1000\n",
            "781/781 [==============================] - 32s 41ms/step - loss: 0.8569 - accuracy: 0.7113 - lr: 2.5000e-04\n",
            "Epoch 68/1000\n",
            "781/781 [==============================] - 33s 42ms/step - loss: 0.8522 - accuracy: 0.7094 - lr: 2.5000e-04\n",
            "Epoch 69/1000\n",
            "781/781 [==============================] - 32s 41ms/step - loss: 0.8537 - accuracy: 0.7105 - lr: 2.5000e-04\n",
            "Epoch 70/1000\n",
            "781/781 [==============================] - 32s 41ms/step - loss: 0.8499 - accuracy: 0.7125 - lr: 2.5000e-04\n",
            "Epoch 71/1000\n",
            "781/781 [==============================] - 32s 41ms/step - loss: 0.8507 - accuracy: 0.7114 - lr: 2.5000e-04\n",
            "Epoch 72/1000\n",
            "781/781 [==============================] - 31s 40ms/step - loss: 0.8553 - accuracy: 0.7110 - lr: 2.5000e-04\n",
            "Epoch 73/1000\n",
            "781/781 [==============================] - 31s 40ms/step - loss: 0.8472 - accuracy: 0.7131 - lr: 2.5000e-04\n",
            "Epoch 74/1000\n",
            "781/781 [==============================] - 31s 40ms/step - loss: 0.8525 - accuracy: 0.7112 - lr: 2.5000e-04\n",
            "Epoch 75/1000\n",
            "781/781 [==============================] - 31s 39ms/step - loss: 0.8565 - accuracy: 0.7080 - lr: 2.5000e-04\n",
            "Epoch 76/1000\n",
            "781/781 [==============================] - 31s 39ms/step - loss: 0.8485 - accuracy: 0.7128 - lr: 2.5000e-04\n",
            "Epoch 77/1000\n",
            "781/781 [==============================] - 31s 39ms/step - loss: 0.8488 - accuracy: 0.7112 - lr: 2.5000e-04\n",
            "Epoch 78/1000\n",
            "780/781 [============================>.] - ETA: 0s - loss: 0.8526 - accuracy: 0.7094\n",
            "Epoch 00078: ReduceLROnPlateau reducing learning rate to 0.0001250000059371814.\n",
            "781/781 [==============================] - 31s 40ms/step - loss: 0.8526 - accuracy: 0.7095 - lr: 2.5000e-04\n",
            "Epoch 79/1000\n",
            "781/781 [==============================] - 31s 39ms/step - loss: 0.8376 - accuracy: 0.7147 - lr: 1.2500e-04\n",
            "Epoch 80/1000\n",
            "781/781 [==============================] - 31s 39ms/step - loss: 0.8485 - accuracy: 0.7120 - lr: 1.2500e-04\n",
            "Epoch 81/1000\n",
            "781/781 [==============================] - 31s 40ms/step - loss: 0.8405 - accuracy: 0.7128 - lr: 1.2500e-04\n",
            "Epoch 82/1000\n",
            "781/781 [==============================] - 31s 40ms/step - loss: 0.8362 - accuracy: 0.7171 - lr: 1.2500e-04\n",
            "Epoch 83/1000\n",
            "781/781 [==============================] - 31s 40ms/step - loss: 0.8341 - accuracy: 0.7174 - lr: 1.2500e-04\n",
            "Epoch 84/1000\n",
            "781/781 [==============================] - 31s 40ms/step - loss: 0.8441 - accuracy: 0.7126 - lr: 1.2500e-04\n",
            "Epoch 85/1000\n",
            "781/781 [==============================] - 31s 40ms/step - loss: 0.8403 - accuracy: 0.7141 - lr: 1.2500e-04\n",
            "Epoch 86/1000\n",
            "781/781 [==============================] - 30s 39ms/step - loss: 0.8385 - accuracy: 0.7152 - lr: 1.2500e-04\n",
            "Epoch 87/1000\n",
            "781/781 [==============================] - 31s 40ms/step - loss: 0.8342 - accuracy: 0.7146 - lr: 1.2500e-04\n",
            "Epoch 88/1000\n",
            "781/781 [==============================] - ETA: 0s - loss: 0.8391 - accuracy: 0.7146\n",
            "Epoch 00088: ReduceLROnPlateau reducing learning rate to 6.25000029685907e-05.\n",
            "781/781 [==============================] - 31s 40ms/step - loss: 0.8391 - accuracy: 0.7146 - lr: 1.2500e-04\n",
            "Epoch 89/1000\n",
            "781/781 [==============================] - 31s 39ms/step - loss: 0.8407 - accuracy: 0.7154 - lr: 6.2500e-05\n",
            "Epoch 90/1000\n",
            "781/781 [==============================] - 31s 39ms/step - loss: 0.8338 - accuracy: 0.7157 - lr: 6.2500e-05\n",
            "Epoch 91/1000\n",
            "781/781 [==============================] - 31s 39ms/step - loss: 0.8288 - accuracy: 0.7212 - lr: 6.2500e-05\n",
            "Epoch 92/1000\n",
            "781/781 [==============================] - 30s 39ms/step - loss: 0.8283 - accuracy: 0.7179 - lr: 6.2500e-05\n",
            "Epoch 93/1000\n",
            "781/781 [==============================] - 31s 40ms/step - loss: 0.8378 - accuracy: 0.7142 - lr: 6.2500e-05\n",
            "Epoch 94/1000\n",
            "781/781 [==============================] - 31s 39ms/step - loss: 0.8313 - accuracy: 0.7181 - lr: 6.2500e-05\n",
            "Epoch 95/1000\n",
            "781/781 [==============================] - 31s 40ms/step - loss: 0.8292 - accuracy: 0.7184 - lr: 6.2500e-05\n",
            "Epoch 96/1000\n",
            "781/781 [==============================] - 31s 39ms/step - loss: 0.8276 - accuracy: 0.7196 - lr: 6.2500e-05\n",
            "Epoch 97/1000\n",
            "781/781 [==============================] - 31s 40ms/step - loss: 0.8352 - accuracy: 0.7162 - lr: 6.2500e-05\n",
            "Epoch 98/1000\n",
            "781/781 [==============================] - 31s 40ms/step - loss: 0.8329 - accuracy: 0.7180 - lr: 6.2500e-05\n",
            "Epoch 99/1000\n",
            "781/781 [==============================] - 31s 39ms/step - loss: 0.8345 - accuracy: 0.7169 - lr: 6.2500e-05\n",
            "Epoch 100/1000\n",
            "781/781 [==============================] - 31s 40ms/step - loss: 0.8290 - accuracy: 0.7191 - lr: 6.2500e-05\n",
            "Epoch 101/1000\n",
            "780/781 [============================>.] - ETA: 0s - loss: 0.8322 - accuracy: 0.7167\n",
            "Epoch 00101: ReduceLROnPlateau reducing learning rate to 3.125000148429535e-05.\n",
            "781/781 [==============================] - 31s 39ms/step - loss: 0.8322 - accuracy: 0.7168 - lr: 6.2500e-05\n",
            "Epoch 102/1000\n",
            "781/781 [==============================] - 32s 40ms/step - loss: 0.8355 - accuracy: 0.7142 - lr: 3.1250e-05\n",
            "Epoch 103/1000\n",
            "781/781 [==============================] - 31s 40ms/step - loss: 0.8305 - accuracy: 0.7165 - lr: 3.1250e-05\n",
            "Epoch 104/1000\n",
            "781/781 [==============================] - 32s 41ms/step - loss: 0.8254 - accuracy: 0.7181 - lr: 3.1250e-05\n",
            "Epoch 105/1000\n",
            "781/781 [==============================] - 32s 41ms/step - loss: 0.8334 - accuracy: 0.7166 - lr: 3.1250e-05\n",
            "Epoch 106/1000\n",
            "781/781 [==============================] - 32s 41ms/step - loss: 0.8340 - accuracy: 0.7162 - lr: 3.1250e-05\n",
            "Epoch 107/1000\n",
            "781/781 [==============================] - 32s 41ms/step - loss: 0.8325 - accuracy: 0.7194 - lr: 3.1250e-05\n",
            "Epoch 108/1000\n",
            "781/781 [==============================] - 32s 41ms/step - loss: 0.8276 - accuracy: 0.7198 - lr: 3.1250e-05\n",
            "Epoch 109/1000\n",
            "781/781 [==============================] - ETA: 0s - loss: 0.8294 - accuracy: 0.7183\n",
            "Epoch 00109: ReduceLROnPlateau reducing learning rate to 1.5625000742147677e-05.\n",
            "781/781 [==============================] - 32s 41ms/step - loss: 0.8294 - accuracy: 0.7183 - lr: 3.1250e-05\n",
            "Epoch 110/1000\n",
            "781/781 [==============================] - 33s 42ms/step - loss: 0.8344 - accuracy: 0.7163 - lr: 1.5625e-05\n",
            "Epoch 111/1000\n",
            "781/781 [==============================] - 32s 41ms/step - loss: 0.8338 - accuracy: 0.7158 - lr: 1.5625e-05\n",
            "Epoch 112/1000\n",
            "781/781 [==============================] - 32s 41ms/step - loss: 0.8278 - accuracy: 0.7207 - lr: 1.5625e-05\n",
            "Epoch 113/1000\n",
            "781/781 [==============================] - 32s 41ms/step - loss: 0.8358 - accuracy: 0.7150 - lr: 1.5625e-05\n",
            "Epoch 114/1000\n",
            "780/781 [============================>.] - ETA: 0s - loss: 0.8320 - accuracy: 0.7158\n",
            "Epoch 00114: ReduceLROnPlateau reducing learning rate to 7.812500371073838e-06.\n",
            "781/781 [==============================] - 32s 41ms/step - loss: 0.8321 - accuracy: 0.7158 - lr: 1.5625e-05\n",
            "Epoch 115/1000\n",
            "781/781 [==============================] - 32s 41ms/step - loss: 0.8355 - accuracy: 0.7167 - lr: 7.8125e-06\n",
            "Epoch 116/1000\n",
            "780/781 [============================>.] - ETA: 0s - loss: 0.8297 - accuracy: 0.7164Restoring model weights from the end of the best epoch.\n",
            "781/781 [==============================] - 32s 41ms/step - loss: 0.8296 - accuracy: 0.7165 - lr: 7.8125e-06\n",
            "Epoch 00116: early stopping\n"
          ],
          "name": "stdout"
        },
        {
          "output_type": "execute_result",
          "data": {
            "text/plain": [
              "<tensorflow.python.keras.callbacks.History at 0x7f35405097b8>"
            ]
          },
          "metadata": {
            "tags": []
          },
          "execution_count": 43
        }
      ]
    },
    {
      "cell_type": "code",
      "metadata": {
        "id": "f42Ud_vxATl1",
        "colab": {
          "base_uri": "https://localhost:8080/",
          "height": 34
        },
        "outputId": "eb57d112-3705-4fcf-9bb5-87ad1943f743"
      },
      "source": [
        "_, acc = model.evaluate(x_test, y_test, verbose=0)\n",
        "print('> %.3f' % (acc * 100.0))"
      ],
      "execution_count": null,
      "outputs": [
        {
          "output_type": "stream",
          "text": [
            "> 73.750\n"
          ],
          "name": "stdout"
        }
      ]
    },
    {
      "cell_type": "markdown",
      "metadata": {
        "id": "wxT95IAGlaN_"
      },
      "source": [
        "# Model 8: final"
      ]
    },
    {
      "cell_type": "code",
      "metadata": {
        "id": "hiIQV9D1AV8Q",
        "colab": {
          "base_uri": "https://localhost:8080/",
          "height": 1000
        },
        "outputId": "e60b8ec3-10ec-453d-998e-05d560a01bce"
      },
      "source": [
        "weight_decay = 1e-4\n",
        "L2 = R.l2(weight_decay)\n",
        "\n",
        "model = M.Sequential([\n",
        "    L.Conv2D(filters=64, kernel_size=3, padding=\"same\", activation=\"relu\", \n",
        "             kernel_regularizer=L2, input_shape=x_train.shape[1:]),\n",
        "    L.BatchNormalization(),\n",
        "    L.Conv2D(filters=64, kernel_size=3, padding=\"same\", activation=\"relu\", \n",
        "             kernel_regularizer=L2),\n",
        "    L.BatchNormalization(),\n",
        "    L.MaxPool2D(pool_size=2, strides=2, padding='valid'), \n",
        "    L.Dropout(0.2), \n",
        "\n",
        "    L.Conv2D(filters=128, kernel_size=3, padding=\"same\", activation=\"relu\", \n",
        "             kernel_regularizer=L2),\n",
        "    L.BatchNormalization(),\n",
        "    L.Conv2D(filters=128, kernel_size=3, padding=\"same\", activation=\"relu\", \n",
        "             kernel_regularizer=L2),\n",
        "    L.BatchNormalization(),\n",
        "    L.MaxPool2D(pool_size=2, strides=2, padding='valid'),\n",
        "    L.Dropout(0.3), \n",
        "\n",
        "    L.Conv2D(filters=256, kernel_size=3, padding=\"same\", activation=\"relu\", \n",
        "             kernel_regularizer=L2),\n",
        "    L.BatchNormalization(),\n",
        "    L.Conv2D(filters=256, kernel_size=3, padding=\"same\", activation=\"relu\", \n",
        "             kernel_regularizer=L2),\n",
        "    L.BatchNormalization(),\n",
        "    L.MaxPool2D(pool_size=2, strides=2, padding='valid'),\n",
        "    L.Dropout(0.4), \n",
        "\n",
        "    L.Flatten(),\n",
        "    L.Dense(units=128, activation='relu'), \n",
        "    L.BatchNormalization(),\n",
        "    L.Dropout(0.2),\n",
        "    L.Dense(units=128, activation='relu'), \n",
        "    L.BatchNormalization(),\n",
        "    L.Dropout(0.3),\n",
        "    L.Dense(units=128, activation='relu'), \n",
        "    L.BatchNormalization(),\n",
        "    L.Dropout(0.4),\n",
        "    L.Dense(units=128, activation='relu'), \n",
        "    L.BatchNormalization(),\n",
        "    L.Dropout(0.5),\n",
        "    L.Dense(units=10, activation='softmax')\n",
        "])\n",
        "\n",
        "opt = O.RMSprop(lr=0.001, decay=1e-6)\n",
        "model.compile(\n",
        "    optimizer=opt, loss='categorical_crossentropy', metrics=['accuracy'])\n",
        "\n",
        "model.summary()"
      ],
      "execution_count": null,
      "outputs": [
        {
          "output_type": "stream",
          "text": [
            "Model: \"sequential_11\"\n",
            "_________________________________________________________________\n",
            "Layer (type)                 Output Shape              Param #   \n",
            "=================================================================\n",
            "conv2d_60 (Conv2D)           (None, 32, 32, 64)        1792      \n",
            "_________________________________________________________________\n",
            "batch_normalization_46 (Batc (None, 32, 32, 64)        256       \n",
            "_________________________________________________________________\n",
            "conv2d_61 (Conv2D)           (None, 32, 32, 64)        36928     \n",
            "_________________________________________________________________\n",
            "batch_normalization_47 (Batc (None, 32, 32, 64)        256       \n",
            "_________________________________________________________________\n",
            "max_pooling2d_24 (MaxPooling (None, 16, 16, 64)        0         \n",
            "_________________________________________________________________\n",
            "dropout_22 (Dropout)         (None, 16, 16, 64)        0         \n",
            "_________________________________________________________________\n",
            "conv2d_62 (Conv2D)           (None, 16, 16, 128)       73856     \n",
            "_________________________________________________________________\n",
            "batch_normalization_48 (Batc (None, 16, 16, 128)       512       \n",
            "_________________________________________________________________\n",
            "conv2d_63 (Conv2D)           (None, 16, 16, 128)       147584    \n",
            "_________________________________________________________________\n",
            "batch_normalization_49 (Batc (None, 16, 16, 128)       512       \n",
            "_________________________________________________________________\n",
            "max_pooling2d_25 (MaxPooling (None, 8, 8, 128)         0         \n",
            "_________________________________________________________________\n",
            "dropout_23 (Dropout)         (None, 8, 8, 128)         0         \n",
            "_________________________________________________________________\n",
            "conv2d_64 (Conv2D)           (None, 8, 8, 256)         295168    \n",
            "_________________________________________________________________\n",
            "batch_normalization_50 (Batc (None, 8, 8, 256)         1024      \n",
            "_________________________________________________________________\n",
            "conv2d_65 (Conv2D)           (None, 8, 8, 256)         590080    \n",
            "_________________________________________________________________\n",
            "batch_normalization_51 (Batc (None, 8, 8, 256)         1024      \n",
            "_________________________________________________________________\n",
            "max_pooling2d_26 (MaxPooling (None, 4, 4, 256)         0         \n",
            "_________________________________________________________________\n",
            "dropout_24 (Dropout)         (None, 4, 4, 256)         0         \n",
            "_________________________________________________________________\n",
            "flatten_11 (Flatten)         (None, 4096)              0         \n",
            "_________________________________________________________________\n",
            "dense_15 (Dense)             (None, 128)               524416    \n",
            "_________________________________________________________________\n",
            "batch_normalization_52 (Batc (None, 128)               512       \n",
            "_________________________________________________________________\n",
            "dropout_25 (Dropout)         (None, 128)               0         \n",
            "_________________________________________________________________\n",
            "dense_16 (Dense)             (None, 128)               16512     \n",
            "_________________________________________________________________\n",
            "batch_normalization_53 (Batc (None, 128)               512       \n",
            "_________________________________________________________________\n",
            "dropout_26 (Dropout)         (None, 128)               0         \n",
            "_________________________________________________________________\n",
            "dense_17 (Dense)             (None, 128)               16512     \n",
            "_________________________________________________________________\n",
            "batch_normalization_54 (Batc (None, 128)               512       \n",
            "_________________________________________________________________\n",
            "dropout_27 (Dropout)         (None, 128)               0         \n",
            "_________________________________________________________________\n",
            "dense_18 (Dense)             (None, 128)               16512     \n",
            "_________________________________________________________________\n",
            "batch_normalization_55 (Batc (None, 128)               512       \n",
            "_________________________________________________________________\n",
            "dropout_28 (Dropout)         (None, 128)               0         \n",
            "_________________________________________________________________\n",
            "dense_19 (Dense)             (None, 10)                1290      \n",
            "=================================================================\n",
            "Total params: 1,726,282\n",
            "Trainable params: 1,723,466\n",
            "Non-trainable params: 2,816\n",
            "_________________________________________________________________\n"
          ],
          "name": "stdout"
        }
      ]
    },
    {
      "cell_type": "code",
      "metadata": {
        "id": "MxNJseXNbg2Y",
        "colab": {
          "base_uri": "https://localhost:8080/",
          "height": 1000
        },
        "outputId": "0123e70b-e2cc-4410-a91f-786c200eab21"
      },
      "source": [
        "EPOCHS = 1000\n",
        "\n",
        "model.fit(\n",
        "    train_generator, \n",
        "    steps_per_epoch=X_train.shape[0]//BATCH_SIZE, \n",
        "    epochs=EPOCHS,  \n",
        "    callbacks=[reduce_learning_rate, early_stopping],\n",
        "    verbose=1\n",
        ")"
      ],
      "execution_count": null,
      "outputs": [
        {
          "output_type": "stream",
          "text": [
            "Epoch 1/1000\n",
            "781/781 [==============================] - 36s 46ms/step - loss: 2.0355 - accuracy: 0.3292 - lr: 0.0010\n",
            "Epoch 2/1000\n",
            "781/781 [==============================] - 36s 46ms/step - loss: 1.3823 - accuracy: 0.5499 - lr: 0.0010\n",
            "Epoch 3/1000\n",
            "781/781 [==============================] - 37s 47ms/step - loss: 1.1861 - accuracy: 0.6346 - lr: 0.0010\n",
            "Epoch 4/1000\n",
            "781/781 [==============================] - 35s 45ms/step - loss: 1.0875 - accuracy: 0.6815 - lr: 0.0010\n",
            "Epoch 5/1000\n",
            "781/781 [==============================] - 36s 46ms/step - loss: 1.0242 - accuracy: 0.7167 - lr: 0.0010\n",
            "Epoch 6/1000\n",
            "781/781 [==============================] - 35s 45ms/step - loss: 0.9888 - accuracy: 0.7343 - lr: 0.0010\n",
            "Epoch 7/1000\n",
            "781/781 [==============================] - 35s 45ms/step - loss: 0.9475 - accuracy: 0.7549 - lr: 0.0010\n",
            "Epoch 8/1000\n",
            "781/781 [==============================] - 36s 46ms/step - loss: 0.9176 - accuracy: 0.7682 - lr: 0.0010\n",
            "Epoch 9/1000\n",
            "781/781 [==============================] - 35s 45ms/step - loss: 0.9099 - accuracy: 0.7760 - lr: 0.0010\n",
            "Epoch 10/1000\n",
            "781/781 [==============================] - 35s 45ms/step - loss: 0.8939 - accuracy: 0.7856 - lr: 0.0010\n",
            "Epoch 11/1000\n",
            "781/781 [==============================] - 34s 44ms/step - loss: 0.8830 - accuracy: 0.7904 - lr: 0.0010\n",
            "Epoch 12/1000\n",
            "781/781 [==============================] - 34s 44ms/step - loss: 0.8675 - accuracy: 0.7999 - lr: 0.0010\n",
            "Epoch 13/1000\n",
            "781/781 [==============================] - 34s 44ms/step - loss: 0.8598 - accuracy: 0.8026 - lr: 0.0010\n",
            "Epoch 14/1000\n",
            "781/781 [==============================] - 35s 44ms/step - loss: 0.8478 - accuracy: 0.8088 - lr: 0.0010\n",
            "Epoch 15/1000\n",
            "781/781 [==============================] - 35s 44ms/step - loss: 0.8472 - accuracy: 0.8101 - lr: 0.0010\n",
            "Epoch 16/1000\n",
            "781/781 [==============================] - 33s 43ms/step - loss: 0.8363 - accuracy: 0.8161 - lr: 0.0010\n",
            "Epoch 17/1000\n",
            "781/781 [==============================] - 34s 43ms/step - loss: 0.8265 - accuracy: 0.8196 - lr: 0.0010\n",
            "Epoch 18/1000\n",
            "781/781 [==============================] - 35s 45ms/step - loss: 0.8227 - accuracy: 0.8225 - lr: 0.0010\n",
            "Epoch 19/1000\n",
            "781/781 [==============================] - 36s 46ms/step - loss: 0.8152 - accuracy: 0.8260 - lr: 0.0010\n",
            "Epoch 20/1000\n",
            "781/781 [==============================] - 34s 44ms/step - loss: 0.8107 - accuracy: 0.8265 - lr: 0.0010\n",
            "Epoch 21/1000\n",
            "781/781 [==============================] - 34s 44ms/step - loss: 0.8082 - accuracy: 0.8269 - lr: 0.0010\n",
            "Epoch 22/1000\n",
            "781/781 [==============================] - 35s 45ms/step - loss: 0.8003 - accuracy: 0.8326 - lr: 0.0010\n",
            "Epoch 23/1000\n",
            "781/781 [==============================] - 34s 44ms/step - loss: 0.7992 - accuracy: 0.8329 - lr: 0.0010\n",
            "Epoch 24/1000\n",
            "781/781 [==============================] - 34s 43ms/step - loss: 0.7994 - accuracy: 0.8323 - lr: 0.0010\n",
            "Epoch 25/1000\n",
            "781/781 [==============================] - 34s 44ms/step - loss: 0.7930 - accuracy: 0.8358 - lr: 0.0010\n",
            "Epoch 26/1000\n",
            "781/781 [==============================] - 33s 43ms/step - loss: 0.7822 - accuracy: 0.8381 - lr: 0.0010\n",
            "Epoch 27/1000\n",
            "781/781 [==============================] - 34s 43ms/step - loss: 0.7778 - accuracy: 0.8398 - lr: 0.0010\n",
            "Epoch 28/1000\n",
            "781/781 [==============================] - 34s 44ms/step - loss: 0.7796 - accuracy: 0.8404 - lr: 0.0010\n",
            "Epoch 29/1000\n",
            "781/781 [==============================] - 34s 44ms/step - loss: 0.7812 - accuracy: 0.8394 - lr: 0.0010\n",
            "Epoch 30/1000\n",
            "781/781 [==============================] - 34s 44ms/step - loss: 0.7776 - accuracy: 0.8423 - lr: 0.0010\n",
            "Epoch 31/1000\n",
            "781/781 [==============================] - 35s 44ms/step - loss: 0.7685 - accuracy: 0.8455 - lr: 0.0010\n",
            "Epoch 32/1000\n",
            "781/781 [==============================] - 34s 44ms/step - loss: 0.7712 - accuracy: 0.8433 - lr: 0.0010\n",
            "Epoch 33/1000\n",
            "781/781 [==============================] - 34s 44ms/step - loss: 0.7710 - accuracy: 0.8460 - lr: 0.0010\n",
            "Epoch 34/1000\n",
            "781/781 [==============================] - 34s 43ms/step - loss: 0.7565 - accuracy: 0.8478 - lr: 0.0010\n",
            "Epoch 35/1000\n",
            "781/781 [==============================] - 34s 43ms/step - loss: 0.7614 - accuracy: 0.8466 - lr: 0.0010\n",
            "Epoch 36/1000\n",
            "781/781 [==============================] - 33s 43ms/step - loss: 0.7551 - accuracy: 0.8494 - lr: 0.0010\n",
            "Epoch 37/1000\n",
            "781/781 [==============================] - 34s 44ms/step - loss: 0.7489 - accuracy: 0.8510 - lr: 0.0010\n",
            "Epoch 38/1000\n",
            "781/781 [==============================] - 33s 43ms/step - loss: 0.7529 - accuracy: 0.8494 - lr: 0.0010\n",
            "Epoch 39/1000\n",
            "781/781 [==============================] - 34s 44ms/step - loss: 0.7497 - accuracy: 0.8507 - lr: 0.0010\n",
            "Epoch 40/1000\n",
            "781/781 [==============================] - 34s 44ms/step - loss: 0.7536 - accuracy: 0.8492 - lr: 0.0010\n",
            "Epoch 41/1000\n",
            "781/781 [==============================] - 35s 45ms/step - loss: 0.7446 - accuracy: 0.8538 - lr: 0.0010\n",
            "Epoch 42/1000\n",
            "781/781 [==============================] - 35s 45ms/step - loss: 0.7375 - accuracy: 0.8547 - lr: 0.0010\n",
            "Epoch 43/1000\n",
            "781/781 [==============================] - 35s 45ms/step - loss: 0.7483 - accuracy: 0.8517 - lr: 0.0010\n",
            "Epoch 44/1000\n",
            "781/781 [==============================] - 35s 45ms/step - loss: 0.7360 - accuracy: 0.8541 - lr: 0.0010\n",
            "Epoch 45/1000\n",
            "781/781 [==============================] - 35s 45ms/step - loss: 0.7343 - accuracy: 0.8557 - lr: 0.0010\n",
            "Epoch 46/1000\n",
            "781/781 [==============================] - 36s 46ms/step - loss: 0.7299 - accuracy: 0.8555 - lr: 0.0010\n",
            "Epoch 47/1000\n",
            "781/781 [==============================] - 36s 45ms/step - loss: 0.7344 - accuracy: 0.8560 - lr: 0.0010\n",
            "Epoch 48/1000\n",
            "781/781 [==============================] - 36s 46ms/step - loss: 0.7354 - accuracy: 0.8563 - lr: 0.0010\n",
            "Epoch 49/1000\n",
            "781/781 [==============================] - 35s 45ms/step - loss: 0.7304 - accuracy: 0.8562 - lr: 0.0010\n",
            "Epoch 50/1000\n",
            "781/781 [==============================] - 35s 45ms/step - loss: 0.7316 - accuracy: 0.8588 - lr: 0.0010\n",
            "Epoch 51/1000\n",
            "781/781 [==============================] - 35s 44ms/step - loss: 0.7289 - accuracy: 0.8578 - lr: 0.0010\n",
            "Epoch 52/1000\n",
            "781/781 [==============================] - 35s 45ms/step - loss: 0.7310 - accuracy: 0.8574 - lr: 0.0010\n",
            "Epoch 53/1000\n",
            "781/781 [==============================] - 35s 45ms/step - loss: 0.7212 - accuracy: 0.8616 - lr: 0.0010\n",
            "Epoch 54/1000\n",
            "781/781 [==============================] - 35s 45ms/step - loss: 0.7194 - accuracy: 0.8589 - lr: 0.0010\n",
            "Epoch 55/1000\n",
            "781/781 [==============================] - 35s 45ms/step - loss: 0.7211 - accuracy: 0.8603 - lr: 0.0010\n",
            "Epoch 56/1000\n",
            "781/781 [==============================] - 35s 45ms/step - loss: 0.7171 - accuracy: 0.8593 - lr: 0.0010\n",
            "Epoch 57/1000\n",
            "781/781 [==============================] - 35s 44ms/step - loss: 0.7142 - accuracy: 0.8628 - lr: 0.0010\n",
            "Epoch 58/1000\n",
            "781/781 [==============================] - 35s 45ms/step - loss: 0.7218 - accuracy: 0.8590 - lr: 0.0010\n",
            "Epoch 59/1000\n",
            "781/781 [==============================] - 35s 45ms/step - loss: 0.7108 - accuracy: 0.8616 - lr: 0.0010\n",
            "Epoch 60/1000\n",
            "781/781 [==============================] - 36s 46ms/step - loss: 0.7107 - accuracy: 0.8619 - lr: 0.0010\n",
            "Epoch 61/1000\n",
            "781/781 [==============================] - 36s 46ms/step - loss: 0.7092 - accuracy: 0.8633 - lr: 0.0010\n",
            "Epoch 62/1000\n",
            "781/781 [==============================] - 36s 46ms/step - loss: 0.7034 - accuracy: 0.8638 - lr: 0.0010\n",
            "Epoch 63/1000\n",
            "781/781 [==============================] - 37s 47ms/step - loss: 0.7088 - accuracy: 0.8626 - lr: 0.0010\n",
            "Epoch 64/1000\n",
            "781/781 [==============================] - 36s 46ms/step - loss: 0.7025 - accuracy: 0.8647 - lr: 0.0010\n",
            "Epoch 65/1000\n",
            "781/781 [==============================] - 36s 46ms/step - loss: 0.7023 - accuracy: 0.8648 - lr: 0.0010\n",
            "Epoch 66/1000\n",
            "781/781 [==============================] - 36s 46ms/step - loss: 0.7092 - accuracy: 0.8651 - lr: 0.0010\n",
            "Epoch 67/1000\n",
            "781/781 [==============================] - 37s 47ms/step - loss: 0.7016 - accuracy: 0.8660 - lr: 0.0010\n",
            "Epoch 68/1000\n",
            "781/781 [==============================] - 36s 46ms/step - loss: 0.6974 - accuracy: 0.8658 - lr: 0.0010\n",
            "Epoch 69/1000\n",
            "781/781 [==============================] - 36s 46ms/step - loss: 0.7046 - accuracy: 0.8641 - lr: 0.0010\n",
            "Epoch 70/1000\n",
            "781/781 [==============================] - 37s 47ms/step - loss: 0.6986 - accuracy: 0.8666 - lr: 0.0010\n",
            "Epoch 71/1000\n",
            "781/781 [==============================] - 36s 46ms/step - loss: 0.6933 - accuracy: 0.8660 - lr: 0.0010\n",
            "Epoch 72/1000\n",
            "781/781 [==============================] - 37s 48ms/step - loss: 0.6948 - accuracy: 0.8669 - lr: 0.0010\n",
            "Epoch 73/1000\n",
            "781/781 [==============================] - 37s 47ms/step - loss: 0.6996 - accuracy: 0.8658 - lr: 0.0010\n",
            "Epoch 74/1000\n",
            "781/781 [==============================] - 37s 47ms/step - loss: 0.6950 - accuracy: 0.8680 - lr: 0.0010\n",
            "Epoch 75/1000\n",
            "781/781 [==============================] - 37s 48ms/step - loss: 0.6957 - accuracy: 0.8679 - lr: 0.0010\n",
            "Epoch 76/1000\n",
            "780/781 [============================>.] - ETA: 0s - loss: 0.7001 - accuracy: 0.8640\n",
            "Epoch 00076: ReduceLROnPlateau reducing learning rate to 0.0005000000237487257.\n",
            "781/781 [==============================] - 37s 47ms/step - loss: 0.7000 - accuracy: 0.8640 - lr: 0.0010\n",
            "Epoch 77/1000\n",
            "781/781 [==============================] - 37s 48ms/step - loss: 0.6371 - accuracy: 0.8829 - lr: 5.0000e-04\n",
            "Epoch 78/1000\n",
            "781/781 [==============================] - 37s 48ms/step - loss: 0.6082 - accuracy: 0.8891 - lr: 5.0000e-04\n",
            "Epoch 79/1000\n",
            "781/781 [==============================] - 37s 48ms/step - loss: 0.5900 - accuracy: 0.8920 - lr: 5.0000e-04\n",
            "Epoch 80/1000\n",
            "781/781 [==============================] - 37s 47ms/step - loss: 0.5713 - accuracy: 0.8940 - lr: 5.0000e-04\n",
            "Epoch 81/1000\n",
            "781/781 [==============================] - 37s 47ms/step - loss: 0.5697 - accuracy: 0.8951 - lr: 5.0000e-04\n",
            "Epoch 82/1000\n",
            "781/781 [==============================] - 37s 48ms/step - loss: 0.5548 - accuracy: 0.8964 - lr: 5.0000e-04\n",
            "Epoch 83/1000\n",
            "781/781 [==============================] - 37s 47ms/step - loss: 0.5492 - accuracy: 0.8984 - lr: 5.0000e-04\n",
            "Epoch 84/1000\n",
            "781/781 [==============================] - 37s 48ms/step - loss: 0.5468 - accuracy: 0.8988 - lr: 5.0000e-04\n",
            "Epoch 85/1000\n",
            "781/781 [==============================] - 37s 47ms/step - loss: 0.5362 - accuracy: 0.8999 - lr: 5.0000e-04\n",
            "Epoch 86/1000\n",
            "781/781 [==============================] - 37s 47ms/step - loss: 0.5352 - accuracy: 0.8992 - lr: 5.0000e-04\n",
            "Epoch 87/1000\n",
            "781/781 [==============================] - 37s 47ms/step - loss: 0.5381 - accuracy: 0.8964 - lr: 5.0000e-04\n",
            "Epoch 88/1000\n",
            "781/781 [==============================] - 37s 48ms/step - loss: 0.5279 - accuracy: 0.9011 - lr: 5.0000e-04\n",
            "Epoch 89/1000\n",
            "781/781 [==============================] - 38s 48ms/step - loss: 0.5312 - accuracy: 0.8978 - lr: 5.0000e-04\n",
            "Epoch 90/1000\n",
            "781/781 [==============================] - 37s 48ms/step - loss: 0.5249 - accuracy: 0.8996 - lr: 5.0000e-04\n",
            "Epoch 91/1000\n",
            "781/781 [==============================] - 37s 48ms/step - loss: 0.5253 - accuracy: 0.8981 - lr: 5.0000e-04\n",
            "Epoch 92/1000\n",
            "781/781 [==============================] - 37s 47ms/step - loss: 0.5215 - accuracy: 0.9011 - lr: 5.0000e-04\n",
            "Epoch 93/1000\n",
            "781/781 [==============================] - 37s 47ms/step - loss: 0.5140 - accuracy: 0.9020 - lr: 5.0000e-04\n",
            "Epoch 94/1000\n",
            "781/781 [==============================] - 37s 47ms/step - loss: 0.5162 - accuracy: 0.9007 - lr: 5.0000e-04\n",
            "Epoch 95/1000\n",
            "781/781 [==============================] - 37s 47ms/step - loss: 0.5158 - accuracy: 0.9015 - lr: 5.0000e-04\n",
            "Epoch 96/1000\n",
            "781/781 [==============================] - 37s 47ms/step - loss: 0.5207 - accuracy: 0.8974 - lr: 5.0000e-04\n",
            "Epoch 97/1000\n",
            "781/781 [==============================] - 36s 46ms/step - loss: 0.5109 - accuracy: 0.9024 - lr: 5.0000e-04\n",
            "Epoch 98/1000\n",
            "781/781 [==============================] - 36s 46ms/step - loss: 0.4999 - accuracy: 0.9050 - lr: 5.0000e-04\n",
            "Epoch 99/1000\n",
            "781/781 [==============================] - 37s 47ms/step - loss: 0.5036 - accuracy: 0.9030 - lr: 5.0000e-04\n",
            "Epoch 100/1000\n",
            "781/781 [==============================] - 37s 47ms/step - loss: 0.5060 - accuracy: 0.9011 - lr: 5.0000e-04\n",
            "Epoch 101/1000\n",
            "781/781 [==============================] - 37s 47ms/step - loss: 0.5068 - accuracy: 0.9017 - lr: 5.0000e-04\n",
            "Epoch 102/1000\n",
            "781/781 [==============================] - 36s 47ms/step - loss: 0.5035 - accuracy: 0.9036 - lr: 5.0000e-04\n",
            "Epoch 103/1000\n",
            "780/781 [============================>.] - ETA: 0s - loss: 0.5016 - accuracy: 0.9030\n",
            "Epoch 00103: ReduceLROnPlateau reducing learning rate to 0.0002500000118743628.\n",
            "781/781 [==============================] - 37s 47ms/step - loss: 0.5016 - accuracy: 0.9029 - lr: 5.0000e-04\n",
            "Epoch 104/1000\n",
            "781/781 [==============================] - 37s 47ms/step - loss: 0.4692 - accuracy: 0.9128 - lr: 2.5000e-04\n",
            "Epoch 105/1000\n",
            "781/781 [==============================] - 37s 47ms/step - loss: 0.4472 - accuracy: 0.9186 - lr: 2.5000e-04\n",
            "Epoch 106/1000\n",
            "781/781 [==============================] - 36s 46ms/step - loss: 0.4490 - accuracy: 0.9169 - lr: 2.5000e-04\n",
            "Epoch 107/1000\n",
            "781/781 [==============================] - 37s 47ms/step - loss: 0.4384 - accuracy: 0.9197 - lr: 2.5000e-04\n",
            "Epoch 108/1000\n",
            "781/781 [==============================] - 36s 47ms/step - loss: 0.4350 - accuracy: 0.9193 - lr: 2.5000e-04\n",
            "Epoch 109/1000\n",
            "781/781 [==============================] - 37s 47ms/step - loss: 0.4324 - accuracy: 0.9191 - lr: 2.5000e-04\n",
            "Epoch 110/1000\n",
            "781/781 [==============================] - 36s 47ms/step - loss: 0.4274 - accuracy: 0.9222 - lr: 2.5000e-04\n",
            "Epoch 111/1000\n",
            "781/781 [==============================] - 36s 46ms/step - loss: 0.4244 - accuracy: 0.9225 - lr: 2.5000e-04\n",
            "Epoch 112/1000\n",
            "781/781 [==============================] - 37s 48ms/step - loss: 0.4172 - accuracy: 0.9248 - lr: 2.5000e-04\n",
            "Epoch 113/1000\n",
            "781/781 [==============================] - 37s 47ms/step - loss: 0.4235 - accuracy: 0.9211 - lr: 2.5000e-04\n",
            "Epoch 114/1000\n",
            "781/781 [==============================] - 36s 46ms/step - loss: 0.4067 - accuracy: 0.9255 - lr: 2.5000e-04\n",
            "Epoch 115/1000\n",
            "781/781 [==============================] - 36s 46ms/step - loss: 0.4152 - accuracy: 0.9233 - lr: 2.5000e-04\n",
            "Epoch 116/1000\n",
            "781/781 [==============================] - 37s 47ms/step - loss: 0.4094 - accuracy: 0.9234 - lr: 2.5000e-04\n",
            "Epoch 117/1000\n",
            "781/781 [==============================] - 36s 46ms/step - loss: 0.4068 - accuracy: 0.9252 - lr: 2.5000e-04\n",
            "Epoch 118/1000\n",
            "781/781 [==============================] - 36s 46ms/step - loss: 0.3965 - accuracy: 0.9285 - lr: 2.5000e-04\n",
            "Epoch 119/1000\n",
            "781/781 [==============================] - 36s 46ms/step - loss: 0.3983 - accuracy: 0.9255 - lr: 2.5000e-04\n",
            "Epoch 120/1000\n",
            "781/781 [==============================] - 36s 46ms/step - loss: 0.4010 - accuracy: 0.9250 - lr: 2.5000e-04\n",
            "Epoch 121/1000\n",
            "781/781 [==============================] - 35s 45ms/step - loss: 0.3997 - accuracy: 0.9250 - lr: 2.5000e-04\n",
            "Epoch 122/1000\n",
            "781/781 [==============================] - 36s 47ms/step - loss: 0.3927 - accuracy: 0.9277 - lr: 2.5000e-04\n",
            "Epoch 123/1000\n",
            "781/781 [==============================] - 36s 46ms/step - loss: 0.3969 - accuracy: 0.9258 - lr: 2.5000e-04\n",
            "Epoch 124/1000\n",
            "781/781 [==============================] - 36s 47ms/step - loss: 0.3853 - accuracy: 0.9292 - lr: 2.5000e-04\n",
            "Epoch 125/1000\n",
            "781/781 [==============================] - 36s 46ms/step - loss: 0.3910 - accuracy: 0.9274 - lr: 2.5000e-04\n",
            "Epoch 126/1000\n",
            "781/781 [==============================] - 36s 46ms/step - loss: 0.3866 - accuracy: 0.9273 - lr: 2.5000e-04\n",
            "Epoch 127/1000\n",
            "781/781 [==============================] - 36s 46ms/step - loss: 0.3859 - accuracy: 0.9273 - lr: 2.5000e-04\n",
            "Epoch 128/1000\n",
            "781/781 [==============================] - 36s 46ms/step - loss: 0.3890 - accuracy: 0.9270 - lr: 2.5000e-04\n",
            "Epoch 129/1000\n",
            "781/781 [==============================] - 36s 47ms/step - loss: 0.3798 - accuracy: 0.9291 - lr: 2.5000e-04\n",
            "Epoch 130/1000\n",
            "781/781 [==============================] - 36s 46ms/step - loss: 0.3852 - accuracy: 0.9289 - lr: 2.5000e-04\n",
            "Epoch 131/1000\n",
            "781/781 [==============================] - 36s 47ms/step - loss: 0.3792 - accuracy: 0.9296 - lr: 2.5000e-04\n",
            "Epoch 132/1000\n",
            "781/781 [==============================] - 37s 47ms/step - loss: 0.3801 - accuracy: 0.9291 - lr: 2.5000e-04\n",
            "Epoch 133/1000\n",
            "781/781 [==============================] - 36s 47ms/step - loss: 0.3838 - accuracy: 0.9264 - lr: 2.5000e-04\n",
            "Epoch 134/1000\n",
            "781/781 [==============================] - 36s 46ms/step - loss: 0.3728 - accuracy: 0.9304 - lr: 2.5000e-04\n",
            "Epoch 135/1000\n",
            "781/781 [==============================] - 36s 47ms/step - loss: 0.3780 - accuracy: 0.9283 - lr: 2.5000e-04\n",
            "Epoch 136/1000\n",
            "781/781 [==============================] - 36s 47ms/step - loss: 0.3712 - accuracy: 0.9312 - lr: 2.5000e-04\n",
            "Epoch 137/1000\n",
            "781/781 [==============================] - 36s 46ms/step - loss: 0.3688 - accuracy: 0.9310 - lr: 2.5000e-04\n",
            "Epoch 138/1000\n",
            "781/781 [==============================] - 36s 46ms/step - loss: 0.3728 - accuracy: 0.9296 - lr: 2.5000e-04\n",
            "Epoch 139/1000\n",
            "781/781 [==============================] - 36s 46ms/step - loss: 0.3710 - accuracy: 0.9302 - lr: 2.5000e-04\n",
            "Epoch 140/1000\n",
            "781/781 [==============================] - 36s 46ms/step - loss: 0.3677 - accuracy: 0.9315 - lr: 2.5000e-04\n",
            "Epoch 141/1000\n",
            "781/781 [==============================] - 36s 46ms/step - loss: 0.3731 - accuracy: 0.9291 - lr: 2.5000e-04\n",
            "Epoch 142/1000\n",
            "781/781 [==============================] - 36s 47ms/step - loss: 0.3728 - accuracy: 0.9302 - lr: 2.5000e-04\n",
            "Epoch 143/1000\n",
            "781/781 [==============================] - 37s 47ms/step - loss: 0.3680 - accuracy: 0.9324 - lr: 2.5000e-04\n",
            "Epoch 144/1000\n",
            "781/781 [==============================] - 36s 47ms/step - loss: 0.3675 - accuracy: 0.9306 - lr: 2.5000e-04\n",
            "Epoch 145/1000\n",
            "781/781 [==============================] - 37s 47ms/step - loss: 0.3710 - accuracy: 0.9304 - lr: 2.5000e-04\n",
            "Epoch 146/1000\n",
            "781/781 [==============================] - 36s 46ms/step - loss: 0.3726 - accuracy: 0.9295 - lr: 2.5000e-04\n",
            "Epoch 147/1000\n",
            "781/781 [==============================] - 36s 47ms/step - loss: 0.3640 - accuracy: 0.9318 - lr: 2.5000e-04\n",
            "Epoch 148/1000\n",
            "781/781 [==============================] - 36s 47ms/step - loss: 0.3670 - accuracy: 0.9299 - lr: 2.5000e-04\n",
            "Epoch 149/1000\n",
            "781/781 [==============================] - 36s 46ms/step - loss: 0.3656 - accuracy: 0.9314 - lr: 2.5000e-04\n",
            "Epoch 150/1000\n",
            "781/781 [==============================] - 36s 46ms/step - loss: 0.3679 - accuracy: 0.9296 - lr: 2.5000e-04\n",
            "Epoch 151/1000\n",
            "781/781 [==============================] - 36s 46ms/step - loss: 0.3622 - accuracy: 0.9327 - lr: 2.5000e-04\n",
            "Epoch 152/1000\n",
            "781/781 [==============================] - 36s 47ms/step - loss: 0.3630 - accuracy: 0.9313 - lr: 2.5000e-04\n",
            "Epoch 153/1000\n",
            "781/781 [==============================] - 36s 46ms/step - loss: 0.3600 - accuracy: 0.9315 - lr: 2.5000e-04\n",
            "Epoch 154/1000\n",
            "781/781 [==============================] - 36s 47ms/step - loss: 0.3597 - accuracy: 0.9313 - lr: 2.5000e-04\n",
            "Epoch 155/1000\n",
            "781/781 [==============================] - 36s 46ms/step - loss: 0.3633 - accuracy: 0.9308 - lr: 2.5000e-04\n",
            "Epoch 156/1000\n",
            "781/781 [==============================] - 36s 46ms/step - loss: 0.3630 - accuracy: 0.9308 - lr: 2.5000e-04\n",
            "Epoch 157/1000\n",
            "781/781 [==============================] - 36s 47ms/step - loss: 0.3632 - accuracy: 0.9314 - lr: 2.5000e-04\n",
            "Epoch 158/1000\n",
            "781/781 [==============================] - 36s 46ms/step - loss: 0.3574 - accuracy: 0.9331 - lr: 2.5000e-04\n",
            "Epoch 159/1000\n",
            "781/781 [==============================] - 36s 46ms/step - loss: 0.3588 - accuracy: 0.9323 - lr: 2.5000e-04\n",
            "Epoch 160/1000\n",
            "781/781 [==============================] - 36s 47ms/step - loss: 0.3552 - accuracy: 0.9336 - lr: 2.5000e-04\n",
            "Epoch 161/1000\n",
            "781/781 [==============================] - 36s 46ms/step - loss: 0.3566 - accuracy: 0.9329 - lr: 2.5000e-04\n",
            "Epoch 162/1000\n",
            "781/781 [==============================] - 36s 47ms/step - loss: 0.3505 - accuracy: 0.9342 - lr: 2.5000e-04\n",
            "Epoch 163/1000\n",
            "781/781 [==============================] - 36s 46ms/step - loss: 0.3517 - accuracy: 0.9327 - lr: 2.5000e-04\n",
            "Epoch 164/1000\n",
            "781/781 [==============================] - 36s 46ms/step - loss: 0.3511 - accuracy: 0.9341 - lr: 2.5000e-04\n",
            "Epoch 165/1000\n",
            "781/781 [==============================] - 37s 47ms/step - loss: 0.3469 - accuracy: 0.9357 - lr: 2.5000e-04\n",
            "Epoch 166/1000\n",
            "781/781 [==============================] - 36s 46ms/step - loss: 0.3553 - accuracy: 0.9330 - lr: 2.5000e-04\n",
            "Epoch 167/1000\n",
            "781/781 [==============================] - 36s 46ms/step - loss: 0.3548 - accuracy: 0.9321 - lr: 2.5000e-04\n",
            "Epoch 168/1000\n",
            "781/781 [==============================] - 37s 47ms/step - loss: 0.3532 - accuracy: 0.9320 - lr: 2.5000e-04\n",
            "Epoch 169/1000\n",
            "781/781 [==============================] - 36s 46ms/step - loss: 0.3513 - accuracy: 0.9343 - lr: 2.5000e-04\n",
            "Epoch 170/1000\n",
            "781/781 [==============================] - ETA: 0s - loss: 0.3566 - accuracy: 0.9322\n",
            "Epoch 00170: ReduceLROnPlateau reducing learning rate to 0.0001250000059371814.\n",
            "781/781 [==============================] - 38s 49ms/step - loss: 0.3566 - accuracy: 0.9322 - lr: 2.5000e-04\n",
            "Epoch 171/1000\n",
            "781/781 [==============================] - 37s 48ms/step - loss: 0.3335 - accuracy: 0.9389 - lr: 1.2500e-04\n",
            "Epoch 172/1000\n",
            "781/781 [==============================] - 38s 48ms/step - loss: 0.3238 - accuracy: 0.9427 - lr: 1.2500e-04\n",
            "Epoch 173/1000\n",
            "781/781 [==============================] - 37s 48ms/step - loss: 0.3231 - accuracy: 0.9431 - lr: 1.2500e-04\n",
            "Epoch 174/1000\n",
            "781/781 [==============================] - 38s 48ms/step - loss: 0.3172 - accuracy: 0.9431 - lr: 1.2500e-04\n",
            "Epoch 175/1000\n",
            "781/781 [==============================] - 37s 47ms/step - loss: 0.3134 - accuracy: 0.9452 - lr: 1.2500e-04\n",
            "Epoch 176/1000\n",
            "781/781 [==============================] - 38s 48ms/step - loss: 0.3136 - accuracy: 0.9443 - lr: 1.2500e-04\n",
            "Epoch 177/1000\n",
            "781/781 [==============================] - 37s 47ms/step - loss: 0.3089 - accuracy: 0.9452 - lr: 1.2500e-04\n",
            "Epoch 178/1000\n",
            "781/781 [==============================] - 37s 48ms/step - loss: 0.3142 - accuracy: 0.9438 - lr: 1.2500e-04\n",
            "Epoch 179/1000\n",
            "781/781 [==============================] - 37s 47ms/step - loss: 0.3038 - accuracy: 0.9465 - lr: 1.2500e-04\n",
            "Epoch 180/1000\n",
            "781/781 [==============================] - 37s 47ms/step - loss: 0.3048 - accuracy: 0.9471 - lr: 1.2500e-04\n",
            "Epoch 181/1000\n",
            "781/781 [==============================] - 37s 47ms/step - loss: 0.3043 - accuracy: 0.9467 - lr: 1.2500e-04\n",
            "Epoch 182/1000\n",
            "781/781 [==============================] - 37s 48ms/step - loss: 0.3041 - accuracy: 0.9463 - lr: 1.2500e-04\n",
            "Epoch 183/1000\n",
            "781/781 [==============================] - 37s 48ms/step - loss: 0.3024 - accuracy: 0.9469 - lr: 1.2500e-04\n",
            "Epoch 184/1000\n",
            "781/781 [==============================] - 37s 47ms/step - loss: 0.2979 - accuracy: 0.9470 - lr: 1.2500e-04\n",
            "Epoch 185/1000\n",
            "781/781 [==============================] - 37s 48ms/step - loss: 0.3049 - accuracy: 0.9455 - lr: 1.2500e-04\n",
            "Epoch 186/1000\n",
            "781/781 [==============================] - 37s 48ms/step - loss: 0.3019 - accuracy: 0.9470 - lr: 1.2500e-04\n",
            "Epoch 187/1000\n",
            "781/781 [==============================] - 37s 48ms/step - loss: 0.2961 - accuracy: 0.9468 - lr: 1.2500e-04\n",
            "Epoch 188/1000\n",
            "781/781 [==============================] - 37s 48ms/step - loss: 0.2982 - accuracy: 0.9472 - lr: 1.2500e-04\n",
            "Epoch 189/1000\n",
            "781/781 [==============================] - 37s 47ms/step - loss: 0.2940 - accuracy: 0.9483 - lr: 1.2500e-04\n",
            "Epoch 190/1000\n",
            "781/781 [==============================] - 36s 47ms/step - loss: 0.2991 - accuracy: 0.9463 - lr: 1.2500e-04\n",
            "Epoch 191/1000\n",
            "781/781 [==============================] - 36s 47ms/step - loss: 0.2942 - accuracy: 0.9470 - lr: 1.2500e-04\n",
            "Epoch 192/1000\n",
            "781/781 [==============================] - 38s 48ms/step - loss: 0.2928 - accuracy: 0.9478 - lr: 1.2500e-04\n",
            "Epoch 193/1000\n",
            "781/781 [==============================] - 38s 49ms/step - loss: 0.2886 - accuracy: 0.9495 - lr: 1.2500e-04\n",
            "Epoch 194/1000\n",
            "781/781 [==============================] - 37s 47ms/step - loss: 0.2924 - accuracy: 0.9486 - lr: 1.2500e-04\n",
            "Epoch 195/1000\n",
            "781/781 [==============================] - 36s 46ms/step - loss: 0.2924 - accuracy: 0.9474 - lr: 1.2500e-04\n",
            "Epoch 196/1000\n",
            "781/781 [==============================] - 36s 46ms/step - loss: 0.2901 - accuracy: 0.9480 - lr: 1.2500e-04\n",
            "Epoch 197/1000\n",
            "781/781 [==============================] - 36s 46ms/step - loss: 0.2845 - accuracy: 0.9497 - lr: 1.2500e-04\n",
            "Epoch 198/1000\n",
            "781/781 [==============================] - 36s 46ms/step - loss: 0.2873 - accuracy: 0.9484 - lr: 1.2500e-04\n",
            "Epoch 199/1000\n",
            "781/781 [==============================] - 36s 46ms/step - loss: 0.2878 - accuracy: 0.9482 - lr: 1.2500e-04\n",
            "Epoch 200/1000\n",
            "781/781 [==============================] - 36s 46ms/step - loss: 0.2876 - accuracy: 0.9487 - lr: 1.2500e-04\n",
            "Epoch 201/1000\n",
            "781/781 [==============================] - 36s 46ms/step - loss: 0.2852 - accuracy: 0.9492 - lr: 1.2500e-04\n",
            "Epoch 202/1000\n",
            "781/781 [==============================] - ETA: 0s - loss: 0.2878 - accuracy: 0.9478\n",
            "Epoch 00202: ReduceLROnPlateau reducing learning rate to 6.25000029685907e-05.\n",
            "781/781 [==============================] - 36s 46ms/step - loss: 0.2878 - accuracy: 0.9478 - lr: 1.2500e-04\n",
            "Epoch 203/1000\n",
            "781/781 [==============================] - 36s 46ms/step - loss: 0.2744 - accuracy: 0.9523 - lr: 6.2500e-05\n",
            "Epoch 204/1000\n",
            "781/781 [==============================] - 37s 47ms/step - loss: 0.2734 - accuracy: 0.9530 - lr: 6.2500e-05\n",
            "Epoch 205/1000\n",
            "781/781 [==============================] - 37s 48ms/step - loss: 0.2653 - accuracy: 0.9547 - lr: 6.2500e-05\n",
            "Epoch 206/1000\n",
            "781/781 [==============================] - 37s 48ms/step - loss: 0.2690 - accuracy: 0.9531 - lr: 6.2500e-05\n",
            "Epoch 207/1000\n",
            "781/781 [==============================] - 37s 48ms/step - loss: 0.2671 - accuracy: 0.9537 - lr: 6.2500e-05\n",
            "Epoch 208/1000\n",
            "781/781 [==============================] - 37s 47ms/step - loss: 0.2643 - accuracy: 0.9548 - lr: 6.2500e-05\n",
            "Epoch 209/1000\n",
            "781/781 [==============================] - 37s 47ms/step - loss: 0.2642 - accuracy: 0.9546 - lr: 6.2500e-05\n",
            "Epoch 210/1000\n",
            "781/781 [==============================] - 37s 47ms/step - loss: 0.2607 - accuracy: 0.9569 - lr: 6.2500e-05\n",
            "Epoch 211/1000\n",
            "781/781 [==============================] - 37s 48ms/step - loss: 0.2590 - accuracy: 0.9558 - lr: 6.2500e-05\n",
            "Epoch 212/1000\n",
            "781/781 [==============================] - 37s 48ms/step - loss: 0.2616 - accuracy: 0.9559 - lr: 6.2500e-05\n",
            "Epoch 213/1000\n",
            "781/781 [==============================] - 37s 48ms/step - loss: 0.2576 - accuracy: 0.9565 - lr: 6.2500e-05\n",
            "Epoch 214/1000\n",
            "781/781 [==============================] - 37s 48ms/step - loss: 0.2580 - accuracy: 0.9569 - lr: 6.2500e-05\n",
            "Epoch 215/1000\n",
            "781/781 [==============================] - 37s 47ms/step - loss: 0.2552 - accuracy: 0.9575 - lr: 6.2500e-05\n",
            "Epoch 216/1000\n",
            "781/781 [==============================] - 37s 48ms/step - loss: 0.2577 - accuracy: 0.9560 - lr: 6.2500e-05\n",
            "Epoch 217/1000\n",
            "781/781 [==============================] - 38s 48ms/step - loss: 0.2608 - accuracy: 0.9557 - lr: 6.2500e-05\n",
            "Epoch 218/1000\n",
            "781/781 [==============================] - 37s 47ms/step - loss: 0.2526 - accuracy: 0.9574 - lr: 6.2500e-05\n",
            "Epoch 219/1000\n",
            "781/781 [==============================] - 37s 48ms/step - loss: 0.2572 - accuracy: 0.9555 - lr: 6.2500e-05\n",
            "Epoch 220/1000\n",
            "781/781 [==============================] - 37s 47ms/step - loss: 0.2502 - accuracy: 0.9582 - lr: 6.2500e-05\n",
            "Epoch 221/1000\n",
            "781/781 [==============================] - 36s 47ms/step - loss: 0.2550 - accuracy: 0.9568 - lr: 6.2500e-05\n",
            "Epoch 222/1000\n",
            "781/781 [==============================] - 37s 47ms/step - loss: 0.2537 - accuracy: 0.9577 - lr: 6.2500e-05\n",
            "Epoch 223/1000\n",
            "781/781 [==============================] - 36s 47ms/step - loss: 0.2585 - accuracy: 0.9563 - lr: 6.2500e-05\n",
            "Epoch 224/1000\n",
            "781/781 [==============================] - 37s 48ms/step - loss: 0.2533 - accuracy: 0.9567 - lr: 6.2500e-05\n",
            "Epoch 225/1000\n",
            "781/781 [==============================] - 37s 47ms/step - loss: 0.2496 - accuracy: 0.9578 - lr: 6.2500e-05\n",
            "Epoch 226/1000\n",
            "781/781 [==============================] - 37s 48ms/step - loss: 0.2527 - accuracy: 0.9578 - lr: 6.2500e-05\n",
            "Epoch 227/1000\n",
            "781/781 [==============================] - 37s 47ms/step - loss: 0.2531 - accuracy: 0.9575 - lr: 6.2500e-05\n",
            "Epoch 228/1000\n",
            "781/781 [==============================] - 36s 46ms/step - loss: 0.2461 - accuracy: 0.9577 - lr: 6.2500e-05\n",
            "Epoch 229/1000\n",
            "781/781 [==============================] - 36s 47ms/step - loss: 0.2500 - accuracy: 0.9577 - lr: 6.2500e-05\n",
            "Epoch 230/1000\n",
            "781/781 [==============================] - 37s 47ms/step - loss: 0.2493 - accuracy: 0.9584 - lr: 6.2500e-05\n",
            "Epoch 231/1000\n",
            "781/781 [==============================] - 36s 46ms/step - loss: 0.2505 - accuracy: 0.9580 - lr: 6.2500e-05\n",
            "Epoch 232/1000\n",
            "781/781 [==============================] - 37s 47ms/step - loss: 0.2420 - accuracy: 0.9602 - lr: 6.2500e-05\n",
            "Epoch 233/1000\n",
            "781/781 [==============================] - 37s 48ms/step - loss: 0.2497 - accuracy: 0.9582 - lr: 6.2500e-05\n",
            "Epoch 234/1000\n",
            "781/781 [==============================] - 36s 47ms/step - loss: 0.2484 - accuracy: 0.9570 - lr: 6.2500e-05\n",
            "Epoch 235/1000\n",
            "781/781 [==============================] - 37s 47ms/step - loss: 0.2422 - accuracy: 0.9599 - lr: 6.2500e-05\n",
            "Epoch 236/1000\n",
            "781/781 [==============================] - 37s 47ms/step - loss: 0.2467 - accuracy: 0.9585 - lr: 6.2500e-05\n",
            "Epoch 237/1000\n",
            "781/781 [==============================] - ETA: 0s - loss: 0.2430 - accuracy: 0.9599\n",
            "Epoch 00237: ReduceLROnPlateau reducing learning rate to 3.125000148429535e-05.\n",
            "781/781 [==============================] - 37s 48ms/step - loss: 0.2430 - accuracy: 0.9599 - lr: 6.2500e-05\n",
            "Epoch 238/1000\n",
            "781/781 [==============================] - 37s 47ms/step - loss: 0.2446 - accuracy: 0.9586 - lr: 3.1250e-05\n",
            "Epoch 239/1000\n",
            "781/781 [==============================] - 37s 47ms/step - loss: 0.2354 - accuracy: 0.9612 - lr: 3.1250e-05\n",
            "Epoch 240/1000\n",
            "781/781 [==============================] - 37s 48ms/step - loss: 0.2334 - accuracy: 0.9620 - lr: 3.1250e-05\n",
            "Epoch 241/1000\n",
            "781/781 [==============================] - 37s 48ms/step - loss: 0.2360 - accuracy: 0.9605 - lr: 3.1250e-05\n",
            "Epoch 242/1000\n",
            "781/781 [==============================] - 37s 47ms/step - loss: 0.2362 - accuracy: 0.9616 - lr: 3.1250e-05\n",
            "Epoch 243/1000\n",
            "781/781 [==============================] - 37s 47ms/step - loss: 0.2335 - accuracy: 0.9615 - lr: 3.1250e-05\n",
            "Epoch 244/1000\n",
            "781/781 [==============================] - 36s 47ms/step - loss: 0.2372 - accuracy: 0.9608 - lr: 3.1250e-05\n",
            "Epoch 245/1000\n",
            "781/781 [==============================] - 37s 47ms/step - loss: 0.2316 - accuracy: 0.9627 - lr: 3.1250e-05\n",
            "Epoch 246/1000\n",
            "781/781 [==============================] - 37s 47ms/step - loss: 0.2330 - accuracy: 0.9616 - lr: 3.1250e-05\n",
            "Epoch 247/1000\n",
            "781/781 [==============================] - 36s 46ms/step - loss: 0.2317 - accuracy: 0.9623 - lr: 3.1250e-05\n",
            "Epoch 248/1000\n",
            "781/781 [==============================] - 36s 46ms/step - loss: 0.2384 - accuracy: 0.9607 - lr: 3.1250e-05\n",
            "Epoch 249/1000\n",
            "781/781 [==============================] - 36s 46ms/step - loss: 0.2262 - accuracy: 0.9633 - lr: 3.1250e-05\n",
            "Epoch 250/1000\n",
            "781/781 [==============================] - 36s 46ms/step - loss: 0.2318 - accuracy: 0.9626 - lr: 3.1250e-05\n",
            "Epoch 251/1000\n",
            "781/781 [==============================] - 37s 47ms/step - loss: 0.2348 - accuracy: 0.9610 - lr: 3.1250e-05\n",
            "Epoch 252/1000\n",
            "781/781 [==============================] - 36s 46ms/step - loss: 0.2293 - accuracy: 0.9623 - lr: 3.1250e-05\n",
            "Epoch 253/1000\n",
            "781/781 [==============================] - 37s 47ms/step - loss: 0.2251 - accuracy: 0.9640 - lr: 3.1250e-05\n",
            "Epoch 254/1000\n",
            "781/781 [==============================] - 36s 46ms/step - loss: 0.2271 - accuracy: 0.9624 - lr: 3.1250e-05\n",
            "Epoch 255/1000\n",
            "781/781 [==============================] - 36s 46ms/step - loss: 0.2255 - accuracy: 0.9640 - lr: 3.1250e-05\n",
            "Epoch 256/1000\n",
            "781/781 [==============================] - 36s 47ms/step - loss: 0.2273 - accuracy: 0.9636 - lr: 3.1250e-05\n",
            "Epoch 257/1000\n",
            "781/781 [==============================] - 37s 47ms/step - loss: 0.2304 - accuracy: 0.9620 - lr: 3.1250e-05\n",
            "Epoch 258/1000\n",
            "781/781 [==============================] - ETA: 0s - loss: 0.2294 - accuracy: 0.9621\n",
            "Epoch 00258: ReduceLROnPlateau reducing learning rate to 1.5625000742147677e-05.\n",
            "781/781 [==============================] - 37s 47ms/step - loss: 0.2294 - accuracy: 0.9621 - lr: 3.1250e-05\n",
            "Epoch 259/1000\n",
            "781/781 [==============================] - 36s 46ms/step - loss: 0.2283 - accuracy: 0.9621 - lr: 1.5625e-05\n",
            "Epoch 260/1000\n",
            "781/781 [==============================] - 37s 47ms/step - loss: 0.2257 - accuracy: 0.9636 - lr: 1.5625e-05\n",
            "Epoch 261/1000\n",
            "781/781 [==============================] - 36s 47ms/step - loss: 0.2203 - accuracy: 0.9646 - lr: 1.5625e-05\n",
            "Epoch 262/1000\n",
            "781/781 [==============================] - 36s 47ms/step - loss: 0.2265 - accuracy: 0.9639 - lr: 1.5625e-05\n",
            "Epoch 263/1000\n",
            "781/781 [==============================] - 37s 47ms/step - loss: 0.2203 - accuracy: 0.9649 - lr: 1.5625e-05\n",
            "Epoch 264/1000\n",
            "781/781 [==============================] - 37s 47ms/step - loss: 0.2276 - accuracy: 0.9625 - lr: 1.5625e-05\n",
            "Epoch 265/1000\n",
            "781/781 [==============================] - 36s 47ms/step - loss: 0.2251 - accuracy: 0.9634 - lr: 1.5625e-05\n",
            "Epoch 266/1000\n",
            "781/781 [==============================] - 36s 47ms/step - loss: 0.2259 - accuracy: 0.9630 - lr: 1.5625e-05\n",
            "Epoch 267/1000\n",
            "781/781 [==============================] - 36s 46ms/step - loss: 0.2263 - accuracy: 0.9623 - lr: 1.5625e-05\n",
            "Epoch 268/1000\n",
            "781/781 [==============================] - ETA: 0s - loss: 0.2262 - accuracy: 0.9632\n",
            "Epoch 00268: ReduceLROnPlateau reducing learning rate to 7.812500371073838e-06.\n",
            "781/781 [==============================] - 37s 47ms/step - loss: 0.2262 - accuracy: 0.9632 - lr: 1.5625e-05\n",
            "Epoch 269/1000\n",
            "781/781 [==============================] - 37s 47ms/step - loss: 0.2226 - accuracy: 0.9634 - lr: 7.8125e-06\n",
            "Epoch 270/1000\n",
            "781/781 [==============================] - 38s 49ms/step - loss: 0.2200 - accuracy: 0.9648 - lr: 7.8125e-06\n",
            "Epoch 271/1000\n",
            "781/781 [==============================] - 38s 48ms/step - loss: 0.2192 - accuracy: 0.9651 - lr: 7.8125e-06\n",
            "Epoch 272/1000\n",
            "781/781 [==============================] - 37s 48ms/step - loss: 0.2223 - accuracy: 0.9644 - lr: 7.8125e-06\n",
            "Epoch 273/1000\n",
            "781/781 [==============================] - 37s 48ms/step - loss: 0.2198 - accuracy: 0.9654 - lr: 7.8125e-06\n",
            "Epoch 274/1000\n",
            "781/781 [==============================] - 37s 48ms/step - loss: 0.2190 - accuracy: 0.9651 - lr: 7.8125e-06\n",
            "Epoch 275/1000\n",
            "781/781 [==============================] - 37s 48ms/step - loss: 0.2216 - accuracy: 0.9646 - lr: 7.8125e-06\n",
            "Epoch 276/1000\n",
            "781/781 [==============================] - 37s 48ms/step - loss: 0.2175 - accuracy: 0.9650 - lr: 7.8125e-06\n",
            "Epoch 277/1000\n",
            "781/781 [==============================] - 37s 48ms/step - loss: 0.2148 - accuracy: 0.9660 - lr: 7.8125e-06\n",
            "Epoch 278/1000\n",
            "781/781 [==============================] - 36s 47ms/step - loss: 0.2204 - accuracy: 0.9642 - lr: 7.8125e-06\n",
            "Epoch 279/1000\n",
            "781/781 [==============================] - 36s 46ms/step - loss: 0.2206 - accuracy: 0.9647 - lr: 7.8125e-06\n",
            "Epoch 280/1000\n",
            "781/781 [==============================] - 37s 48ms/step - loss: 0.2204 - accuracy: 0.9646 - lr: 7.8125e-06\n",
            "Epoch 281/1000\n",
            "781/781 [==============================] - 37s 47ms/step - loss: 0.2219 - accuracy: 0.9639 - lr: 7.8125e-06\n",
            "Epoch 282/1000\n",
            "780/781 [============================>.] - ETA: 0s - loss: 0.2187 - accuracy: 0.9649\n",
            "Epoch 00282: ReduceLROnPlateau reducing learning rate to 3.906250185536919e-06.\n",
            "781/781 [==============================] - 36s 46ms/step - loss: 0.2191 - accuracy: 0.9648 - lr: 7.8125e-06\n",
            "Epoch 283/1000\n",
            "781/781 [==============================] - 36s 46ms/step - loss: 0.2235 - accuracy: 0.9633 - lr: 3.9063e-06\n",
            "Epoch 284/1000\n",
            "781/781 [==============================] - 35s 45ms/step - loss: 0.2194 - accuracy: 0.9646 - lr: 3.9063e-06\n",
            "Epoch 285/1000\n",
            "781/781 [==============================] - 35s 45ms/step - loss: 0.2212 - accuracy: 0.9643 - lr: 3.9063e-06\n",
            "Epoch 286/1000\n",
            "781/781 [==============================] - 35s 45ms/step - loss: 0.2181 - accuracy: 0.9643 - lr: 3.9063e-06\n",
            "Epoch 287/1000\n",
            "781/781 [==============================] - ETA: 0s - loss: 0.2167 - accuracy: 0.9658\n",
            "Epoch 00287: ReduceLROnPlateau reducing learning rate to 1.9531250927684596e-06.\n",
            "781/781 [==============================] - 35s 45ms/step - loss: 0.2167 - accuracy: 0.9658 - lr: 3.9063e-06\n",
            "Epoch 288/1000\n",
            "781/781 [==============================] - 35s 45ms/step - loss: 0.2154 - accuracy: 0.9657 - lr: 1.9531e-06\n",
            "Epoch 289/1000\n",
            "781/781 [==============================] - ETA: 0s - loss: 0.2177 - accuracy: 0.9656Restoring model weights from the end of the best epoch.\n",
            "781/781 [==============================] - 35s 45ms/step - loss: 0.2177 - accuracy: 0.9656 - lr: 1.9531e-06\n",
            "Epoch 00289: early stopping\n"
          ],
          "name": "stdout"
        },
        {
          "output_type": "execute_result",
          "data": {
            "text/plain": [
              "<tensorflow.python.keras.callbacks.History at 0x7f35bfbdf358>"
            ]
          },
          "metadata": {
            "tags": []
          },
          "execution_count": 46
        }
      ]
    },
    {
      "cell_type": "code",
      "metadata": {
        "id": "usfs3Dp-bz6Q",
        "colab": {
          "base_uri": "https://localhost:8080/",
          "height": 34
        },
        "outputId": "f383a7e9-08bb-4269-e6eb-e69d1b131dd1"
      },
      "source": [
        "_, acc = model.evaluate(x_test, y_test, verbose=0)\n",
        "print('> %.3f' % (acc * 100.0))"
      ],
      "execution_count": null,
      "outputs": [
        {
          "output_type": "stream",
          "text": [
            "> 92.560\n"
          ],
          "name": "stdout"
        }
      ]
    },
    {
      "cell_type": "code",
      "metadata": {
        "id": "3CZDHHNpb2ok"
      },
      "source": [
        ""
      ],
      "execution_count": null,
      "outputs": []
    }
  ]
}