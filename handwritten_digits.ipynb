{
  "nbformat": 4,
  "nbformat_minor": 0,
  "metadata": {
    "colab": {
      "name": "handwritten_digits.ipynb",
      "provenance": [],
      "collapsed_sections": [],
      "authorship_tag": "ABX9TyNRytYfvqTrTymSpSgWHCvl",
      "include_colab_link": true
    },
    "kernelspec": {
      "name": "python3",
      "display_name": "Python 3"
    }
  },
  "cells": [
    {
      "cell_type": "markdown",
      "metadata": {
        "id": "view-in-github",
        "colab_type": "text"
      },
      "source": [
        "<a href=\"https://colab.research.google.com/github/claudiohfg/notebooks/blob/main/handwritten_digits.ipynb\" target=\"_parent\"><img src=\"https://colab.research.google.com/assets/colab-badge.svg\" alt=\"Open In Colab\"/></a>"
      ]
    },
    {
      "cell_type": "markdown",
      "metadata": {
        "id": "DJ-z-B11xWRQ"
      },
      "source": [
        "# Imports"
      ]
    },
    {
      "cell_type": "code",
      "metadata": {
        "id": "MqgF_Jlpwm_e"
      },
      "source": [
        "from IPython.display import display\r\n",
        "from lightgbm import LGBMClassifier\r\n",
        "import matplotlib.pyplot as plt\r\n",
        "import numpy as np\r\n",
        "import pandas as pd\r\n",
        "import seaborn as sns\r\n",
        "import sklearn as sk\r\n",
        "from sklearn.datasets import load_digits\r\n",
        "from sklearn.ensemble import RandomForestClassifier\r\n",
        "from sklearn.ensemble import VotingClassifier\r\n",
        "from sklearn.metrics import accuracy_score\r\n",
        "from sklearn.model_selection import cross_val_score\r\n",
        "from sklearn.model_selection import RandomizedSearchCV\r\n",
        "from sklearn.model_selection import RepeatedStratifiedKFold\r\n",
        "from sklearn.model_selection import train_test_split\r\n",
        "from sklearn.neighbors import KNeighborsClassifier\r\n",
        "from sklearn.neural_network import MLPClassifier\r\n",
        "from tqdm import tqdm\r\n",
        "import warnings"
      ],
      "execution_count": null,
      "outputs": []
    },
    {
      "cell_type": "code",
      "metadata": {
        "id": "fBgm8qP8boU0"
      },
      "source": [
        "warnings.simplefilter(action='ignore', category=sk.exceptions.ConvergenceWarning)"
      ],
      "execution_count": null,
      "outputs": []
    },
    {
      "cell_type": "markdown",
      "metadata": {
        "id": "NLxK98solMZD"
      },
      "source": [
        "# Utility functions"
      ]
    },
    {
      "cell_type": "code",
      "metadata": {
        "id": "LG92hU9TlMox"
      },
      "source": [
        "def eval_model(\r\n",
        "    model,\r\n",
        "    X: np.array, \r\n",
        "    y: np.array, \r\n",
        "    cv, \r\n",
        "    scoring: str,\r\n",
        "    verbose=True) -> np.array:\r\n",
        "    score = cross_val_score(\r\n",
        "        model,\r\n",
        "        X, y,\r\n",
        "        cv=cv,\r\n",
        "        scoring=scoring,\r\n",
        "        n_jobs=-1)\r\n",
        "    \r\n",
        "    if verbose:\r\n",
        "        score_median = np.abs(np.median(score))\r\n",
        "        score_stddev = np.std(score)\r\n",
        "\r\n",
        "        print(f'Median = {score_median} Stddev = {score_stddev}')\r\n",
        "\r\n",
        "        column = str(type(model)).split('.')[-1].split(\"'\")[0]\r\n",
        "        pd.DataFrame(score, columns=[column]).plot(\r\n",
        "            kind='kde',\r\n",
        "            figsize=(10,5),\r\n",
        "            xlabel='Predictions',\r\n",
        "            ylabel='Score',\r\n",
        "            sort_columns=True\r\n",
        "        )\r\n",
        "\r\n",
        "        plt.axvline(score_median - 2 * score_stddev, color='yellow', linestyle=\"--\")\r\n",
        "        plt.axvline(score_median - score_stddev, color='orange', linestyle=\"--\")\r\n",
        "        plt.axvline(score_median, color='red', linestyle=\"--\")\r\n",
        "        plt.axvline(score_median + score_stddev, color='orange', linestyle=\"--\")\r\n",
        "        plt.axvline(score_median + 2 * score_stddev, color='yellow', linestyle=\"--\")\r\n",
        "\r\n",
        "        plt.show()\r\n",
        "\r\n",
        "    return score"
      ],
      "execution_count": null,
      "outputs": []
    },
    {
      "cell_type": "markdown",
      "metadata": {
        "id": "cJueybS8xU3a"
      },
      "source": [
        "# Loading"
      ]
    },
    {
      "cell_type": "code",
      "metadata": {
        "id": "LJg5QrByw7kt"
      },
      "source": [
        "data = load_digits()"
      ],
      "execution_count": null,
      "outputs": []
    },
    {
      "cell_type": "code",
      "metadata": {
        "colab": {
          "base_uri": "https://localhost:8080/",
          "height": 283
        },
        "id": "4YyadhMYxb-j",
        "outputId": "d82738f3-42a6-40df-ae22-25f095960f97"
      },
      "source": [
        "image_idx = np.random.randint(0, data.images.shape[0])\r\n",
        "print(f'Number {data.target[image_idx]}')\r\n",
        "plt.imshow(data.images[image_idx])\r\n",
        "plt.show()"
      ],
      "execution_count": null,
      "outputs": [
        {
          "output_type": "stream",
          "text": [
            "Number 8\n"
          ],
          "name": "stdout"
        },
        {
          "output_type": "display_data",
          "data": {
            "image/png": "[encoded data removed]",
            "text/plain": [
              "<Figure size 432x288 with 1 Axes>"
            ]
          },
          "metadata": {
            "tags": [],
            "needs_background": "light"
          }
        }
      ]
    },
    {
      "cell_type": "markdown",
      "metadata": {
        "id": "ArNp51ooxP_8"
      },
      "source": [
        "# Problem description"
      ]
    },
    {
      "cell_type": "code",
      "metadata": {
        "colab": {
          "base_uri": "https://localhost:8080/"
        },
        "id": "-QWjAsPKxCMO",
        "outputId": "90697e5c-6a65-473b-b8d2-4a555fe305f5"
      },
      "source": [
        "print(data['DESCR'])"
      ],
      "execution_count": null,
      "outputs": [
        {
          "output_type": "stream",
          "text": [
            ".. _digits_dataset:\n",
            "\n",
            "Optical recognition of handwritten digits dataset\n",
            "--------------------------------------------------\n",
            "\n",
            "**Data Set Characteristics:**\n",
            "\n",
            "    :Number of Instances: 5620\n",
            "    :Number of Attributes: 64\n",
            "    :Attribute Information: 8x8 image of integer pixels in the range 0..16.\n",
            "    :Missing Attribute Values: None\n",
            "    :Creator: E. Alpaydin (alpaydin '@' boun.edu.tr)\n",
            "    :Date: July; 1998\n",
            "\n",
            "This is a copy of the test set of the UCI ML hand-written digits datasets\n",
            "https://archive.ics.uci.edu/ml/datasets/Optical+Recognition+of+Handwritten+Digits\n",
            "\n",
            "The data set contains images of hand-written digits: 10 classes where\n",
            "each class refers to a digit.\n",
            "\n",
            "Preprocessing programs made available by NIST were used to extract\n",
            "normalized bitmaps of handwritten digits from a preprinted form. From a\n",
            "total of 43 people, 30 contributed to the training set and different 13\n",
            "to the test set. 32x32 bitmaps are divided into nonoverlapping blocks of\n",
            "4x4 and the number of on pixels are counted in each block. This generates\n",
            "an input matrix of 8x8 where each element is an integer in the range\n",
            "0..16. This reduces dimensionality and gives invariance to small\n",
            "distortions.\n",
            "\n",
            "For info on NIST preprocessing routines, see M. D. Garris, J. L. Blue, G.\n",
            "T. Candela, D. L. Dimmick, J. Geist, P. J. Grother, S. A. Janet, and C.\n",
            "L. Wilson, NIST Form-Based Handprint Recognition System, NISTIR 5469,\n",
            "1994.\n",
            "\n",
            ".. topic:: References\n",
            "\n",
            "  - C. Kaynak (1995) Methods of Combining Multiple Classifiers and Their\n",
            "    Applications to Handwritten Digit Recognition, MSc Thesis, Institute of\n",
            "    Graduate Studies in Science and Engineering, Bogazici University.\n",
            "  - E. Alpaydin, C. Kaynak (1998) Cascading Classifiers, Kybernetika.\n",
            "  - Ken Tang and Ponnuthurai N. Suganthan and Xi Yao and A. Kai Qin.\n",
            "    Linear dimensionalityreduction using relevance weighted LDA. School of\n",
            "    Electrical and Electronic Engineering Nanyang Technological University.\n",
            "    2005.\n",
            "  - Claudio Gentile. A New Approximate Maximal Margin Classification\n",
            "    Algorithm. NIPS. 2000.\n"
          ],
          "name": "stdout"
        }
      ]
    },
    {
      "cell_type": "markdown",
      "metadata": {
        "id": "0if0p9aVIFHZ"
      },
      "source": [
        "# Train eval split"
      ]
    },
    {
      "cell_type": "markdown",
      "metadata": {
        "id": "nqe-s7anKOuQ"
      },
      "source": [
        "Data will be split into two sets, one for training, the other for validation."
      ]
    },
    {
      "cell_type": "code",
      "metadata": {
        "id": "YHGm6iqNxC7k"
      },
      "source": [
        "X_train, X_eval, y_train, y_eval = train_test_split(\r\n",
        "    data.data, data.target, test_size=0.2)"
      ],
      "execution_count": null,
      "outputs": []
    },
    {
      "cell_type": "markdown",
      "metadata": {
        "id": "ljmvi_y7ILYr"
      },
      "source": [
        "# Model selection"
      ]
    },
    {
      "cell_type": "markdown",
      "metadata": {
        "id": "19Nv2vBiIXuB"
      },
      "source": [
        "These models were previously trained and had their parameters validated using RandomizedSearchCV."
      ]
    },
    {
      "cell_type": "code",
      "metadata": {
        "id": "dagZFWNj5RUx"
      },
      "source": [
        "models = [\r\n",
        "    ('LGBMClassifier', LGBMClassifier),\r\n",
        "    ('KNeighbors', KNeighborsClassifier),\r\n",
        "    ('RandomForest', RandomForestClassifier),\r\n",
        "    ('MLPClassifier', MLPClassifier)\r\n",
        "]"
      ],
      "execution_count": null,
      "outputs": []
    },
    {
      "cell_type": "code",
      "metadata": {
        "id": "fnl8sphhaZ2y"
      },
      "source": [
        "params = [\r\n",
        "    {\r\n",
        "        'boosting_type': ['gbdt', 'dart', 'goss'],\r\n",
        "        'num_leaves': [17, 31, 63],\r\n",
        "        'learning_rate': [0.1, 1e-2, 1e-3],\r\n",
        "        'n_estimators': [100, 150, 200, 250, 300],\r\n",
        "    },\r\n",
        "    {\r\n",
        "        'n_neighbors': [3, 5, 7, 9, 11],\r\n",
        "        'leaf_size': [17, 31, 63, 127],\r\n",
        "        'weights': ['uniform', 'distance'],\r\n",
        "        'n_jobs': [-1]\r\n",
        "    },\r\n",
        "    {\r\n",
        "        'n_estimators': [100, 150, 200, 250, 300],\r\n",
        "        'oob_score': [True, False],\r\n",
        "        'criterion': ['gini', 'entropy'],\r\n",
        "        'n_jobs': [-1],\r\n",
        "    },\r\n",
        "    {\r\n",
        "        'hidden_layer_sizes': [(100,), (100, 100,), (200, 200,), (100, 100, 100,)],\r\n",
        "        'activation': ['tanh', 'relu'],\r\n",
        "        'solver': ['lbfgs', 'sgd', 'adam'],\r\n",
        "        'learning_rate': ['constant', 'invscaling', 'adaptive'],\r\n",
        "        'max_iter': [200, 250, 300],\r\n",
        "        'tol': [1e-4, 1e-5],\r\n",
        "        'early_stopping': [True, False],\r\n",
        "        'n_iter_no_change': [10, 15, 20],\r\n",
        "    }\r\n",
        "]"
      ],
      "execution_count": null,
      "outputs": []
    },
    {
      "cell_type": "code",
      "metadata": {
        "colab": {
          "base_uri": "https://localhost:8080/"
        },
        "id": "dxLqOLg8akgA",
        "outputId": "6f2a4f49-af9d-4ffc-f2ab-c4b01bae95b0"
      },
      "source": [
        "best_params = []\r\n",
        "scores = []\r\n",
        "\r\n",
        "for idx in tqdm(range(len(models))):\r\n",
        "    name, model = models[idx]\r\n",
        "    rscv = RandomizedSearchCV(\r\n",
        "        model(),\r\n",
        "        params[idx],\r\n",
        "        scoring='accuracy',\r\n",
        "        n_iter=15,\r\n",
        "        cv=RepeatedStratifiedKFold(n_splits=3, n_repeats=1, random_state=0))\r\n",
        "    rscv.fit(X_train, y_train)\r\n",
        "    best_params.append(rscv.best_params_)\r\n",
        "    scores.append(f'Model {name} \\t Score {rscv.best_score_}')\r\n",
        "\r\n",
        "print()\r\n",
        "\r\n",
        "for score in scores:\r\n",
        "    print(score)"
      ],
      "execution_count": null,
      "outputs": [
        {
          "output_type": "stream",
          "text": [
            "100%|██████████| 4/4 [06:16<00:00, 94.19s/it] "
          ],
          "name": "stderr"
        },
        {
          "output_type": "stream",
          "text": [
            "\n",
            "Model LGBMClassifier \t Score 0.9714683368128044\n",
            "Model KNeighbors \t Score 0.9846903270702853\n",
            "Model RandomForest \t Score 0.9714683368128044\n",
            "Model MLPClassifier \t Score 0.9714683368128044\n"
          ],
          "name": "stdout"
        },
        {
          "output_type": "stream",
          "text": [
            "\n"
          ],
          "name": "stderr"
        }
      ]
    },
    {
      "cell_type": "code",
      "metadata": {
        "id": "T-1C3Np4amol"
      },
      "source": [
        "best_models = [(name, model(**params)) for (name, model), params in list(zip(models, best_params))]"
      ],
      "execution_count": null,
      "outputs": []
    },
    {
      "cell_type": "markdown",
      "metadata": {
        "id": "_gyR3gw6IrUR"
      },
      "source": [
        "Cross validation is used to train and test the model in different sets, providing us a mean and a standard deviation."
      ]
    },
    {
      "cell_type": "code",
      "metadata": {
        "id": "_FMNuyBGz4oK"
      },
      "source": [
        "cv = RepeatedStratifiedKFold(n_splits=5, n_repeats=2, random_state=0)"
      ],
      "execution_count": null,
      "outputs": []
    },
    {
      "cell_type": "code",
      "metadata": {
        "colab": {
          "base_uri": "https://localhost:8080/"
        },
        "id": "fjq4sDDq5euH",
        "outputId": "68a00bd7-11eb-4b8b-dbd2-36dbdc09ae81"
      },
      "source": [
        "result = []\r\n",
        "scores = dict()\r\n",
        "\r\n",
        "for name, model in tqdm(best_models):\r\n",
        "    score = cross_val_score(\r\n",
        "        model,\r\n",
        "        X_train,\r\n",
        "        y_train,\r\n",
        "        cv=cv,\r\n",
        "        scoring='accuracy',\r\n",
        "        n_jobs=-1)\r\n",
        "    scores[name] = sorted(score.tolist())\r\n",
        "    result.append([name, np.abs(np.median(score)), np.std(score)])"
      ],
      "execution_count": null,
      "outputs": [
        {
          "output_type": "stream",
          "text": [
            "100%|██████████| 4/4 [00:40<00:00, 10.04s/it]\n"
          ],
          "name": "stderr"
        }
      ]
    },
    {
      "cell_type": "code",
      "metadata": {
        "colab": {
          "base_uri": "https://localhost:8080/",
          "height": 175
        },
        "id": "efD9KxY-5vlY",
        "outputId": "3da19e00-a137-46e0-9cc7-029a1c8b3811"
      },
      "source": [
        "result = pd.DataFrame(result, columns=['Model', 'Median', 'Stddev'])\r\n",
        "result.sort_values(\r\n",
        "    by=['Median', 'Stddev'],\r\n",
        "    ascending=[False, True],\r\n",
        "    inplace=True)\r\n",
        "result.reset_index(drop=True, inplace=True)\r\n",
        "display(result)\r\n",
        "\r\n",
        "selected_model = list(filter(\r\n",
        "    lambda x: x[0] == result.iloc[0, 0], best_models))[0][1]"
      ],
      "execution_count": null,
      "outputs": [
        {
          "output_type": "display_data",
          "data": {
            "text/html": [
              "<div>\n",
              "<style scoped>\n",
              "    .dataframe tbody tr th:only-of-type {\n",
              "        vertical-align: middle;\n",
              "    }\n",
              "\n",
              "    .dataframe tbody tr th {\n",
              "        vertical-align: top;\n",
              "    }\n",
              "\n",
              "    .dataframe thead th {\n",
              "        text-align: right;\n",
              "    }\n",
              "</style>\n",
              "<table border=\"1\" class=\"dataframe\">\n",
              "  <thead>\n",
              "    <tr style=\"text-align: right;\">\n",
              "      <th></th>\n",
              "      <th>Model</th>\n",
              "      <th>Median</th>\n",
              "      <th>Stddev</th>\n",
              "    </tr>\n",
              "  </thead>\n",
              "  <tbody>\n",
              "    <tr>\n",
              "      <th>0</th>\n",
              "      <td>KNeighbors</td>\n",
              "      <td>0.986087</td>\n",
              "      <td>0.005031</td>\n",
              "    </tr>\n",
              "    <tr>\n",
              "      <th>1</th>\n",
              "      <td>LGBMClassifier</td>\n",
              "      <td>0.980873</td>\n",
              "      <td>0.011263</td>\n",
              "    </tr>\n",
              "    <tr>\n",
              "      <th>2</th>\n",
              "      <td>MLPClassifier</td>\n",
              "      <td>0.975610</td>\n",
              "      <td>0.011229</td>\n",
              "    </tr>\n",
              "    <tr>\n",
              "      <th>3</th>\n",
              "      <td>RandomForest</td>\n",
              "      <td>0.970383</td>\n",
              "      <td>0.007911</td>\n",
              "    </tr>\n",
              "  </tbody>\n",
              "</table>\n",
              "</div>"
            ],
            "text/plain": [
              "            Model    Median    Stddev\n",
              "0      KNeighbors  0.986087  0.005031\n",
              "1  LGBMClassifier  0.980873  0.011263\n",
              "2   MLPClassifier  0.975610  0.011229\n",
              "3    RandomForest  0.970383  0.007911"
            ]
          },
          "metadata": {
            "tags": []
          }
        }
      ]
    },
    {
      "cell_type": "code",
      "metadata": {
        "colab": {
          "base_uri": "https://localhost:8080/",
          "height": 323
        },
        "id": "S3VwWQzV6DmY",
        "outputId": "28529608-8b7e-4c5f-e451-5b37e77806fc"
      },
      "source": [
        "pd.DataFrame(scores).plot(\r\n",
        "    kind='kde',\r\n",
        "    figsize=(10,5),\r\n",
        "    xlabel='Predictions',\r\n",
        "    ylabel='Score',\r\n",
        "    sort_columns=True\r\n",
        ")\r\n",
        "plt.show()"
      ],
      "execution_count": null,
      "outputs": [
        {
          "output_type": "display_data",
          "data": {
            "image/png": "[encoded data removed]",
            "text/plain": [
              "<Figure size 720x360 with 1 Axes>"
            ]
          },
          "metadata": {
            "tags": [],
            "needs_background": "light"
          }
        }
      ]
    },
    {
      "cell_type": "markdown",
      "metadata": {
        "id": "V2Trb3kaITAJ"
      },
      "source": [
        "# Validation"
      ]
    },
    {
      "cell_type": "code",
      "metadata": {
        "colab": {
          "base_uri": "https://localhost:8080/",
          "height": 338
        },
        "id": "621yUoHHjxIB",
        "outputId": "07bca591-cdf1-4539-ec48-359a6f0b5803"
      },
      "source": [
        "_ = eval_model(selected_model, data.data, data.target, cv, 'accuracy')"
      ],
      "execution_count": null,
      "outputs": [
        {
          "output_type": "stream",
          "text": [
            "Median = 0.987484524914887 Stddev = 0.004664935402659129\n"
          ],
          "name": "stdout"
        },
        {
          "output_type": "display_data",
          "data": {
            "image/png": "[encoded data removed]",
            "text/plain": [
              "<Figure size 720x360 with 1 Axes>"
            ]
          },
          "metadata": {
            "tags": [],
            "needs_background": "light"
          }
        }
      ]
    },
    {
      "cell_type": "markdown",
      "metadata": {
        "id": "MmuyYwtRW3SY"
      },
      "source": [
        "# Voting classifier"
      ]
    },
    {
      "cell_type": "code",
      "metadata": {
        "id": "DaO6pfOSjsso"
      },
      "source": [
        "vclf = VotingClassifier(best_models, n_jobs=-1, voting='soft')"
      ],
      "execution_count": null,
      "outputs": []
    },
    {
      "cell_type": "code",
      "metadata": {
        "colab": {
          "base_uri": "https://localhost:8080/",
          "height": 340
        },
        "id": "t9ErEWlmWr75",
        "outputId": "c5e10b51-67ac-4538-bde5-735a08018e38"
      },
      "source": [
        "_ = eval_model(vclf, data.data, data.target, cv, 'accuracy')"
      ],
      "execution_count": null,
      "outputs": [
        {
          "output_type": "stream",
          "text": [
            "Median = 0.987484524914887 Stddev = 0.004737186751131345\n"
          ],
          "name": "stdout"
        },
        {
          "output_type": "display_data",
          "data": {
            "image/png": "[encoded data removed]",
            "text/plain": [
              "<Figure size 720x360 with 1 Axes>"
            ]
          },
          "metadata": {
            "tags": [],
            "needs_background": "light"
          }
        }
      ]
    },
    {
      "cell_type": "code",
      "metadata": {
        "id": "TGImkMlYnsah"
      },
      "source": [
        ""
      ],
      "execution_count": null,
      "outputs": []
    }
  ]
}